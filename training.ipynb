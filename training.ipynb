{
 "cells": [
  {
   "cell_type": "code",
   "execution_count": 1,
   "metadata": {},
   "outputs": [
    {
     "name": "stderr",
     "output_type": "stream",
     "text": [
      "/home/kaie/miniconda3/envs/discord/lib/python3.12/site-packages/tqdm/auto.py:21: TqdmWarning: IProgress not found. Please update jupyter and ipywidgets. See https://ipywidgets.readthedocs.io/en/stable/user_install.html\n",
      "  from .autonotebook import tqdm as notebook_tqdm\n"
     ]
    }
   ],
   "source": [
    "import torch\n",
    "import numpy as np\n",
    "from transformers import AutoModelForQuestionAnswering, AutoTokenizer, pipeline\n",
    "from transformers import AlbertTokenizer, AlbertModel\n",
    "from torch import cuda\n",
    "import pandas as pd\n",
    "import numpy as np\n",
    "import torch\n",
    "import transformers\n",
    "import json\n",
    "from tqdm import tqdm\n",
    "from torch.utils.data import Dataset, DataLoader\n",
    "from transformers import RobertaModel, RobertaTokenizer\n",
    "from torch.optim import Adam, AdamW\n",
    "from torch.nn import CrossEntropyLoss\n",
    "import logging\n",
    "from sklearn.model_selection import train_test_split\n",
    "from sklearn.metrics import accuracy_score\n",
    "import torch.optim as optim\n",
    "from torch.optim.lr_scheduler import CosineAnnealingLR, CosineAnnealingWarmRestarts\n",
    "\n",
    "device = 'cuda' if cuda.is_available() else 'cpu'\n"
   ]
  },
  {
   "cell_type": "code",
   "execution_count": 2,
   "metadata": {},
   "outputs": [],
   "source": [
    "class RobertaClass(torch.nn.Module):\n",
    "    def __init__(self):\n",
    "        super(RobertaClass, self).__init__()\n",
    "        self.l1 = RobertaModel.from_pretrained(\"roberta-base\")\n",
    "        self.pre_classifier = torch.nn.Linear(768, 768)\n",
    "        self.dropout = torch.nn.Dropout(0.3)\n",
    "        self.classifier = torch.nn.Linear(768, 2)\n",
    "        self.soft = torch.nn.Softmax(dim=1)\n",
    "\n",
    "    def forward(self, input_ids, attention_mask, token_type_ids):\n",
    "        output_1 = self.l1(input_ids=input_ids, attention_mask=attention_mask, token_type_ids=token_type_ids)\n",
    "        hidden_state = output_1[0]\n",
    "        pooler = hidden_state[:, 0]\n",
    "        pooler = self.pre_classifier(pooler)\n",
    "        pooler = torch.nn.ReLU()(pooler)\n",
    "        pooler = self.dropout(pooler)\n",
    "        output = self.classifier(pooler)\n",
    "        output = self.soft(output)\n",
    "        return output\n",
    "\n",
    "class AlbertClass(torch.nn.Module):\n",
    "    def __init__(self):\n",
    "        super(AlbertClass, self).__init__()\n",
    "        self.l1 = AlbertModel.from_pretrained(\"albert-large-v2\")\n",
    "        self.pre_classifier = torch.nn.Linear(1024 , 512 )\n",
    "        self.dropout = torch.nn.Dropout(0.3)\n",
    "        self.classifier = torch.nn.Linear(512 , 2)\n",
    "        self.soft = torch.nn.Softmax(dim=1)\n",
    "\n",
    "    def forward(self, input_ids, attention_mask, token_type_ids):\n",
    "        output_1 = self.l1(input_ids=input_ids, attention_mask=attention_mask, token_type_ids=token_type_ids)\n",
    "        # print(output_1)\n",
    "        hidden_state = output_1[0]\n",
    "        # print(hidden_state)\n",
    "        pooler = hidden_state[:, 0]\n",
    "        # print(pooler)\n",
    "        pooler = self.pre_classifier(pooler)\n",
    "        pooler = torch.nn.ReLU()(pooler)\n",
    "        pooler = self.dropout(pooler)\n",
    "        output = self.classifier(pooler)\n",
    "        output = self.soft(output)\n",
    "        return output"
   ]
  },
  {
   "cell_type": "code",
   "execution_count": 3,
   "metadata": {},
   "outputs": [
    {
     "name": "stderr",
     "output_type": "stream",
     "text": [
      "/home/kaie/miniconda3/envs/discord/lib/python3.12/site-packages/huggingface_hub/file_download.py:1132: FutureWarning: `resume_download` is deprecated and will be removed in version 1.0.0. Downloads always resume when possible. If you want to force a new download, use `force_download=True`.\n",
      "  warnings.warn(\n",
      "Some weights of RobertaModel were not initialized from the model checkpoint at roberta-base and are newly initialized: ['roberta.pooler.dense.bias', 'roberta.pooler.dense.weight']\n",
      "You should probably TRAIN this model on a down-stream task to be able to use it for predictions and inference.\n"
     ]
    }
   ],
   "source": [
    "# model = AlbertClass()\n",
    "model = RobertaClass()\n",
    "# model = torch.load('models/roberta_loss_0.3265.pth')\n",
    "model.to(device)\n",
    "tokenizer = RobertaTokenizer.from_pretrained('roberta-base', truncation=True, do_lower_case=True)\n",
    "# tokenizer = AlbertTokenizer.from_pretrained('albert-xlarge-v2', truncation=True, do_lower_case=True)\n"
   ]
  },
  {
   "cell_type": "code",
   "execution_count": null,
   "metadata": {},
   "outputs": [],
   "source": []
  },
  {
   "cell_type": "code",
   "execution_count": 4,
   "metadata": {},
   "outputs": [],
   "source": [
    "\n",
    "# input = tokenizer(text = \"Testimony two, or the testimony of the security officer. Too formal language, the time is off (the event happened at 11 pm), the suspect was on a different street (Kings Street), didn't even try to stop the suspect.\" , text_pair=\"The officer's testimony, needless to say, was far too formal, and it incorrectly documented the wrong time, specifically 11 pm, also inaccurately pinpointing the wrong street, and, regrettably, there was no attempt made to chase the suspect.\", return_tensors='pt', return_token_type_ids=True )\n",
    "# print(input)\n",
    "# token_type_ids = input['token_type_ids'].to(device)\n",
    "\n",
    "# mask = input['attention_mask'].to(device)\n",
    "# tokens = input['input_ids'].to(device)\n",
    "# print(tokens.shape)\n",
    "# # print(tokens)\n",
    "# model.eval()\n",
    "\n",
    "# print(model(tokens, mask, token_type_ids)[0][0])\n",
    "# print(model(tokens, mask, token_type_ids)[0][1])"
   ]
  },
  {
   "cell_type": "code",
   "execution_count": 5,
   "metadata": {},
   "outputs": [],
   "source": [
    "\n",
    "df = pd.read_excel(\"Is it real_ (Responses).xlsx\", sheet_name=\"Form Responses 1\")"
   ]
  },
  {
   "cell_type": "code",
   "execution_count": 6,
   "metadata": {},
   "outputs": [],
   "source": [
    "Promopt = df['Correct']\n",
    "X = df['Problem 1']\n",
    "Y = df['Ground Truth'].to_list()\n",
    "z = [[a, b] for a, b in zip(Promopt, X)]\n"
   ]
  },
  {
   "cell_type": "code",
   "execution_count": 7,
   "metadata": {},
   "outputs": [
    {
     "name": "stdout",
     "output_type": "stream",
     "text": [
      "2079\n",
      "520\n"
     ]
    }
   ],
   "source": [
    "\n",
    "\n",
    "X_train, X_test, y_train, y_test = train_test_split(z, Y , test_size=0.2)\n",
    "# X_train = z\n",
    "# y_train = Y\n",
    "\n",
    "print(len(X_train))\n",
    "\n",
    "print(len(X_test))"
   ]
  },
  {
   "cell_type": "code",
   "execution_count": 8,
   "metadata": {},
   "outputs": [],
   "source": [
    "class CustomDataset(Dataset):\n",
    "    def __init__(self, texts, targets, tokenizer, max_len):\n",
    "        self.texts = texts\n",
    "        self.targets = targets\n",
    "        self.tokenizer = tokenizer\n",
    "        self.max_len = max_len\n",
    "\n",
    "    def __len__(self):\n",
    "        return len(self.texts)\n",
    "\n",
    "    def __getitem__(self, index):\n",
    "        # print(f\"Accessing index: {index}\")\n",
    "        # print(f\"Total texts: {len(self.texts)}, Total targets: {len(self.targets)}\")\n",
    "\n",
    "        # if index >= len(self.texts) or index >= len(self.targets):\n",
    "        #     raise IndexError(f\"Index {index} out of bounds for dataset with {len(self.texts)} texts and {len(self.targets)} targets\")\n",
    "\n",
    "        text = self.texts[index][0].strip().lower()\n",
    "        answer = self.texts[index][1].strip().lower()\n",
    "        target = self.targets[index]\n",
    "        encoding = self.tokenizer.encode_plus(\n",
    "            text=text,\n",
    "            text_pair=answer,\n",
    "            add_special_tokens=True,\n",
    "            max_length=self.max_len,\n",
    "            return_token_type_ids=True,\n",
    "            padding='max_length',\n",
    "            truncation=True,\n",
    "            return_attention_mask=True,\n",
    "            return_tensors='pt',\n",
    "        )\n",
    "\n",
    "        return {\n",
    "            'input_ids': encoding['input_ids'].flatten(),\n",
    "            'attention_mask': encoding['attention_mask'].flatten(),\n",
    "            'token_type_ids': encoding['token_type_ids'].flatten(),\n",
    "            'targets': torch.tensor(target, dtype=torch.long)\n",
    "        }\n"
   ]
  },
  {
   "cell_type": "code",
   "execution_count": 9,
   "metadata": {},
   "outputs": [
    {
     "name": "stdout",
     "output_type": "stream",
     "text": [
      "160\n"
     ]
    }
   ],
   "source": [
    "max_len = 512\n",
    "batch_size = 13\n",
    "epochs = 10000\n",
    "train_dataset = CustomDataset(X_train, y_train, tokenizer, max_len)\n",
    "train_loader = DataLoader(train_dataset, batch_size=batch_size, shuffle=True)\n",
    "test_dataset = CustomDataset(X_test, y_test, tokenizer, max_len)\n",
    "test_loader = DataLoader(test_dataset, batch_size=1, shuffle=True)\n",
    "\n",
    "optimizer = AdamW(model.parameters(), lr=5e-6, weight_decay=0.01)\n",
    "print(len(train_loader))\n",
    "scheduler = CosineAnnealingWarmRestarts(optimizer, T_0=5 * len(train_loader))\n",
    "criterion = CrossEntropyLoss()"
   ]
  },
  {
   "cell_type": "code",
   "execution_count": 10,
   "metadata": {},
   "outputs": [],
   "source": [
    "lowest_loss = 0.35"
   ]
  },
  {
   "cell_type": "code",
   "execution_count": 11,
   "metadata": {},
   "outputs": [
    {
     "name": "stderr",
     "output_type": "stream",
     "text": [
      "Training: Epoch 1/10000: 100%|██████████| 160/160 [00:47<00:00,  3.34it/s]\n"
     ]
    },
    {
     "name": "stdout",
     "output_type": "stream",
     "text": [
      "Epoch 1, Loss: 0.657245, Accuracy: 0.613276, learning rate: 0.0000045225\n"
     ]
    },
    {
     "name": "stderr",
     "output_type": "stream",
     "text": [
      "Validation: Epoch 1/10000: 100%|██████████| 520/520 [00:05<00:00, 96.36it/s]\n"
     ]
    },
    {
     "name": "stdout",
     "output_type": "stream",
     "text": [
      "Validation 1, Loss: 0.586139, Accuracy: 0.684615\n"
     ]
    },
    {
     "name": "stderr",
     "output_type": "stream",
     "text": [
      "Training: Epoch 2/10000: 100%|██████████| 160/160 [00:54<00:00,  2.94it/s]\n"
     ]
    },
    {
     "name": "stdout",
     "output_type": "stream",
     "text": [
      "Epoch 2, Loss: 0.493050, Accuracy: 0.826359, learning rate: 0.0000032725\n"
     ]
    },
    {
     "name": "stderr",
     "output_type": "stream",
     "text": [
      "Validation: Epoch 2/10000: 100%|██████████| 520/520 [00:06<00:00, 82.28it/s]\n"
     ]
    },
    {
     "name": "stdout",
     "output_type": "stream",
     "text": [
      "Validation 2, Loss: 0.401201, Accuracy: 0.917308\n"
     ]
    },
    {
     "name": "stderr",
     "output_type": "stream",
     "text": [
      "Training: Epoch 3/10000: 100%|██████████| 160/160 [00:55<00:00,  2.87it/s]\n"
     ]
    },
    {
     "name": "stdout",
     "output_type": "stream",
     "text": [
      "Epoch 3, Loss: 0.379211, Accuracy: 0.947571, learning rate: 0.0000017275\n"
     ]
    },
    {
     "name": "stderr",
     "output_type": "stream",
     "text": [
      "Validation: Epoch 3/10000: 100%|██████████| 520/520 [00:06<00:00, 82.13it/s]\n"
     ]
    },
    {
     "name": "stdout",
     "output_type": "stream",
     "text": [
      "Validation 3, Loss: 0.363667, Accuracy: 0.951923\n"
     ]
    },
    {
     "name": "stderr",
     "output_type": "stream",
     "text": [
      "Training: Epoch 4/10000: 100%|██████████| 160/160 [00:56<00:00,  2.81it/s]\n"
     ]
    },
    {
     "name": "stdout",
     "output_type": "stream",
     "text": [
      "Epoch 4, Loss: 0.357429, Accuracy: 0.963444, learning rate: 0.0000004775\n"
     ]
    },
    {
     "name": "stderr",
     "output_type": "stream",
     "text": [
      "Validation: Epoch 4/10000: 100%|██████████| 520/520 [00:06<00:00, 80.53it/s]\n"
     ]
    },
    {
     "name": "stdout",
     "output_type": "stream",
     "text": [
      "Validation 4, Loss: 0.355528, Accuracy: 0.957692\n"
     ]
    },
    {
     "name": "stderr",
     "output_type": "stream",
     "text": [
      "Training: Epoch 5/10000: 100%|██████████| 160/160 [00:55<00:00,  2.88it/s]\n"
     ]
    },
    {
     "name": "stdout",
     "output_type": "stream",
     "text": [
      "Epoch 5, Loss: 0.346370, Accuracy: 0.969697, learning rate: 0.0000050000\n"
     ]
    },
    {
     "name": "stderr",
     "output_type": "stream",
     "text": [
      "Validation: Epoch 5/10000: 100%|██████████| 520/520 [00:06<00:00, 86.04it/s]\n"
     ]
    },
    {
     "name": "stdout",
     "output_type": "stream",
     "text": [
      "Validation 5, Loss: 0.350735, Accuracy: 0.961538\n"
     ]
    },
    {
     "name": "stderr",
     "output_type": "stream",
     "text": [
      "Training: Epoch 6/10000: 100%|██████████| 160/160 [00:55<00:00,  2.89it/s]\n"
     ]
    },
    {
     "name": "stdout",
     "output_type": "stream",
     "text": [
      "Epoch 6, Loss: 0.355000, Accuracy: 0.960077, learning rate: 0.0000045225\n"
     ]
    },
    {
     "name": "stderr",
     "output_type": "stream",
     "text": [
      "Validation: Epoch 6/10000: 100%|██████████| 520/520 [00:06<00:00, 80.10it/s]\n"
     ]
    },
    {
     "name": "stdout",
     "output_type": "stream",
     "text": [
      "Validation 6, Loss: 0.341201, Accuracy: 0.971154\n"
     ]
    },
    {
     "name": "stderr",
     "output_type": "stream",
     "text": [
      "Training: Epoch 7/10000: 100%|██████████| 160/160 [00:55<00:00,  2.87it/s]\n"
     ]
    },
    {
     "name": "stdout",
     "output_type": "stream",
     "text": [
      "Epoch 7, Loss: 0.341867, Accuracy: 0.972583, learning rate: 0.0000032725\n"
     ]
    },
    {
     "name": "stderr",
     "output_type": "stream",
     "text": [
      "Validation: Epoch 7/10000: 100%|██████████| 520/520 [00:06<00:00, 85.02it/s]\n"
     ]
    },
    {
     "name": "stdout",
     "output_type": "stream",
     "text": [
      "Validation 7, Loss: 0.347142, Accuracy: 0.963462\n"
     ]
    },
    {
     "name": "stderr",
     "output_type": "stream",
     "text": [
      "Training: Epoch 8/10000: 100%|██████████| 160/160 [00:54<00:00,  2.92it/s]\n"
     ]
    },
    {
     "name": "stdout",
     "output_type": "stream",
     "text": [
      "Epoch 8, Loss: 0.333476, Accuracy: 0.980760, learning rate: 0.0000017275\n"
     ]
    },
    {
     "name": "stderr",
     "output_type": "stream",
     "text": [
      "Validation: Epoch 8/10000: 100%|██████████| 520/520 [00:06<00:00, 85.71it/s]\n"
     ]
    },
    {
     "name": "stdout",
     "output_type": "stream",
     "text": [
      "Validation 8, Loss: 0.332103, Accuracy: 0.980769\n"
     ]
    },
    {
     "name": "stderr",
     "output_type": "stream",
     "text": [
      "Training: Epoch 9/10000: 100%|██████████| 160/160 [00:54<00:00,  2.91it/s]\n"
     ]
    },
    {
     "name": "stdout",
     "output_type": "stream",
     "text": [
      "Epoch 9, Loss: 0.327134, Accuracy: 0.988456, learning rate: 0.0000004775\n"
     ]
    },
    {
     "name": "stderr",
     "output_type": "stream",
     "text": [
      "Validation: Epoch 9/10000: 100%|██████████| 520/520 [00:05<00:00, 86.98it/s]\n"
     ]
    },
    {
     "name": "stdout",
     "output_type": "stream",
     "text": [
      "Validation 9, Loss: 0.331119, Accuracy: 0.982692\n"
     ]
    },
    {
     "name": "stderr",
     "output_type": "stream",
     "text": [
      "Training: Epoch 10/10000: 100%|██████████| 160/160 [00:54<00:00,  2.92it/s]\n"
     ]
    },
    {
     "name": "stdout",
     "output_type": "stream",
     "text": [
      "Epoch 10, Loss: 0.324782, Accuracy: 0.989418, learning rate: 0.0000050000\n"
     ]
    },
    {
     "name": "stderr",
     "output_type": "stream",
     "text": [
      "Validation: Epoch 10/10000: 100%|██████████| 520/520 [00:06<00:00, 81.01it/s]\n"
     ]
    },
    {
     "name": "stdout",
     "output_type": "stream",
     "text": [
      "Validation 10, Loss: 0.331360, Accuracy: 0.982692\n"
     ]
    },
    {
     "name": "stderr",
     "output_type": "stream",
     "text": [
      "Training: Epoch 11/10000: 100%|██████████| 160/160 [00:54<00:00,  2.94it/s]\n"
     ]
    },
    {
     "name": "stdout",
     "output_type": "stream",
     "text": [
      "Epoch 11, Loss: 0.349161, Accuracy: 0.963444, learning rate: 0.0000045225\n"
     ]
    },
    {
     "name": "stderr",
     "output_type": "stream",
     "text": [
      "Validation: Epoch 11/10000: 100%|██████████| 520/520 [00:06<00:00, 82.53it/s]\n"
     ]
    },
    {
     "name": "stdout",
     "output_type": "stream",
     "text": [
      "Validation 11, Loss: 0.331194, Accuracy: 0.982692\n"
     ]
    },
    {
     "name": "stderr",
     "output_type": "stream",
     "text": [
      "Training: Epoch 12/10000: 100%|██████████| 160/160 [00:54<00:00,  2.91it/s]\n"
     ]
    },
    {
     "name": "stdout",
     "output_type": "stream",
     "text": [
      "Epoch 12, Loss: 0.333581, Accuracy: 0.980279, learning rate: 0.0000032725\n"
     ]
    },
    {
     "name": "stderr",
     "output_type": "stream",
     "text": [
      "Validation: Epoch 12/10000: 100%|██████████| 520/520 [00:06<00:00, 81.10it/s]\n"
     ]
    },
    {
     "name": "stdout",
     "output_type": "stream",
     "text": [
      "Validation 12, Loss: 0.323856, Accuracy: 0.990385\n"
     ]
    },
    {
     "name": "stderr",
     "output_type": "stream",
     "text": [
      "Training: Epoch 13/10000: 100%|██████████| 160/160 [00:55<00:00,  2.90it/s]\n"
     ]
    },
    {
     "name": "stdout",
     "output_type": "stream",
     "text": [
      "Epoch 13, Loss: 0.323612, Accuracy: 0.990861, learning rate: 0.0000017275\n"
     ]
    },
    {
     "name": "stderr",
     "output_type": "stream",
     "text": [
      "Validation: Epoch 13/10000: 100%|██████████| 520/520 [00:06<00:00, 86.13it/s]\n"
     ]
    },
    {
     "name": "stdout",
     "output_type": "stream",
     "text": [
      "Validation 13, Loss: 0.330152, Accuracy: 0.982692\n"
     ]
    },
    {
     "name": "stderr",
     "output_type": "stream",
     "text": [
      "Training: Epoch 14/10000: 100%|██████████| 160/160 [00:54<00:00,  2.93it/s]\n"
     ]
    },
    {
     "name": "stdout",
     "output_type": "stream",
     "text": [
      "Epoch 14, Loss: 0.322438, Accuracy: 0.991342, learning rate: 0.0000004775\n"
     ]
    },
    {
     "name": "stderr",
     "output_type": "stream",
     "text": [
      "Validation: Epoch 14/10000: 100%|██████████| 520/520 [00:06<00:00, 82.18it/s]\n"
     ]
    },
    {
     "name": "stdout",
     "output_type": "stream",
     "text": [
      "Validation 14, Loss: 0.327175, Accuracy: 0.986538\n"
     ]
    },
    {
     "name": "stderr",
     "output_type": "stream",
     "text": [
      "Training: Epoch 15/10000: 100%|██████████| 160/160 [00:55<00:00,  2.90it/s]\n"
     ]
    },
    {
     "name": "stdout",
     "output_type": "stream",
     "text": [
      "Epoch 15, Loss: 0.322221, Accuracy: 0.990861, learning rate: 0.0000050000\n"
     ]
    },
    {
     "name": "stderr",
     "output_type": "stream",
     "text": [
      "Validation: Epoch 15/10000: 100%|██████████| 520/520 [00:06<00:00, 84.98it/s]\n"
     ]
    },
    {
     "name": "stdout",
     "output_type": "stream",
     "text": [
      "Validation 15, Loss: 0.327209, Accuracy: 0.986538\n"
     ]
    },
    {
     "name": "stderr",
     "output_type": "stream",
     "text": [
      "Training: Epoch 16/10000: 100%|██████████| 160/160 [00:56<00:00,  2.86it/s]\n"
     ]
    },
    {
     "name": "stdout",
     "output_type": "stream",
     "text": [
      "Epoch 16, Loss: 0.326130, Accuracy: 0.987494, learning rate: 0.0000045225\n"
     ]
    },
    {
     "name": "stderr",
     "output_type": "stream",
     "text": [
      "Validation: Epoch 16/10000: 100%|██████████| 520/520 [00:06<00:00, 80.88it/s]\n"
     ]
    },
    {
     "name": "stdout",
     "output_type": "stream",
     "text": [
      "Validation 16, Loss: 0.336647, Accuracy: 0.975000\n"
     ]
    },
    {
     "name": "stderr",
     "output_type": "stream",
     "text": [
      "Training: Epoch 17/10000: 100%|██████████| 160/160 [00:54<00:00,  2.91it/s]\n"
     ]
    },
    {
     "name": "stdout",
     "output_type": "stream",
     "text": [
      "Epoch 17, Loss: 0.329187, Accuracy: 0.984127, learning rate: 0.0000032725\n"
     ]
    },
    {
     "name": "stderr",
     "output_type": "stream",
     "text": [
      "Validation: Epoch 17/10000: 100%|██████████| 520/520 [00:06<00:00, 79.93it/s]\n"
     ]
    },
    {
     "name": "stdout",
     "output_type": "stream",
     "text": [
      "Validation 17, Loss: 0.326580, Accuracy: 0.986538\n"
     ]
    },
    {
     "name": "stderr",
     "output_type": "stream",
     "text": [
      "Training: Epoch 18/10000: 100%|██████████| 160/160 [00:54<00:00,  2.92it/s]\n"
     ]
    },
    {
     "name": "stdout",
     "output_type": "stream",
     "text": [
      "Epoch 18, Loss: 0.322155, Accuracy: 0.991823, learning rate: 0.0000017275\n"
     ]
    },
    {
     "name": "stderr",
     "output_type": "stream",
     "text": [
      "Validation: Epoch 18/10000: 100%|██████████| 520/520 [00:06<00:00, 79.74it/s]\n"
     ]
    },
    {
     "name": "stdout",
     "output_type": "stream",
     "text": [
      "Validation 18, Loss: 0.328538, Accuracy: 0.984615\n"
     ]
    },
    {
     "name": "stderr",
     "output_type": "stream",
     "text": [
      "Training: Epoch 19/10000: 100%|██████████| 160/160 [00:55<00:00,  2.89it/s]\n"
     ]
    },
    {
     "name": "stdout",
     "output_type": "stream",
     "text": [
      "Epoch 19, Loss: 0.320403, Accuracy: 0.993266, learning rate: 0.0000004775\n"
     ]
    },
    {
     "name": "stderr",
     "output_type": "stream",
     "text": [
      "Validation: Epoch 19/10000: 100%|██████████| 520/520 [00:06<00:00, 80.20it/s]\n"
     ]
    },
    {
     "name": "stdout",
     "output_type": "stream",
     "text": [
      "Validation 19, Loss: 0.329561, Accuracy: 0.982692\n"
     ]
    },
    {
     "name": "stderr",
     "output_type": "stream",
     "text": [
      "Training: Epoch 20/10000: 100%|██████████| 160/160 [00:55<00:00,  2.89it/s]\n"
     ]
    },
    {
     "name": "stdout",
     "output_type": "stream",
     "text": [
      "Epoch 20, Loss: 0.320740, Accuracy: 0.992785, learning rate: 0.0000050000\n"
     ]
    },
    {
     "name": "stderr",
     "output_type": "stream",
     "text": [
      "Validation: Epoch 20/10000: 100%|██████████| 520/520 [00:06<00:00, 80.37it/s]\n"
     ]
    },
    {
     "name": "stdout",
     "output_type": "stream",
     "text": [
      "Validation 20, Loss: 0.328474, Accuracy: 0.984615\n"
     ]
    },
    {
     "name": "stderr",
     "output_type": "stream",
     "text": [
      "Training: Epoch 21/10000: 100%|██████████| 160/160 [00:53<00:00,  2.98it/s]\n"
     ]
    },
    {
     "name": "stdout",
     "output_type": "stream",
     "text": [
      "Epoch 21, Loss: 0.340632, Accuracy: 0.973064, learning rate: 0.0000045225\n"
     ]
    },
    {
     "name": "stderr",
     "output_type": "stream",
     "text": [
      "Validation: Epoch 21/10000: 100%|██████████| 520/520 [00:05<00:00, 88.41it/s]\n"
     ]
    },
    {
     "name": "stdout",
     "output_type": "stream",
     "text": [
      "Validation 21, Loss: 0.335122, Accuracy: 0.975000\n"
     ]
    },
    {
     "name": "stderr",
     "output_type": "stream",
     "text": [
      "Training: Epoch 22/10000: 100%|██████████| 160/160 [00:51<00:00,  3.12it/s]\n"
     ]
    },
    {
     "name": "stdout",
     "output_type": "stream",
     "text": [
      "Epoch 22, Loss: 0.326467, Accuracy: 0.987013, learning rate: 0.0000032725\n"
     ]
    },
    {
     "name": "stderr",
     "output_type": "stream",
     "text": [
      "Validation: Epoch 22/10000: 100%|██████████| 520/520 [00:05<00:00, 86.85it/s]\n"
     ]
    },
    {
     "name": "stdout",
     "output_type": "stream",
     "text": [
      "Validation 22, Loss: 0.328788, Accuracy: 0.984615\n"
     ]
    },
    {
     "name": "stderr",
     "output_type": "stream",
     "text": [
      "Training: Epoch 23/10000: 100%|██████████| 160/160 [00:51<00:00,  3.10it/s]\n"
     ]
    },
    {
     "name": "stdout",
     "output_type": "stream",
     "text": [
      "Epoch 23, Loss: 0.325826, Accuracy: 0.987013, learning rate: 0.0000017275\n"
     ]
    },
    {
     "name": "stderr",
     "output_type": "stream",
     "text": [
      "Validation: Epoch 23/10000: 100%|██████████| 520/520 [00:05<00:00, 91.84it/s]\n"
     ]
    },
    {
     "name": "stdout",
     "output_type": "stream",
     "text": [
      "Validation 23, Loss: 0.325913, Accuracy: 0.988462\n"
     ]
    },
    {
     "name": "stderr",
     "output_type": "stream",
     "text": [
      "Training: Epoch 24/10000: 100%|██████████| 160/160 [00:51<00:00,  3.10it/s]\n"
     ]
    },
    {
     "name": "stdout",
     "output_type": "stream",
     "text": [
      "Epoch 24, Loss: 0.321624, Accuracy: 0.991823, learning rate: 0.0000004775\n"
     ]
    },
    {
     "name": "stderr",
     "output_type": "stream",
     "text": [
      "Validation: Epoch 24/10000: 100%|██████████| 520/520 [00:06<00:00, 83.21it/s]\n"
     ]
    },
    {
     "name": "stdout",
     "output_type": "stream",
     "text": [
      "Validation 24, Loss: 0.331343, Accuracy: 0.980769\n"
     ]
    },
    {
     "name": "stderr",
     "output_type": "stream",
     "text": [
      "Training: Epoch 25/10000: 100%|██████████| 160/160 [00:51<00:00,  3.11it/s]\n"
     ]
    },
    {
     "name": "stdout",
     "output_type": "stream",
     "text": [
      "Epoch 25, Loss: 0.321684, Accuracy: 0.991823, learning rate: 0.0000050000\n"
     ]
    },
    {
     "name": "stderr",
     "output_type": "stream",
     "text": [
      "Validation: Epoch 25/10000: 100%|██████████| 520/520 [00:05<00:00, 89.68it/s]\n"
     ]
    },
    {
     "name": "stdout",
     "output_type": "stream",
     "text": [
      "Validation 25, Loss: 0.328205, Accuracy: 0.984615\n"
     ]
    },
    {
     "name": "stderr",
     "output_type": "stream",
     "text": [
      "Training: Epoch 26/10000: 100%|██████████| 160/160 [00:51<00:00,  3.09it/s]\n"
     ]
    },
    {
     "name": "stdout",
     "output_type": "stream",
     "text": [
      "Epoch 26, Loss: 0.325973, Accuracy: 0.987494, learning rate: 0.0000045225\n"
     ]
    },
    {
     "name": "stderr",
     "output_type": "stream",
     "text": [
      "Validation: Epoch 26/10000: 100%|██████████| 520/520 [00:05<00:00, 90.19it/s]\n"
     ]
    },
    {
     "name": "stdout",
     "output_type": "stream",
     "text": [
      "Validation 26, Loss: 0.336215, Accuracy: 0.975000\n"
     ]
    },
    {
     "name": "stderr",
     "output_type": "stream",
     "text": [
      "Training: Epoch 27/10000: 100%|██████████| 160/160 [00:51<00:00,  3.10it/s]\n"
     ]
    },
    {
     "name": "stdout",
     "output_type": "stream",
     "text": [
      "Epoch 27, Loss: 0.323383, Accuracy: 0.989418, learning rate: 0.0000032725\n"
     ]
    },
    {
     "name": "stderr",
     "output_type": "stream",
     "text": [
      "Validation: Epoch 27/10000: 100%|██████████| 520/520 [00:05<00:00, 89.49it/s]\n"
     ]
    },
    {
     "name": "stdout",
     "output_type": "stream",
     "text": [
      "Validation 27, Loss: 0.327360, Accuracy: 0.986538\n"
     ]
    },
    {
     "name": "stderr",
     "output_type": "stream",
     "text": [
      "Training: Epoch 28/10000: 100%|██████████| 160/160 [00:51<00:00,  3.11it/s]\n"
     ]
    },
    {
     "name": "stdout",
     "output_type": "stream",
     "text": [
      "Epoch 28, Loss: 0.324551, Accuracy: 0.988456, learning rate: 0.0000017275\n"
     ]
    },
    {
     "name": "stderr",
     "output_type": "stream",
     "text": [
      "Validation: Epoch 28/10000: 100%|██████████| 520/520 [00:05<00:00, 86.92it/s]\n"
     ]
    },
    {
     "name": "stdout",
     "output_type": "stream",
     "text": [
      "Validation 28, Loss: 0.323606, Accuracy: 0.990385\n"
     ]
    },
    {
     "name": "stderr",
     "output_type": "stream",
     "text": [
      "Training: Epoch 29/10000: 100%|██████████| 160/160 [00:51<00:00,  3.12it/s]\n"
     ]
    },
    {
     "name": "stdout",
     "output_type": "stream",
     "text": [
      "Epoch 29, Loss: 0.319999, Accuracy: 0.993266, learning rate: 0.0000004775\n"
     ]
    },
    {
     "name": "stderr",
     "output_type": "stream",
     "text": [
      "Validation: Epoch 29/10000: 100%|██████████| 520/520 [00:05<00:00, 92.59it/s]\n"
     ]
    },
    {
     "name": "stdout",
     "output_type": "stream",
     "text": [
      "Validation 29, Loss: 0.323151, Accuracy: 0.990385\n"
     ]
    },
    {
     "name": "stderr",
     "output_type": "stream",
     "text": [
      "Training: Epoch 30/10000: 100%|██████████| 160/160 [00:51<00:00,  3.11it/s]\n"
     ]
    },
    {
     "name": "stdout",
     "output_type": "stream",
     "text": [
      "Epoch 30, Loss: 0.319539, Accuracy: 0.993747, learning rate: 0.0000050000\n"
     ]
    },
    {
     "name": "stderr",
     "output_type": "stream",
     "text": [
      "Validation: Epoch 30/10000: 100%|██████████| 520/520 [00:06<00:00, 84.65it/s]\n"
     ]
    },
    {
     "name": "stdout",
     "output_type": "stream",
     "text": [
      "Validation 30, Loss: 0.323378, Accuracy: 0.990385\n"
     ]
    },
    {
     "name": "stderr",
     "output_type": "stream",
     "text": [
      "Training: Epoch 31/10000: 100%|██████████| 160/160 [00:51<00:00,  3.10it/s]\n"
     ]
    },
    {
     "name": "stdout",
     "output_type": "stream",
     "text": [
      "Epoch 31, Loss: 0.324236, Accuracy: 0.988456, learning rate: 0.0000045225\n"
     ]
    },
    {
     "name": "stderr",
     "output_type": "stream",
     "text": [
      "Validation: Epoch 31/10000: 100%|██████████| 520/520 [00:05<00:00, 91.66it/s]\n"
     ]
    },
    {
     "name": "stdout",
     "output_type": "stream",
     "text": [
      "Validation 31, Loss: 0.328438, Accuracy: 0.984615\n"
     ]
    },
    {
     "name": "stderr",
     "output_type": "stream",
     "text": [
      "Training: Epoch 32/10000: 100%|██████████| 160/160 [00:50<00:00,  3.14it/s]\n"
     ]
    },
    {
     "name": "stdout",
     "output_type": "stream",
     "text": [
      "Epoch 32, Loss: 0.324551, Accuracy: 0.988937, learning rate: 0.0000032725\n"
     ]
    },
    {
     "name": "stderr",
     "output_type": "stream",
     "text": [
      "Validation: Epoch 32/10000: 100%|██████████| 520/520 [00:05<00:00, 88.27it/s]\n"
     ]
    },
    {
     "name": "stdout",
     "output_type": "stream",
     "text": [
      "Validation 32, Loss: 0.328579, Accuracy: 0.984615\n"
     ]
    },
    {
     "name": "stderr",
     "output_type": "stream",
     "text": [
      "Training: Epoch 33/10000: 100%|██████████| 160/160 [00:51<00:00,  3.11it/s]\n"
     ]
    },
    {
     "name": "stdout",
     "output_type": "stream",
     "text": [
      "Epoch 33, Loss: 0.323305, Accuracy: 0.989418, learning rate: 0.0000017275\n"
     ]
    },
    {
     "name": "stderr",
     "output_type": "stream",
     "text": [
      "Validation: Epoch 33/10000: 100%|██████████| 520/520 [00:05<00:00, 87.67it/s]\n"
     ]
    },
    {
     "name": "stdout",
     "output_type": "stream",
     "text": [
      "Validation 33, Loss: 0.332443, Accuracy: 0.980769\n"
     ]
    },
    {
     "name": "stderr",
     "output_type": "stream",
     "text": [
      "Training: Epoch 34/10000: 100%|██████████| 160/160 [00:51<00:00,  3.09it/s]\n"
     ]
    },
    {
     "name": "stdout",
     "output_type": "stream",
     "text": [
      "Epoch 34, Loss: 0.318925, Accuracy: 0.994228, learning rate: 0.0000004775\n"
     ]
    },
    {
     "name": "stderr",
     "output_type": "stream",
     "text": [
      "Validation: Epoch 34/10000: 100%|██████████| 520/520 [00:06<00:00, 85.12it/s]\n"
     ]
    },
    {
     "name": "stdout",
     "output_type": "stream",
     "text": [
      "Validation 34, Loss: 0.327799, Accuracy: 0.986538\n"
     ]
    },
    {
     "name": "stderr",
     "output_type": "stream",
     "text": [
      "Training: Epoch 35/10000: 100%|██████████| 160/160 [00:51<00:00,  3.10it/s]\n"
     ]
    },
    {
     "name": "stdout",
     "output_type": "stream",
     "text": [
      "Epoch 35, Loss: 0.318233, Accuracy: 0.995190, learning rate: 0.0000050000\n"
     ]
    },
    {
     "name": "stderr",
     "output_type": "stream",
     "text": [
      "Validation: Epoch 35/10000: 100%|██████████| 520/520 [00:05<00:00, 91.69it/s]\n"
     ]
    },
    {
     "name": "stdout",
     "output_type": "stream",
     "text": [
      "Validation 35, Loss: 0.327785, Accuracy: 0.986538\n"
     ]
    },
    {
     "name": "stderr",
     "output_type": "stream",
     "text": [
      "Training: Epoch 36/10000: 100%|██████████| 160/160 [00:51<00:00,  3.11it/s]\n"
     ]
    },
    {
     "name": "stdout",
     "output_type": "stream",
     "text": [
      "Epoch 36, Loss: 0.321880, Accuracy: 0.991823, learning rate: 0.0000045225\n"
     ]
    },
    {
     "name": "stderr",
     "output_type": "stream",
     "text": [
      "Validation: Epoch 36/10000: 100%|██████████| 520/520 [00:06<00:00, 86.19it/s]\n"
     ]
    },
    {
     "name": "stdout",
     "output_type": "stream",
     "text": [
      "Validation 36, Loss: 0.321250, Accuracy: 0.992308\n"
     ]
    },
    {
     "name": "stderr",
     "output_type": "stream",
     "text": [
      "Training: Epoch 37/10000: 100%|██████████| 160/160 [00:51<00:00,  3.09it/s]\n"
     ]
    },
    {
     "name": "stdout",
     "output_type": "stream",
     "text": [
      "Epoch 37, Loss: 0.323780, Accuracy: 0.989418, learning rate: 0.0000032725\n"
     ]
    },
    {
     "name": "stderr",
     "output_type": "stream",
     "text": [
      "Validation: Epoch 37/10000: 100%|██████████| 520/520 [00:05<00:00, 89.15it/s]\n"
     ]
    },
    {
     "name": "stdout",
     "output_type": "stream",
     "text": [
      "Validation 37, Loss: 0.324321, Accuracy: 0.988462\n"
     ]
    },
    {
     "name": "stderr",
     "output_type": "stream",
     "text": [
      "Training: Epoch 38/10000: 100%|██████████| 160/160 [00:50<00:00,  3.16it/s]\n"
     ]
    },
    {
     "name": "stdout",
     "output_type": "stream",
     "text": [
      "Epoch 38, Loss: 0.319700, Accuracy: 0.993266, learning rate: 0.0000017275\n"
     ]
    },
    {
     "name": "stderr",
     "output_type": "stream",
     "text": [
      "Validation: Epoch 38/10000: 100%|██████████| 520/520 [00:05<00:00, 88.66it/s]\n"
     ]
    },
    {
     "name": "stdout",
     "output_type": "stream",
     "text": [
      "Validation 38, Loss: 0.323266, Accuracy: 0.990385\n"
     ]
    },
    {
     "name": "stderr",
     "output_type": "stream",
     "text": [
      "Training: Epoch 39/10000: 100%|██████████| 160/160 [00:51<00:00,  3.13it/s]\n"
     ]
    },
    {
     "name": "stdout",
     "output_type": "stream",
     "text": [
      "Epoch 39, Loss: 0.318697, Accuracy: 0.994709, learning rate: 0.0000004775\n"
     ]
    },
    {
     "name": "stderr",
     "output_type": "stream",
     "text": [
      "Validation: Epoch 39/10000: 100%|██████████| 520/520 [00:05<00:00, 88.39it/s]\n"
     ]
    },
    {
     "name": "stdout",
     "output_type": "stream",
     "text": [
      "Validation 39, Loss: 0.323874, Accuracy: 0.988462\n"
     ]
    },
    {
     "name": "stderr",
     "output_type": "stream",
     "text": [
      "Training: Epoch 40/10000: 100%|██████████| 160/160 [00:51<00:00,  3.13it/s]\n"
     ]
    },
    {
     "name": "stdout",
     "output_type": "stream",
     "text": [
      "Epoch 40, Loss: 0.317846, Accuracy: 0.995671, learning rate: 0.0000050000\n"
     ]
    },
    {
     "name": "stderr",
     "output_type": "stream",
     "text": [
      "Validation: Epoch 40/10000: 100%|██████████| 520/520 [00:06<00:00, 85.22it/s]\n"
     ]
    },
    {
     "name": "stdout",
     "output_type": "stream",
     "text": [
      "Validation 40, Loss: 0.323390, Accuracy: 0.990385\n"
     ]
    },
    {
     "name": "stderr",
     "output_type": "stream",
     "text": [
      "Training: Epoch 41/10000: 100%|██████████| 160/160 [00:50<00:00,  3.14it/s]\n"
     ]
    },
    {
     "name": "stdout",
     "output_type": "stream",
     "text": [
      "Epoch 41, Loss: 0.321485, Accuracy: 0.991823, learning rate: 0.0000045225\n"
     ]
    },
    {
     "name": "stderr",
     "output_type": "stream",
     "text": [
      "Validation: Epoch 41/10000: 100%|██████████| 520/520 [00:05<00:00, 89.72it/s]\n"
     ]
    },
    {
     "name": "stdout",
     "output_type": "stream",
     "text": [
      "Validation 41, Loss: 0.322630, Accuracy: 0.990385\n"
     ]
    },
    {
     "name": "stderr",
     "output_type": "stream",
     "text": [
      "Training: Epoch 42/10000: 100%|██████████| 160/160 [00:51<00:00,  3.12it/s]\n"
     ]
    },
    {
     "name": "stdout",
     "output_type": "stream",
     "text": [
      "Epoch 42, Loss: 0.321013, Accuracy: 0.992304, learning rate: 0.0000032725\n"
     ]
    },
    {
     "name": "stderr",
     "output_type": "stream",
     "text": [
      "Validation: Epoch 42/10000: 100%|██████████| 520/520 [00:05<00:00, 90.19it/s]\n"
     ]
    },
    {
     "name": "stdout",
     "output_type": "stream",
     "text": [
      "Validation 42, Loss: 0.327832, Accuracy: 0.984615\n"
     ]
    },
    {
     "name": "stderr",
     "output_type": "stream",
     "text": [
      "Training: Epoch 43/10000: 100%|██████████| 160/160 [00:51<00:00,  3.11it/s]\n"
     ]
    },
    {
     "name": "stdout",
     "output_type": "stream",
     "text": [
      "Epoch 43, Loss: 0.325416, Accuracy: 0.987494, learning rate: 0.0000017275\n"
     ]
    },
    {
     "name": "stderr",
     "output_type": "stream",
     "text": [
      "Validation: Epoch 43/10000: 100%|██████████| 520/520 [00:06<00:00, 84.87it/s]\n"
     ]
    },
    {
     "name": "stdout",
     "output_type": "stream",
     "text": [
      "Validation 43, Loss: 0.329932, Accuracy: 0.982692\n"
     ]
    },
    {
     "name": "stderr",
     "output_type": "stream",
     "text": [
      "Training: Epoch 44/10000: 100%|██████████| 160/160 [00:51<00:00,  3.12it/s]\n"
     ]
    },
    {
     "name": "stdout",
     "output_type": "stream",
     "text": [
      "Epoch 44, Loss: 0.322617, Accuracy: 0.990380, learning rate: 0.0000004775\n"
     ]
    },
    {
     "name": "stderr",
     "output_type": "stream",
     "text": [
      "Validation: Epoch 44/10000: 100%|██████████| 520/520 [00:05<00:00, 91.59it/s]\n"
     ]
    },
    {
     "name": "stdout",
     "output_type": "stream",
     "text": [
      "Validation 44, Loss: 0.323055, Accuracy: 0.990385\n"
     ]
    },
    {
     "name": "stderr",
     "output_type": "stream",
     "text": [
      "Training: Epoch 45/10000: 100%|██████████| 160/160 [00:51<00:00,  3.10it/s]\n"
     ]
    },
    {
     "name": "stdout",
     "output_type": "stream",
     "text": [
      "Epoch 45, Loss: 0.319702, Accuracy: 0.993747, learning rate: 0.0000050000\n"
     ]
    },
    {
     "name": "stderr",
     "output_type": "stream",
     "text": [
      "Validation: Epoch 45/10000: 100%|██████████| 520/520 [00:05<00:00, 86.93it/s]\n"
     ]
    },
    {
     "name": "stdout",
     "output_type": "stream",
     "text": [
      "Validation 45, Loss: 0.322988, Accuracy: 0.990385\n"
     ]
    },
    {
     "name": "stderr",
     "output_type": "stream",
     "text": [
      "Training: Epoch 46/10000: 100%|██████████| 160/160 [00:51<00:00,  3.10it/s]\n"
     ]
    },
    {
     "name": "stdout",
     "output_type": "stream",
     "text": [
      "Epoch 46, Loss: 0.320282, Accuracy: 0.992785, learning rate: 0.0000045225\n"
     ]
    },
    {
     "name": "stderr",
     "output_type": "stream",
     "text": [
      "Validation: Epoch 46/10000: 100%|██████████| 520/520 [00:05<00:00, 89.24it/s]\n"
     ]
    },
    {
     "name": "stdout",
     "output_type": "stream",
     "text": [
      "Validation 46, Loss: 0.324469, Accuracy: 0.988462\n"
     ]
    },
    {
     "name": "stderr",
     "output_type": "stream",
     "text": [
      "Training: Epoch 47/10000: 100%|██████████| 160/160 [00:51<00:00,  3.10it/s]\n"
     ]
    },
    {
     "name": "stdout",
     "output_type": "stream",
     "text": [
      "Epoch 47, Loss: 0.323819, Accuracy: 0.989418, learning rate: 0.0000032725\n"
     ]
    },
    {
     "name": "stderr",
     "output_type": "stream",
     "text": [
      "Validation: Epoch 47/10000: 100%|██████████| 520/520 [00:06<00:00, 86.46it/s]\n"
     ]
    },
    {
     "name": "stdout",
     "output_type": "stream",
     "text": [
      "Validation 47, Loss: 0.329175, Accuracy: 0.982692\n"
     ]
    },
    {
     "name": "stderr",
     "output_type": "stream",
     "text": [
      "Training: Epoch 48/10000: 100%|██████████| 160/160 [00:51<00:00,  3.11it/s]\n"
     ]
    },
    {
     "name": "stdout",
     "output_type": "stream",
     "text": [
      "Epoch 48, Loss: 0.319695, Accuracy: 0.993747, learning rate: 0.0000017275\n"
     ]
    },
    {
     "name": "stderr",
     "output_type": "stream",
     "text": [
      "Validation: Epoch 48/10000: 100%|██████████| 520/520 [00:05<00:00, 90.70it/s]\n"
     ]
    },
    {
     "name": "stdout",
     "output_type": "stream",
     "text": [
      "Validation 48, Loss: 0.328602, Accuracy: 0.984615\n"
     ]
    },
    {
     "name": "stderr",
     "output_type": "stream",
     "text": [
      "Training: Epoch 49/10000: 100%|██████████| 160/160 [00:51<00:00,  3.12it/s]\n"
     ]
    },
    {
     "name": "stdout",
     "output_type": "stream",
     "text": [
      "Epoch 49, Loss: 0.319133, Accuracy: 0.993747, learning rate: 0.0000004775\n"
     ]
    },
    {
     "name": "stderr",
     "output_type": "stream",
     "text": [
      "Validation: Epoch 49/10000: 100%|██████████| 520/520 [00:05<00:00, 87.19it/s]\n"
     ]
    },
    {
     "name": "stdout",
     "output_type": "stream",
     "text": [
      "Validation 49, Loss: 0.326978, Accuracy: 0.986538\n"
     ]
    },
    {
     "name": "stderr",
     "output_type": "stream",
     "text": [
      "Training: Epoch 50/10000: 100%|██████████| 160/160 [00:51<00:00,  3.10it/s]\n"
     ]
    },
    {
     "name": "stdout",
     "output_type": "stream",
     "text": [
      "Epoch 50, Loss: 0.317676, Accuracy: 0.995671, learning rate: 0.0000050000\n"
     ]
    },
    {
     "name": "stderr",
     "output_type": "stream",
     "text": [
      "Validation: Epoch 50/10000: 100%|██████████| 520/520 [00:05<00:00, 90.86it/s]\n"
     ]
    },
    {
     "name": "stdout",
     "output_type": "stream",
     "text": [
      "Validation 50, Loss: 0.326976, Accuracy: 0.986538\n"
     ]
    },
    {
     "name": "stderr",
     "output_type": "stream",
     "text": [
      "Training: Epoch 51/10000: 100%|██████████| 160/160 [00:51<00:00,  3.10it/s]\n"
     ]
    },
    {
     "name": "stdout",
     "output_type": "stream",
     "text": [
      "Epoch 51, Loss: 0.317600, Accuracy: 0.995671, learning rate: 0.0000045225\n"
     ]
    },
    {
     "name": "stderr",
     "output_type": "stream",
     "text": [
      "Validation: Epoch 51/10000: 100%|██████████| 520/520 [00:05<00:00, 88.15it/s]\n"
     ]
    },
    {
     "name": "stdout",
     "output_type": "stream",
     "text": [
      "Validation 51, Loss: 0.329517, Accuracy: 0.982692\n"
     ]
    },
    {
     "name": "stderr",
     "output_type": "stream",
     "text": [
      "Training: Epoch 52/10000: 100%|██████████| 160/160 [00:51<00:00,  3.12it/s]\n"
     ]
    },
    {
     "name": "stdout",
     "output_type": "stream",
     "text": [
      "Epoch 52, Loss: 0.321711, Accuracy: 0.991823, learning rate: 0.0000032725\n"
     ]
    },
    {
     "name": "stderr",
     "output_type": "stream",
     "text": [
      "Validation: Epoch 52/10000: 100%|██████████| 520/520 [00:05<00:00, 89.26it/s]\n"
     ]
    },
    {
     "name": "stdout",
     "output_type": "stream",
     "text": [
      "Validation 52, Loss: 0.328288, Accuracy: 0.984615\n"
     ]
    },
    {
     "name": "stderr",
     "output_type": "stream",
     "text": [
      "Training: Epoch 53/10000: 100%|██████████| 160/160 [00:51<00:00,  3.10it/s]\n"
     ]
    },
    {
     "name": "stdout",
     "output_type": "stream",
     "text": [
      "Epoch 53, Loss: 0.318072, Accuracy: 0.995190, learning rate: 0.0000017275\n"
     ]
    },
    {
     "name": "stderr",
     "output_type": "stream",
     "text": [
      "Validation: Epoch 53/10000: 100%|██████████| 520/520 [00:06<00:00, 86.26it/s]\n"
     ]
    },
    {
     "name": "stdout",
     "output_type": "stream",
     "text": [
      "Validation 53, Loss: 0.324964, Accuracy: 0.988462\n"
     ]
    },
    {
     "name": "stderr",
     "output_type": "stream",
     "text": [
      "Training: Epoch 54/10000: 100%|██████████| 160/160 [00:51<00:00,  3.11it/s]\n"
     ]
    },
    {
     "name": "stdout",
     "output_type": "stream",
     "text": [
      "Epoch 54, Loss: 0.317205, Accuracy: 0.995671, learning rate: 0.0000004775\n"
     ]
    },
    {
     "name": "stderr",
     "output_type": "stream",
     "text": [
      "Validation: Epoch 54/10000: 100%|██████████| 520/520 [00:05<00:00, 90.85it/s]\n"
     ]
    },
    {
     "name": "stdout",
     "output_type": "stream",
     "text": [
      "Validation 54, Loss: 0.327119, Accuracy: 0.986538\n"
     ]
    },
    {
     "name": "stderr",
     "output_type": "stream",
     "text": [
      "Training: Epoch 55/10000: 100%|██████████| 160/160 [00:51<00:00,  3.11it/s]\n"
     ]
    },
    {
     "name": "stdout",
     "output_type": "stream",
     "text": [
      "Epoch 55, Loss: 0.317688, Accuracy: 0.995190, learning rate: 0.0000050000\n"
     ]
    },
    {
     "name": "stderr",
     "output_type": "stream",
     "text": [
      "Validation: Epoch 55/10000: 100%|██████████| 520/520 [00:06<00:00, 86.27it/s]\n"
     ]
    },
    {
     "name": "stdout",
     "output_type": "stream",
     "text": [
      "Validation 55, Loss: 0.324770, Accuracy: 0.988462\n"
     ]
    },
    {
     "name": "stderr",
     "output_type": "stream",
     "text": [
      "Training: Epoch 56/10000: 100%|██████████| 160/160 [00:51<00:00,  3.11it/s]\n"
     ]
    },
    {
     "name": "stdout",
     "output_type": "stream",
     "text": [
      "Epoch 56, Loss: 0.317177, Accuracy: 0.996152, learning rate: 0.0000045225\n"
     ]
    },
    {
     "name": "stderr",
     "output_type": "stream",
     "text": [
      "Validation: Epoch 56/10000: 100%|██████████| 520/520 [00:05<00:00, 90.31it/s]\n"
     ]
    },
    {
     "name": "stdout",
     "output_type": "stream",
     "text": [
      "Validation 56, Loss: 0.324819, Accuracy: 0.988462\n"
     ]
    },
    {
     "name": "stderr",
     "output_type": "stream",
     "text": [
      "Training: Epoch 57/10000: 100%|██████████| 160/160 [00:51<00:00,  3.11it/s]\n"
     ]
    },
    {
     "name": "stdout",
     "output_type": "stream",
     "text": [
      "Epoch 57, Loss: 0.319056, Accuracy: 0.994228, learning rate: 0.0000032725\n"
     ]
    },
    {
     "name": "stderr",
     "output_type": "stream",
     "text": [
      "Validation: Epoch 57/10000: 100%|██████████| 520/520 [00:05<00:00, 87.35it/s]\n"
     ]
    },
    {
     "name": "stdout",
     "output_type": "stream",
     "text": [
      "Validation 57, Loss: 0.331866, Accuracy: 0.980769\n"
     ]
    },
    {
     "name": "stderr",
     "output_type": "stream",
     "text": [
      "Training: Epoch 58/10000: 100%|██████████| 160/160 [00:51<00:00,  3.09it/s]\n"
     ]
    },
    {
     "name": "stdout",
     "output_type": "stream",
     "text": [
      "Epoch 58, Loss: 0.322228, Accuracy: 0.990380, learning rate: 0.0000017275\n"
     ]
    },
    {
     "name": "stderr",
     "output_type": "stream",
     "text": [
      "Validation: Epoch 58/10000: 100%|██████████| 520/520 [00:05<00:00, 88.04it/s]\n"
     ]
    },
    {
     "name": "stdout",
     "output_type": "stream",
     "text": [
      "Validation 58, Loss: 0.328821, Accuracy: 0.984615\n"
     ]
    },
    {
     "name": "stderr",
     "output_type": "stream",
     "text": [
      "Training: Epoch 59/10000: 100%|██████████| 160/160 [00:50<00:00,  3.14it/s]\n"
     ]
    },
    {
     "name": "stdout",
     "output_type": "stream",
     "text": [
      "Epoch 59, Loss: 0.317278, Accuracy: 0.996152, learning rate: 0.0000004775\n"
     ]
    },
    {
     "name": "stderr",
     "output_type": "stream",
     "text": [
      "Validation: Epoch 59/10000: 100%|██████████| 520/520 [00:06<00:00, 86.29it/s]\n"
     ]
    },
    {
     "name": "stdout",
     "output_type": "stream",
     "text": [
      "Validation 59, Loss: 0.329117, Accuracy: 0.984615\n"
     ]
    },
    {
     "name": "stderr",
     "output_type": "stream",
     "text": [
      "Training: Epoch 60/10000: 100%|██████████| 160/160 [00:51<00:00,  3.11it/s]\n"
     ]
    },
    {
     "name": "stdout",
     "output_type": "stream",
     "text": [
      "Epoch 60, Loss: 0.318136, Accuracy: 0.995190, learning rate: 0.0000050000\n"
     ]
    },
    {
     "name": "stderr",
     "output_type": "stream",
     "text": [
      "Validation: Epoch 60/10000: 100%|██████████| 520/520 [00:05<00:00, 90.43it/s]\n"
     ]
    },
    {
     "name": "stdout",
     "output_type": "stream",
     "text": [
      "Validation 60, Loss: 0.328801, Accuracy: 0.984615\n"
     ]
    },
    {
     "name": "stderr",
     "output_type": "stream",
     "text": [
      "Training: Epoch 61/10000: 100%|██████████| 160/160 [00:51<00:00,  3.12it/s]\n"
     ]
    },
    {
     "name": "stdout",
     "output_type": "stream",
     "text": [
      "Epoch 61, Loss: 0.321000, Accuracy: 0.992304, learning rate: 0.0000045225\n"
     ]
    },
    {
     "name": "stderr",
     "output_type": "stream",
     "text": [
      "Validation: Epoch 61/10000: 100%|██████████| 520/520 [00:05<00:00, 88.35it/s]\n"
     ]
    },
    {
     "name": "stdout",
     "output_type": "stream",
     "text": [
      "Validation 61, Loss: 0.367505, Accuracy: 0.944231\n"
     ]
    },
    {
     "name": "stderr",
     "output_type": "stream",
     "text": [
      "Training: Epoch 62/10000: 100%|██████████| 160/160 [00:51<00:00,  3.09it/s]\n"
     ]
    },
    {
     "name": "stdout",
     "output_type": "stream",
     "text": [
      "Epoch 62, Loss: 0.322350, Accuracy: 0.990380, learning rate: 0.0000032725\n"
     ]
    },
    {
     "name": "stderr",
     "output_type": "stream",
     "text": [
      "Validation: Epoch 62/10000: 100%|██████████| 520/520 [00:05<00:00, 92.06it/s]\n"
     ]
    },
    {
     "name": "stdout",
     "output_type": "stream",
     "text": [
      "Validation 62, Loss: 0.329566, Accuracy: 0.982692\n"
     ]
    },
    {
     "name": "stderr",
     "output_type": "stream",
     "text": [
      "Training: Epoch 63/10000: 100%|██████████| 160/160 [00:51<00:00,  3.08it/s]\n"
     ]
    },
    {
     "name": "stdout",
     "output_type": "stream",
     "text": [
      "Epoch 63, Loss: 0.318750, Accuracy: 0.994709, learning rate: 0.0000017275\n"
     ]
    },
    {
     "name": "stderr",
     "output_type": "stream",
     "text": [
      "Validation: Epoch 63/10000: 100%|██████████| 520/520 [00:05<00:00, 91.85it/s]\n"
     ]
    },
    {
     "name": "stdout",
     "output_type": "stream",
     "text": [
      "Validation 63, Loss: 0.330580, Accuracy: 0.982692\n"
     ]
    },
    {
     "name": "stderr",
     "output_type": "stream",
     "text": [
      "Training: Epoch 64/10000: 100%|██████████| 160/160 [00:51<00:00,  3.09it/s]\n"
     ]
    },
    {
     "name": "stdout",
     "output_type": "stream",
     "text": [
      "Epoch 64, Loss: 0.317603, Accuracy: 0.995671, learning rate: 0.0000004775\n"
     ]
    },
    {
     "name": "stderr",
     "output_type": "stream",
     "text": [
      "Validation: Epoch 64/10000: 100%|██████████| 520/520 [00:05<00:00, 87.84it/s]\n"
     ]
    },
    {
     "name": "stdout",
     "output_type": "stream",
     "text": [
      "Validation 64, Loss: 0.328828, Accuracy: 0.984615\n"
     ]
    },
    {
     "name": "stderr",
     "output_type": "stream",
     "text": [
      "Training: Epoch 65/10000: 100%|██████████| 160/160 [00:51<00:00,  3.11it/s]\n"
     ]
    },
    {
     "name": "stdout",
     "output_type": "stream",
     "text": [
      "Epoch 65, Loss: 0.317156, Accuracy: 0.996152, learning rate: 0.0000050000\n"
     ]
    },
    {
     "name": "stderr",
     "output_type": "stream",
     "text": [
      "Validation: Epoch 65/10000: 100%|██████████| 520/520 [00:05<00:00, 88.35it/s]\n"
     ]
    },
    {
     "name": "stdout",
     "output_type": "stream",
     "text": [
      "Validation 65, Loss: 0.328729, Accuracy: 0.984615\n"
     ]
    },
    {
     "name": "stderr",
     "output_type": "stream",
     "text": [
      "Training: Epoch 66/10000: 100%|██████████| 160/160 [00:51<00:00,  3.09it/s]\n"
     ]
    },
    {
     "name": "stdout",
     "output_type": "stream",
     "text": [
      "Epoch 66, Loss: 0.323138, Accuracy: 0.989418, learning rate: 0.0000045225\n"
     ]
    },
    {
     "name": "stderr",
     "output_type": "stream",
     "text": [
      "Validation: Epoch 66/10000: 100%|██████████| 520/520 [00:06<00:00, 86.54it/s]\n"
     ]
    },
    {
     "name": "stdout",
     "output_type": "stream",
     "text": [
      "Validation 66, Loss: 0.336548, Accuracy: 0.976923\n"
     ]
    },
    {
     "name": "stderr",
     "output_type": "stream",
     "text": [
      "Training: Epoch 67/10000: 100%|██████████| 160/160 [00:51<00:00,  3.12it/s]\n"
     ]
    },
    {
     "name": "stdout",
     "output_type": "stream",
     "text": [
      "Epoch 67, Loss: 0.321863, Accuracy: 0.991342, learning rate: 0.0000032725\n"
     ]
    },
    {
     "name": "stderr",
     "output_type": "stream",
     "text": [
      "Validation: Epoch 67/10000: 100%|██████████| 520/520 [00:05<00:00, 89.58it/s]\n"
     ]
    },
    {
     "name": "stdout",
     "output_type": "stream",
     "text": [
      "Validation 67, Loss: 0.328686, Accuracy: 0.984615\n"
     ]
    },
    {
     "name": "stderr",
     "output_type": "stream",
     "text": [
      "Training: Epoch 68/10000: 100%|██████████| 160/160 [00:51<00:00,  3.10it/s]\n"
     ]
    },
    {
     "name": "stdout",
     "output_type": "stream",
     "text": [
      "Epoch 68, Loss: 0.317585, Accuracy: 0.995671, learning rate: 0.0000017275\n"
     ]
    },
    {
     "name": "stderr",
     "output_type": "stream",
     "text": [
      "Validation: Epoch 68/10000: 100%|██████████| 520/520 [00:06<00:00, 85.15it/s]\n"
     ]
    },
    {
     "name": "stdout",
     "output_type": "stream",
     "text": [
      "Validation 68, Loss: 0.329642, Accuracy: 0.982692\n"
     ]
    },
    {
     "name": "stderr",
     "output_type": "stream",
     "text": [
      "Training: Epoch 69/10000: 100%|██████████| 160/160 [00:51<00:00,  3.10it/s]\n"
     ]
    },
    {
     "name": "stdout",
     "output_type": "stream",
     "text": [
      "Epoch 69, Loss: 0.318068, Accuracy: 0.995190, learning rate: 0.0000004775\n"
     ]
    },
    {
     "name": "stderr",
     "output_type": "stream",
     "text": [
      "Validation: Epoch 69/10000: 100%|██████████| 520/520 [00:05<00:00, 89.15it/s]\n"
     ]
    },
    {
     "name": "stdout",
     "output_type": "stream",
     "text": [
      "Validation 69, Loss: 0.328686, Accuracy: 0.984615\n"
     ]
    },
    {
     "name": "stderr",
     "output_type": "stream",
     "text": [
      "Training: Epoch 70/10000: 100%|██████████| 160/160 [00:51<00:00,  3.12it/s]\n"
     ]
    },
    {
     "name": "stdout",
     "output_type": "stream",
     "text": [
      "Epoch 70, Loss: 0.318060, Accuracy: 0.994709, learning rate: 0.0000050000\n"
     ]
    },
    {
     "name": "stderr",
     "output_type": "stream",
     "text": [
      "Validation: Epoch 70/10000: 100%|██████████| 520/520 [00:05<00:00, 87.58it/s]\n"
     ]
    },
    {
     "name": "stdout",
     "output_type": "stream",
     "text": [
      "Validation 70, Loss: 0.328850, Accuracy: 0.984615\n"
     ]
    },
    {
     "name": "stderr",
     "output_type": "stream",
     "text": [
      "Training: Epoch 71/10000: 100%|██████████| 160/160 [00:51<00:00,  3.09it/s]\n"
     ]
    },
    {
     "name": "stdout",
     "output_type": "stream",
     "text": [
      "Epoch 71, Loss: 0.317812, Accuracy: 0.995190, learning rate: 0.0000045225\n"
     ]
    },
    {
     "name": "stderr",
     "output_type": "stream",
     "text": [
      "Validation: Epoch 71/10000: 100%|██████████| 520/520 [00:05<00:00, 90.01it/s]\n"
     ]
    },
    {
     "name": "stdout",
     "output_type": "stream",
     "text": [
      "Validation 71, Loss: 0.328632, Accuracy: 0.984615\n"
     ]
    },
    {
     "name": "stderr",
     "output_type": "stream",
     "text": [
      "Training: Epoch 72/10000: 100%|██████████| 160/160 [00:51<00:00,  3.10it/s]\n"
     ]
    },
    {
     "name": "stdout",
     "output_type": "stream",
     "text": [
      "Epoch 72, Loss: 0.316734, Accuracy: 0.996633, learning rate: 0.0000032725\n"
     ]
    },
    {
     "name": "stderr",
     "output_type": "stream",
     "text": [
      "Validation: Epoch 72/10000: 100%|██████████| 520/520 [00:06<00:00, 85.63it/s]\n"
     ]
    },
    {
     "name": "stdout",
     "output_type": "stream",
     "text": [
      "Validation 72, Loss: 0.328092, Accuracy: 0.984615\n"
     ]
    },
    {
     "name": "stderr",
     "output_type": "stream",
     "text": [
      "Training: Epoch 73/10000: 100%|██████████| 160/160 [00:51<00:00,  3.08it/s]\n"
     ]
    },
    {
     "name": "stdout",
     "output_type": "stream",
     "text": [
      "Epoch 73, Loss: 0.317134, Accuracy: 0.996152, learning rate: 0.0000017275\n"
     ]
    },
    {
     "name": "stderr",
     "output_type": "stream",
     "text": [
      "Validation: Epoch 73/10000: 100%|██████████| 520/520 [00:05<00:00, 88.04it/s]\n"
     ]
    },
    {
     "name": "stdout",
     "output_type": "stream",
     "text": [
      "Validation 73, Loss: 0.328444, Accuracy: 0.984615\n"
     ]
    },
    {
     "name": "stderr",
     "output_type": "stream",
     "text": [
      "Training: Epoch 74/10000: 100%|██████████| 160/160 [00:51<00:00,  3.13it/s]\n"
     ]
    },
    {
     "name": "stdout",
     "output_type": "stream",
     "text": [
      "Epoch 74, Loss: 0.316183, Accuracy: 0.997114, learning rate: 0.0000004775\n"
     ]
    },
    {
     "name": "stderr",
     "output_type": "stream",
     "text": [
      "Validation: Epoch 74/10000: 100%|██████████| 520/520 [00:06<00:00, 86.27it/s]\n"
     ]
    },
    {
     "name": "stdout",
     "output_type": "stream",
     "text": [
      "Validation 74, Loss: 0.327723, Accuracy: 0.984615\n"
     ]
    },
    {
     "name": "stderr",
     "output_type": "stream",
     "text": [
      "Training: Epoch 75/10000: 100%|██████████| 160/160 [00:51<00:00,  3.13it/s]\n"
     ]
    },
    {
     "name": "stdout",
     "output_type": "stream",
     "text": [
      "Epoch 75, Loss: 0.316651, Accuracy: 0.996633, learning rate: 0.0000050000\n"
     ]
    },
    {
     "name": "stderr",
     "output_type": "stream",
     "text": [
      "Validation: Epoch 75/10000: 100%|██████████| 520/520 [00:05<00:00, 88.43it/s]\n"
     ]
    },
    {
     "name": "stdout",
     "output_type": "stream",
     "text": [
      "Validation 75, Loss: 0.327967, Accuracy: 0.984615\n"
     ]
    },
    {
     "name": "stderr",
     "output_type": "stream",
     "text": [
      "Training: Epoch 76/10000: 100%|██████████| 160/160 [00:50<00:00,  3.15it/s]\n"
     ]
    },
    {
     "name": "stdout",
     "output_type": "stream",
     "text": [
      "Epoch 76, Loss: 0.316201, Accuracy: 0.997114, learning rate: 0.0000045225\n"
     ]
    },
    {
     "name": "stderr",
     "output_type": "stream",
     "text": [
      "Validation: Epoch 76/10000: 100%|██████████| 520/520 [00:05<00:00, 87.12it/s]\n"
     ]
    },
    {
     "name": "stdout",
     "output_type": "stream",
     "text": [
      "Validation 76, Loss: 0.326871, Accuracy: 0.986538\n"
     ]
    },
    {
     "name": "stderr",
     "output_type": "stream",
     "text": [
      "Training: Epoch 77/10000: 100%|██████████| 160/160 [00:50<00:00,  3.15it/s]\n"
     ]
    },
    {
     "name": "stdout",
     "output_type": "stream",
     "text": [
      "Epoch 77, Loss: 0.315940, Accuracy: 0.997595, learning rate: 0.0000032725\n"
     ]
    },
    {
     "name": "stderr",
     "output_type": "stream",
     "text": [
      "Validation: Epoch 77/10000: 100%|██████████| 520/520 [00:05<00:00, 87.82it/s]\n"
     ]
    },
    {
     "name": "stdout",
     "output_type": "stream",
     "text": [
      "Validation 77, Loss: 0.330191, Accuracy: 0.982692\n"
     ]
    },
    {
     "name": "stderr",
     "output_type": "stream",
     "text": [
      "Training: Epoch 78/10000: 100%|██████████| 160/160 [00:50<00:00,  3.14it/s]\n"
     ]
    },
    {
     "name": "stdout",
     "output_type": "stream",
     "text": [
      "Epoch 78, Loss: 0.318551, Accuracy: 0.994709, learning rate: 0.0000017275\n"
     ]
    },
    {
     "name": "stderr",
     "output_type": "stream",
     "text": [
      "Validation: Epoch 78/10000: 100%|██████████| 520/520 [00:05<00:00, 87.21it/s]\n"
     ]
    },
    {
     "name": "stdout",
     "output_type": "stream",
     "text": [
      "Validation 78, Loss: 0.325975, Accuracy: 0.986538\n"
     ]
    },
    {
     "name": "stderr",
     "output_type": "stream",
     "text": [
      "Training: Epoch 79/10000: 100%|██████████| 160/160 [00:51<00:00,  3.12it/s]\n"
     ]
    },
    {
     "name": "stdout",
     "output_type": "stream",
     "text": [
      "Epoch 79, Loss: 0.317436, Accuracy: 0.995671, learning rate: 0.0000004775\n"
     ]
    },
    {
     "name": "stderr",
     "output_type": "stream",
     "text": [
      "Validation: Epoch 79/10000: 100%|██████████| 520/520 [00:05<00:00, 92.51it/s]\n"
     ]
    },
    {
     "name": "stdout",
     "output_type": "stream",
     "text": [
      "Validation 79, Loss: 0.324953, Accuracy: 0.988462\n"
     ]
    },
    {
     "name": "stderr",
     "output_type": "stream",
     "text": [
      "Training: Epoch 80/10000: 100%|██████████| 160/160 [00:51<00:00,  3.10it/s]\n"
     ]
    },
    {
     "name": "stdout",
     "output_type": "stream",
     "text": [
      "Epoch 80, Loss: 0.317038, Accuracy: 0.996152, learning rate: 0.0000050000\n"
     ]
    },
    {
     "name": "stderr",
     "output_type": "stream",
     "text": [
      "Validation: Epoch 80/10000: 100%|██████████| 520/520 [00:05<00:00, 86.91it/s]\n"
     ]
    },
    {
     "name": "stdout",
     "output_type": "stream",
     "text": [
      "Validation 80, Loss: 0.324956, Accuracy: 0.988462\n"
     ]
    },
    {
     "name": "stderr",
     "output_type": "stream",
     "text": [
      "Training: Epoch 81/10000: 100%|██████████| 160/160 [00:51<00:00,  3.09it/s]\n"
     ]
    },
    {
     "name": "stdout",
     "output_type": "stream",
     "text": [
      "Epoch 81, Loss: 0.316214, Accuracy: 0.997114, learning rate: 0.0000045225\n"
     ]
    },
    {
     "name": "stderr",
     "output_type": "stream",
     "text": [
      "Validation: Epoch 81/10000: 100%|██████████| 520/520 [00:05<00:00, 89.52it/s]\n"
     ]
    },
    {
     "name": "stdout",
     "output_type": "stream",
     "text": [
      "Validation 81, Loss: 0.325316, Accuracy: 0.988462\n"
     ]
    },
    {
     "name": "stderr",
     "output_type": "stream",
     "text": [
      "Training: Epoch 82/10000: 100%|██████████| 160/160 [00:51<00:00,  3.10it/s]\n"
     ]
    },
    {
     "name": "stdout",
     "output_type": "stream",
     "text": [
      "Epoch 82, Loss: 0.319164, Accuracy: 0.994228, learning rate: 0.0000032725\n"
     ]
    },
    {
     "name": "stderr",
     "output_type": "stream",
     "text": [
      "Validation: Epoch 82/10000: 100%|██████████| 520/520 [00:05<00:00, 87.72it/s]\n"
     ]
    },
    {
     "name": "stdout",
     "output_type": "stream",
     "text": [
      "Validation 82, Loss: 0.328368, Accuracy: 0.984615\n"
     ]
    },
    {
     "name": "stderr",
     "output_type": "stream",
     "text": [
      "Training: Epoch 83/10000: 100%|██████████| 160/160 [00:51<00:00,  3.11it/s]\n"
     ]
    },
    {
     "name": "stdout",
     "output_type": "stream",
     "text": [
      "Epoch 83, Loss: 0.316645, Accuracy: 0.996633, learning rate: 0.0000017275\n"
     ]
    },
    {
     "name": "stderr",
     "output_type": "stream",
     "text": [
      "Validation: Epoch 83/10000: 100%|██████████| 520/520 [00:05<00:00, 87.38it/s]\n"
     ]
    },
    {
     "name": "stdout",
     "output_type": "stream",
     "text": [
      "Validation 83, Loss: 0.328281, Accuracy: 0.984615\n"
     ]
    },
    {
     "name": "stderr",
     "output_type": "stream",
     "text": [
      "Training: Epoch 84/10000: 100%|██████████| 160/160 [00:51<00:00,  3.10it/s]\n"
     ]
    },
    {
     "name": "stdout",
     "output_type": "stream",
     "text": [
      "Epoch 84, Loss: 0.317421, Accuracy: 0.995671, learning rate: 0.0000004775\n"
     ]
    },
    {
     "name": "stderr",
     "output_type": "stream",
     "text": [
      "Validation: Epoch 84/10000: 100%|██████████| 520/520 [00:06<00:00, 83.85it/s]\n"
     ]
    },
    {
     "name": "stdout",
     "output_type": "stream",
     "text": [
      "Validation 84, Loss: 0.323126, Accuracy: 0.990385\n"
     ]
    },
    {
     "name": "stderr",
     "output_type": "stream",
     "text": [
      "Training: Epoch 85/10000: 100%|██████████| 160/160 [00:51<00:00,  3.11it/s]\n"
     ]
    },
    {
     "name": "stdout",
     "output_type": "stream",
     "text": [
      "Epoch 85, Loss: 0.317480, Accuracy: 0.995671, learning rate: 0.0000050000\n"
     ]
    },
    {
     "name": "stderr",
     "output_type": "stream",
     "text": [
      "Validation: Epoch 85/10000: 100%|██████████| 520/520 [00:05<00:00, 90.79it/s]\n"
     ]
    },
    {
     "name": "stdout",
     "output_type": "stream",
     "text": [
      "Validation 85, Loss: 0.323497, Accuracy: 0.990385\n"
     ]
    },
    {
     "name": "stderr",
     "output_type": "stream",
     "text": [
      "Training: Epoch 86/10000: 100%|██████████| 160/160 [00:51<00:00,  3.10it/s]\n"
     ]
    },
    {
     "name": "stdout",
     "output_type": "stream",
     "text": [
      "Epoch 86, Loss: 0.322533, Accuracy: 0.990861, learning rate: 0.0000045225\n"
     ]
    },
    {
     "name": "stderr",
     "output_type": "stream",
     "text": [
      "Validation: Epoch 86/10000: 100%|██████████| 520/520 [00:06<00:00, 85.10it/s]\n"
     ]
    },
    {
     "name": "stdout",
     "output_type": "stream",
     "text": [
      "Validation 86, Loss: 0.348489, Accuracy: 0.963462\n"
     ]
    },
    {
     "name": "stderr",
     "output_type": "stream",
     "text": [
      "Training: Epoch 87/10000: 100%|██████████| 160/160 [00:51<00:00,  3.12it/s]\n"
     ]
    },
    {
     "name": "stdout",
     "output_type": "stream",
     "text": [
      "Epoch 87, Loss: 0.318317, Accuracy: 0.994709, learning rate: 0.0000032725\n"
     ]
    },
    {
     "name": "stderr",
     "output_type": "stream",
     "text": [
      "Validation: Epoch 87/10000: 100%|██████████| 520/520 [00:05<00:00, 87.68it/s]\n"
     ]
    },
    {
     "name": "stdout",
     "output_type": "stream",
     "text": [
      "Validation 87, Loss: 0.328502, Accuracy: 0.984615\n"
     ]
    },
    {
     "name": "stderr",
     "output_type": "stream",
     "text": [
      "Training: Epoch 88/10000: 100%|██████████| 160/160 [00:51<00:00,  3.12it/s]\n"
     ]
    },
    {
     "name": "stdout",
     "output_type": "stream",
     "text": [
      "Epoch 88, Loss: 0.316604, Accuracy: 0.996152, learning rate: 0.0000017275\n"
     ]
    },
    {
     "name": "stderr",
     "output_type": "stream",
     "text": [
      "Validation: Epoch 88/10000: 100%|██████████| 520/520 [00:05<00:00, 89.36it/s]\n"
     ]
    },
    {
     "name": "stdout",
     "output_type": "stream",
     "text": [
      "Validation 88, Loss: 0.322010, Accuracy: 0.990385\n"
     ]
    },
    {
     "name": "stderr",
     "output_type": "stream",
     "text": [
      "Training: Epoch 89/10000: 100%|██████████| 160/160 [00:51<00:00,  3.12it/s]\n"
     ]
    },
    {
     "name": "stdout",
     "output_type": "stream",
     "text": [
      "Epoch 89, Loss: 0.315911, Accuracy: 0.997595, learning rate: 0.0000004775\n"
     ]
    },
    {
     "name": "stderr",
     "output_type": "stream",
     "text": [
      "Validation: Epoch 89/10000: 100%|██████████| 520/520 [00:05<00:00, 89.55it/s]\n"
     ]
    },
    {
     "name": "stdout",
     "output_type": "stream",
     "text": [
      "Validation 89, Loss: 0.329345, Accuracy: 0.984615\n"
     ]
    },
    {
     "name": "stderr",
     "output_type": "stream",
     "text": [
      "Training: Epoch 90/10000: 100%|██████████| 160/160 [00:51<00:00,  3.13it/s]\n"
     ]
    },
    {
     "name": "stdout",
     "output_type": "stream",
     "text": [
      "Epoch 90, Loss: 0.317789, Accuracy: 0.995190, learning rate: 0.0000050000\n"
     ]
    },
    {
     "name": "stderr",
     "output_type": "stream",
     "text": [
      "Validation: Epoch 90/10000: 100%|██████████| 520/520 [00:05<00:00, 90.32it/s]\n"
     ]
    },
    {
     "name": "stdout",
     "output_type": "stream",
     "text": [
      "Validation 90, Loss: 0.328675, Accuracy: 0.984615\n"
     ]
    },
    {
     "name": "stderr",
     "output_type": "stream",
     "text": [
      "Training: Epoch 91/10000: 100%|██████████| 160/160 [00:50<00:00,  3.14it/s]\n"
     ]
    },
    {
     "name": "stdout",
     "output_type": "stream",
     "text": [
      "Epoch 91, Loss: 0.316116, Accuracy: 0.997114, learning rate: 0.0000045225\n"
     ]
    },
    {
     "name": "stderr",
     "output_type": "stream",
     "text": [
      "Validation: Epoch 91/10000: 100%|██████████| 520/520 [00:06<00:00, 86.50it/s]\n"
     ]
    },
    {
     "name": "stdout",
     "output_type": "stream",
     "text": [
      "Validation 91, Loss: 0.322893, Accuracy: 0.990385\n"
     ]
    },
    {
     "name": "stderr",
     "output_type": "stream",
     "text": [
      "Training: Epoch 92/10000: 100%|██████████| 160/160 [00:50<00:00,  3.14it/s]\n"
     ]
    },
    {
     "name": "stdout",
     "output_type": "stream",
     "text": [
      "Epoch 92, Loss: 0.315234, Accuracy: 0.998076, learning rate: 0.0000032725\n"
     ]
    },
    {
     "name": "stderr",
     "output_type": "stream",
     "text": [
      "Validation: Epoch 92/10000: 100%|██████████| 520/520 [00:05<00:00, 90.30it/s]\n"
     ]
    },
    {
     "name": "stdout",
     "output_type": "stream",
     "text": [
      "Validation 92, Loss: 0.323119, Accuracy: 0.990385\n"
     ]
    },
    {
     "name": "stderr",
     "output_type": "stream",
     "text": [
      "Training: Epoch 93/10000: 100%|██████████| 160/160 [00:51<00:00,  3.12it/s]\n"
     ]
    },
    {
     "name": "stdout",
     "output_type": "stream",
     "text": [
      "Epoch 93, Loss: 0.315782, Accuracy: 0.997114, learning rate: 0.0000017275\n"
     ]
    },
    {
     "name": "stderr",
     "output_type": "stream",
     "text": [
      "Validation: Epoch 93/10000: 100%|██████████| 520/520 [00:06<00:00, 83.57it/s]\n"
     ]
    },
    {
     "name": "stdout",
     "output_type": "stream",
     "text": [
      "Validation 93, Loss: 0.324718, Accuracy: 0.988462\n"
     ]
    },
    {
     "name": "stderr",
     "output_type": "stream",
     "text": [
      "Training: Epoch 94/10000: 100%|██████████| 160/160 [00:50<00:00,  3.14it/s]\n"
     ]
    },
    {
     "name": "stdout",
     "output_type": "stream",
     "text": [
      "Epoch 94, Loss: 0.315695, Accuracy: 0.997595, learning rate: 0.0000004775\n"
     ]
    },
    {
     "name": "stderr",
     "output_type": "stream",
     "text": [
      "Validation: Epoch 94/10000: 100%|██████████| 520/520 [00:05<00:00, 87.70it/s]\n"
     ]
    },
    {
     "name": "stdout",
     "output_type": "stream",
     "text": [
      "Validation 94, Loss: 0.322888, Accuracy: 0.990385\n"
     ]
    },
    {
     "name": "stderr",
     "output_type": "stream",
     "text": [
      "Training: Epoch 95/10000: 100%|██████████| 160/160 [00:51<00:00,  3.12it/s]\n"
     ]
    },
    {
     "name": "stdout",
     "output_type": "stream",
     "text": [
      "Epoch 95, Loss: 0.315213, Accuracy: 0.998076, learning rate: 0.0000050000\n"
     ]
    },
    {
     "name": "stderr",
     "output_type": "stream",
     "text": [
      "Validation: Epoch 95/10000: 100%|██████████| 520/520 [00:05<00:00, 87.08it/s]\n"
     ]
    },
    {
     "name": "stdout",
     "output_type": "stream",
     "text": [
      "Validation 95, Loss: 0.322888, Accuracy: 0.990385\n"
     ]
    },
    {
     "name": "stderr",
     "output_type": "stream",
     "text": [
      "Training: Epoch 96/10000: 100%|██████████| 160/160 [00:51<00:00,  3.12it/s]\n"
     ]
    },
    {
     "name": "stdout",
     "output_type": "stream",
     "text": [
      "Epoch 96, Loss: 0.316808, Accuracy: 0.996633, learning rate: 0.0000045225\n"
     ]
    },
    {
     "name": "stderr",
     "output_type": "stream",
     "text": [
      "Validation: Epoch 96/10000: 100%|██████████| 520/520 [00:05<00:00, 88.88it/s]\n"
     ]
    },
    {
     "name": "stdout",
     "output_type": "stream",
     "text": [
      "Validation 96, Loss: 0.325214, Accuracy: 0.988462\n"
     ]
    },
    {
     "name": "stderr",
     "output_type": "stream",
     "text": [
      "Training: Epoch 97/10000: 100%|██████████| 160/160 [00:51<00:00,  3.12it/s]\n"
     ]
    },
    {
     "name": "stdout",
     "output_type": "stream",
     "text": [
      "Epoch 97, Loss: 0.318628, Accuracy: 0.994228, learning rate: 0.0000032725\n"
     ]
    },
    {
     "name": "stderr",
     "output_type": "stream",
     "text": [
      "Validation: Epoch 97/10000: 100%|██████████| 520/520 [00:06<00:00, 86.33it/s]\n"
     ]
    },
    {
     "name": "stdout",
     "output_type": "stream",
     "text": [
      "Validation 97, Loss: 0.331718, Accuracy: 0.980769\n"
     ]
    },
    {
     "name": "stderr",
     "output_type": "stream",
     "text": [
      "Training: Epoch 98/10000: 100%|██████████| 160/160 [00:51<00:00,  3.10it/s]\n"
     ]
    },
    {
     "name": "stdout",
     "output_type": "stream",
     "text": [
      "Epoch 98, Loss: 0.318834, Accuracy: 0.994228, learning rate: 0.0000017275\n"
     ]
    },
    {
     "name": "stderr",
     "output_type": "stream",
     "text": [
      "Validation: Epoch 98/10000: 100%|██████████| 520/520 [00:05<00:00, 88.97it/s]\n"
     ]
    },
    {
     "name": "stdout",
     "output_type": "stream",
     "text": [
      "Validation 98, Loss: 0.326587, Accuracy: 0.986538\n"
     ]
    },
    {
     "name": "stderr",
     "output_type": "stream",
     "text": [
      "Training: Epoch 99/10000: 100%|██████████| 160/160 [00:51<00:00,  3.12it/s]\n"
     ]
    },
    {
     "name": "stdout",
     "output_type": "stream",
     "text": [
      "Epoch 99, Loss: 0.316598, Accuracy: 0.996633, learning rate: 0.0000004775\n"
     ]
    },
    {
     "name": "stderr",
     "output_type": "stream",
     "text": [
      "Validation: Epoch 99/10000: 100%|██████████| 520/520 [00:06<00:00, 84.77it/s]\n"
     ]
    },
    {
     "name": "stdout",
     "output_type": "stream",
     "text": [
      "Validation 99, Loss: 0.325768, Accuracy: 0.986538\n"
     ]
    },
    {
     "name": "stderr",
     "output_type": "stream",
     "text": [
      "Training: Epoch 100/10000: 100%|██████████| 160/160 [00:51<00:00,  3.12it/s]\n"
     ]
    },
    {
     "name": "stdout",
     "output_type": "stream",
     "text": [
      "Epoch 100, Loss: 0.316488, Accuracy: 0.996633, learning rate: 0.0000050000\n"
     ]
    },
    {
     "name": "stderr",
     "output_type": "stream",
     "text": [
      "Validation: Epoch 100/10000: 100%|██████████| 520/520 [00:05<00:00, 90.94it/s]\n"
     ]
    },
    {
     "name": "stdout",
     "output_type": "stream",
     "text": [
      "Validation 100, Loss: 0.325757, Accuracy: 0.986538\n"
     ]
    },
    {
     "name": "stderr",
     "output_type": "stream",
     "text": [
      "Training: Epoch 101/10000: 100%|██████████| 160/160 [00:51<00:00,  3.11it/s]\n"
     ]
    },
    {
     "name": "stdout",
     "output_type": "stream",
     "text": [
      "Epoch 101, Loss: 0.318817, Accuracy: 0.994228, learning rate: 0.0000045225\n"
     ]
    },
    {
     "name": "stderr",
     "output_type": "stream",
     "text": [
      "Validation: Epoch 101/10000: 100%|██████████| 520/520 [00:05<00:00, 89.84it/s]\n"
     ]
    },
    {
     "name": "stdout",
     "output_type": "stream",
     "text": [
      "Validation 101, Loss: 0.323002, Accuracy: 0.990385\n"
     ]
    },
    {
     "name": "stderr",
     "output_type": "stream",
     "text": [
      "Training: Epoch 102/10000: 100%|██████████| 160/160 [00:51<00:00,  3.12it/s]\n"
     ]
    },
    {
     "name": "stdout",
     "output_type": "stream",
     "text": [
      "Epoch 102, Loss: 0.320937, Accuracy: 0.992304, learning rate: 0.0000032725\n"
     ]
    },
    {
     "name": "stderr",
     "output_type": "stream",
     "text": [
      "Validation: Epoch 102/10000: 100%|██████████| 520/520 [00:05<00:00, 89.31it/s]\n"
     ]
    },
    {
     "name": "stdout",
     "output_type": "stream",
     "text": [
      "Validation 102, Loss: 0.323348, Accuracy: 0.990385\n"
     ]
    },
    {
     "name": "stderr",
     "output_type": "stream",
     "text": [
      "Training: Epoch 103/10000: 100%|██████████| 160/160 [00:51<00:00,  3.12it/s]\n"
     ]
    },
    {
     "name": "stdout",
     "output_type": "stream",
     "text": [
      "Epoch 103, Loss: 0.318813, Accuracy: 0.994228, learning rate: 0.0000017275\n"
     ]
    },
    {
     "name": "stderr",
     "output_type": "stream",
     "text": [
      "Validation: Epoch 103/10000: 100%|██████████| 520/520 [00:06<00:00, 84.59it/s]\n"
     ]
    },
    {
     "name": "stdout",
     "output_type": "stream",
     "text": [
      "Validation 103, Loss: 0.330584, Accuracy: 0.982692\n"
     ]
    },
    {
     "name": "stderr",
     "output_type": "stream",
     "text": [
      "Training: Epoch 104/10000: 100%|██████████| 160/160 [00:51<00:00,  3.13it/s]\n"
     ]
    },
    {
     "name": "stdout",
     "output_type": "stream",
     "text": [
      "Epoch 104, Loss: 0.319264, Accuracy: 0.993747, learning rate: 0.0000004775\n"
     ]
    },
    {
     "name": "stderr",
     "output_type": "stream",
     "text": [
      "Validation: Epoch 104/10000: 100%|██████████| 520/520 [00:05<00:00, 89.02it/s]\n"
     ]
    },
    {
     "name": "stdout",
     "output_type": "stream",
     "text": [
      "Validation 104, Loss: 0.329394, Accuracy: 0.984615\n"
     ]
    },
    {
     "name": "stderr",
     "output_type": "stream",
     "text": [
      "Training: Epoch 105/10000: 100%|██████████| 160/160 [00:51<00:00,  3.13it/s]\n"
     ]
    },
    {
     "name": "stdout",
     "output_type": "stream",
     "text": [
      "Epoch 105, Loss: 0.316689, Accuracy: 0.996633, learning rate: 0.0000050000\n"
     ]
    },
    {
     "name": "stderr",
     "output_type": "stream",
     "text": [
      "Validation: Epoch 105/10000: 100%|██████████| 520/520 [00:06<00:00, 85.26it/s]\n"
     ]
    },
    {
     "name": "stdout",
     "output_type": "stream",
     "text": [
      "Validation 105, Loss: 0.328599, Accuracy: 0.984615\n"
     ]
    },
    {
     "name": "stderr",
     "output_type": "stream",
     "text": [
      "Training: Epoch 106/10000: 100%|██████████| 160/160 [00:51<00:00,  3.12it/s]\n"
     ]
    },
    {
     "name": "stdout",
     "output_type": "stream",
     "text": [
      "Epoch 106, Loss: 0.319788, Accuracy: 0.993266, learning rate: 0.0000045225\n"
     ]
    },
    {
     "name": "stderr",
     "output_type": "stream",
     "text": [
      "Validation: Epoch 106/10000: 100%|██████████| 520/520 [00:05<00:00, 91.82it/s]\n"
     ]
    },
    {
     "name": "stdout",
     "output_type": "stream",
     "text": [
      "Validation 106, Loss: 0.324914, Accuracy: 0.988462\n"
     ]
    },
    {
     "name": "stderr",
     "output_type": "stream",
     "text": [
      "Training: Epoch 107/10000: 100%|██████████| 160/160 [00:51<00:00,  3.13it/s]\n"
     ]
    },
    {
     "name": "stdout",
     "output_type": "stream",
     "text": [
      "Epoch 107, Loss: 0.317012, Accuracy: 0.996633, learning rate: 0.0000032725\n"
     ]
    },
    {
     "name": "stderr",
     "output_type": "stream",
     "text": [
      "Validation: Epoch 107/10000: 100%|██████████| 520/520 [00:05<00:00, 87.19it/s]\n"
     ]
    },
    {
     "name": "stdout",
     "output_type": "stream",
     "text": [
      "Validation 107, Loss: 0.324774, Accuracy: 0.988462\n"
     ]
    },
    {
     "name": "stderr",
     "output_type": "stream",
     "text": [
      "Training: Epoch 108/10000: 100%|██████████| 160/160 [00:51<00:00,  3.12it/s]\n"
     ]
    },
    {
     "name": "stdout",
     "output_type": "stream",
     "text": [
      "Epoch 108, Loss: 0.318516, Accuracy: 0.994228, learning rate: 0.0000017275\n"
     ]
    },
    {
     "name": "stderr",
     "output_type": "stream",
     "text": [
      "Validation: Epoch 108/10000: 100%|██████████| 520/520 [00:05<00:00, 88.41it/s]\n"
     ]
    },
    {
     "name": "stdout",
     "output_type": "stream",
     "text": [
      "Validation 108, Loss: 0.324770, Accuracy: 0.988462\n"
     ]
    },
    {
     "name": "stderr",
     "output_type": "stream",
     "text": [
      "Training: Epoch 109/10000: 100%|██████████| 160/160 [00:51<00:00,  3.12it/s]\n"
     ]
    },
    {
     "name": "stdout",
     "output_type": "stream",
     "text": [
      "Epoch 109, Loss: 0.317761, Accuracy: 0.995671, learning rate: 0.0000004775\n"
     ]
    },
    {
     "name": "stderr",
     "output_type": "stream",
     "text": [
      "Validation: Epoch 109/10000: 100%|██████████| 520/520 [00:05<00:00, 88.84it/s]\n"
     ]
    },
    {
     "name": "stdout",
     "output_type": "stream",
     "text": [
      "Validation 109, Loss: 0.324815, Accuracy: 0.988462\n"
     ]
    },
    {
     "name": "stderr",
     "output_type": "stream",
     "text": [
      "Training: Epoch 110/10000: 100%|██████████| 160/160 [00:51<00:00,  3.13it/s]\n"
     ]
    },
    {
     "name": "stdout",
     "output_type": "stream",
     "text": [
      "Epoch 110, Loss: 0.315683, Accuracy: 0.997595, learning rate: 0.0000050000\n"
     ]
    },
    {
     "name": "stderr",
     "output_type": "stream",
     "text": [
      "Validation: Epoch 110/10000: 100%|██████████| 520/520 [00:05<00:00, 89.44it/s]\n"
     ]
    },
    {
     "name": "stdout",
     "output_type": "stream",
     "text": [
      "Validation 110, Loss: 0.324816, Accuracy: 0.988462\n"
     ]
    },
    {
     "name": "stderr",
     "output_type": "stream",
     "text": [
      "Training: Epoch 111/10000: 100%|██████████| 160/160 [00:51<00:00,  3.13it/s]\n"
     ]
    },
    {
     "name": "stdout",
     "output_type": "stream",
     "text": [
      "Epoch 111, Loss: 0.316133, Accuracy: 0.997114, learning rate: 0.0000045225\n"
     ]
    },
    {
     "name": "stderr",
     "output_type": "stream",
     "text": [
      "Validation: Epoch 111/10000: 100%|██████████| 520/520 [00:05<00:00, 90.40it/s]\n"
     ]
    },
    {
     "name": "stdout",
     "output_type": "stream",
     "text": [
      "Validation 111, Loss: 0.324444, Accuracy: 0.988462\n"
     ]
    },
    {
     "name": "stderr",
     "output_type": "stream",
     "text": [
      "Training: Epoch 112/10000: 100%|██████████| 160/160 [00:51<00:00,  3.12it/s]\n"
     ]
    },
    {
     "name": "stdout",
     "output_type": "stream",
     "text": [
      "Epoch 112, Loss: 0.315526, Accuracy: 0.997595, learning rate: 0.0000032725\n"
     ]
    },
    {
     "name": "stderr",
     "output_type": "stream",
     "text": [
      "Validation: Epoch 112/10000: 100%|██████████| 520/520 [00:06<00:00, 85.90it/s]\n"
     ]
    },
    {
     "name": "stdout",
     "output_type": "stream",
     "text": [
      "Validation 112, Loss: 0.326755, Accuracy: 0.986538\n"
     ]
    },
    {
     "name": "stderr",
     "output_type": "stream",
     "text": [
      "Training: Epoch 113/10000: 100%|██████████| 160/160 [00:51<00:00,  3.10it/s]\n"
     ]
    },
    {
     "name": "stdout",
     "output_type": "stream",
     "text": [
      "Epoch 113, Loss: 0.315616, Accuracy: 0.997595, learning rate: 0.0000017275\n"
     ]
    },
    {
     "name": "stderr",
     "output_type": "stream",
     "text": [
      "Validation: Epoch 113/10000: 100%|██████████| 520/520 [00:05<00:00, 89.49it/s]\n"
     ]
    },
    {
     "name": "stdout",
     "output_type": "stream",
     "text": [
      "Validation 113, Loss: 0.322899, Accuracy: 0.990385\n"
     ]
    },
    {
     "name": "stderr",
     "output_type": "stream",
     "text": [
      "Training: Epoch 114/10000: 100%|██████████| 160/160 [00:51<00:00,  3.13it/s]\n"
     ]
    },
    {
     "name": "stdout",
     "output_type": "stream",
     "text": [
      "Epoch 114, Loss: 0.315669, Accuracy: 0.997595, learning rate: 0.0000004775\n"
     ]
    },
    {
     "name": "stderr",
     "output_type": "stream",
     "text": [
      "Validation: Epoch 114/10000: 100%|██████████| 520/520 [00:05<00:00, 89.82it/s]\n"
     ]
    },
    {
     "name": "stdout",
     "output_type": "stream",
     "text": [
      "Validation 114, Loss: 0.322890, Accuracy: 0.990385\n"
     ]
    },
    {
     "name": "stderr",
     "output_type": "stream",
     "text": [
      "Training: Epoch 115/10000: 100%|██████████| 160/160 [00:51<00:00,  3.11it/s]\n"
     ]
    },
    {
     "name": "stdout",
     "output_type": "stream",
     "text": [
      "Epoch 115, Loss: 0.315684, Accuracy: 0.997595, learning rate: 0.0000050000\n"
     ]
    },
    {
     "name": "stderr",
     "output_type": "stream",
     "text": [
      "Validation: Epoch 115/10000: 100%|██████████| 520/520 [00:05<00:00, 92.36it/s]\n"
     ]
    },
    {
     "name": "stdout",
     "output_type": "stream",
     "text": [
      "Validation 115, Loss: 0.322890, Accuracy: 0.990385\n"
     ]
    },
    {
     "name": "stderr",
     "output_type": "stream",
     "text": [
      "Training: Epoch 116/10000: 100%|██████████| 160/160 [00:51<00:00,  3.11it/s]\n"
     ]
    },
    {
     "name": "stdout",
     "output_type": "stream",
     "text": [
      "Epoch 116, Loss: 0.315702, Accuracy: 0.997595, learning rate: 0.0000045225\n"
     ]
    },
    {
     "name": "stderr",
     "output_type": "stream",
     "text": [
      "Validation: Epoch 116/10000: 100%|██████████| 520/520 [00:05<00:00, 86.89it/s]\n"
     ]
    },
    {
     "name": "stdout",
     "output_type": "stream",
     "text": [
      "Validation 116, Loss: 0.322854, Accuracy: 0.990385\n"
     ]
    },
    {
     "name": "stderr",
     "output_type": "stream",
     "text": [
      "Training: Epoch 117/10000: 100%|██████████| 160/160 [00:51<00:00,  3.11it/s]\n"
     ]
    },
    {
     "name": "stdout",
     "output_type": "stream",
     "text": [
      "Epoch 117, Loss: 0.315196, Accuracy: 0.998076, learning rate: 0.0000032725\n"
     ]
    },
    {
     "name": "stderr",
     "output_type": "stream",
     "text": [
      "Validation: Epoch 117/10000: 100%|██████████| 520/520 [00:05<00:00, 90.80it/s]\n"
     ]
    },
    {
     "name": "stdout",
     "output_type": "stream",
     "text": [
      "Validation 117, Loss: 0.322863, Accuracy: 0.990385\n"
     ]
    },
    {
     "name": "stderr",
     "output_type": "stream",
     "text": [
      "Training: Epoch 118/10000: 100%|██████████| 160/160 [00:51<00:00,  3.13it/s]\n"
     ]
    },
    {
     "name": "stdout",
     "output_type": "stream",
     "text": [
      "Epoch 118, Loss: 0.315196, Accuracy: 0.998076, learning rate: 0.0000017275\n"
     ]
    },
    {
     "name": "stderr",
     "output_type": "stream",
     "text": [
      "Validation: Epoch 118/10000: 100%|██████████| 520/520 [00:06<00:00, 86.43it/s]\n"
     ]
    },
    {
     "name": "stdout",
     "output_type": "stream",
     "text": [
      "Validation 118, Loss: 0.322864, Accuracy: 0.990385\n"
     ]
    },
    {
     "name": "stderr",
     "output_type": "stream",
     "text": [
      "Training: Epoch 119/10000: 100%|██████████| 160/160 [00:51<00:00,  3.11it/s]\n"
     ]
    },
    {
     "name": "stdout",
     "output_type": "stream",
     "text": [
      "Epoch 119, Loss: 0.315229, Accuracy: 0.998076, learning rate: 0.0000004775\n"
     ]
    },
    {
     "name": "stderr",
     "output_type": "stream",
     "text": [
      "Validation: Epoch 119/10000: 100%|██████████| 520/520 [00:05<00:00, 89.49it/s]\n"
     ]
    },
    {
     "name": "stdout",
     "output_type": "stream",
     "text": [
      "Validation 119, Loss: 0.322859, Accuracy: 0.990385\n"
     ]
    },
    {
     "name": "stderr",
     "output_type": "stream",
     "text": [
      "Training: Epoch 120/10000: 100%|██████████| 160/160 [00:51<00:00,  3.12it/s]\n"
     ]
    },
    {
     "name": "stdout",
     "output_type": "stream",
     "text": [
      "Epoch 120, Loss: 0.315195, Accuracy: 0.998076, learning rate: 0.0000050000\n"
     ]
    },
    {
     "name": "stderr",
     "output_type": "stream",
     "text": [
      "Validation: Epoch 120/10000: 100%|██████████| 520/520 [00:05<00:00, 88.36it/s]\n"
     ]
    },
    {
     "name": "stdout",
     "output_type": "stream",
     "text": [
      "Validation 120, Loss: 0.322844, Accuracy: 0.990385\n"
     ]
    },
    {
     "name": "stderr",
     "output_type": "stream",
     "text": [
      "Training: Epoch 121/10000: 100%|██████████| 160/160 [00:51<00:00,  3.13it/s]\n"
     ]
    },
    {
     "name": "stdout",
     "output_type": "stream",
     "text": [
      "Epoch 121, Loss: 0.319205, Accuracy: 0.993747, learning rate: 0.0000045225\n"
     ]
    },
    {
     "name": "stderr",
     "output_type": "stream",
     "text": [
      "Validation: Epoch 121/10000: 100%|██████████| 520/520 [00:05<00:00, 88.18it/s]\n"
     ]
    },
    {
     "name": "stdout",
     "output_type": "stream",
     "text": [
      "Validation 121, Loss: 0.324729, Accuracy: 0.988462\n"
     ]
    },
    {
     "name": "stderr",
     "output_type": "stream",
     "text": [
      "Training: Epoch 122/10000: 100%|██████████| 160/160 [00:50<00:00,  3.14it/s]\n"
     ]
    },
    {
     "name": "stdout",
     "output_type": "stream",
     "text": [
      "Epoch 122, Loss: 0.318993, Accuracy: 0.994709, learning rate: 0.0000032725\n"
     ]
    },
    {
     "name": "stderr",
     "output_type": "stream",
     "text": [
      "Validation: Epoch 122/10000: 100%|██████████| 520/520 [00:06<00:00, 85.37it/s]\n"
     ]
    },
    {
     "name": "stdout",
     "output_type": "stream",
     "text": [
      "Validation 122, Loss: 0.326794, Accuracy: 0.986538\n"
     ]
    },
    {
     "name": "stderr",
     "output_type": "stream",
     "text": [
      "Training: Epoch 123/10000: 100%|██████████| 160/160 [00:51<00:00,  3.12it/s]\n"
     ]
    },
    {
     "name": "stdout",
     "output_type": "stream",
     "text": [
      "Epoch 123, Loss: 0.319547, Accuracy: 0.993747, learning rate: 0.0000017275\n"
     ]
    },
    {
     "name": "stderr",
     "output_type": "stream",
     "text": [
      "Validation: Epoch 123/10000: 100%|██████████| 520/520 [00:05<00:00, 91.75it/s]\n"
     ]
    },
    {
     "name": "stdout",
     "output_type": "stream",
     "text": [
      "Validation 123, Loss: 0.328385, Accuracy: 0.984615\n"
     ]
    },
    {
     "name": "stderr",
     "output_type": "stream",
     "text": [
      "Training: Epoch 124/10000: 100%|██████████| 160/160 [00:51<00:00,  3.11it/s]\n"
     ]
    },
    {
     "name": "stdout",
     "output_type": "stream",
     "text": [
      "Epoch 124, Loss: 0.316599, Accuracy: 0.996633, learning rate: 0.0000004775\n"
     ]
    },
    {
     "name": "stderr",
     "output_type": "stream",
     "text": [
      "Validation: Epoch 124/10000: 100%|██████████| 520/520 [00:06<00:00, 84.53it/s]\n"
     ]
    },
    {
     "name": "stdout",
     "output_type": "stream",
     "text": [
      "Validation 124, Loss: 0.324868, Accuracy: 0.988462\n"
     ]
    },
    {
     "name": "stderr",
     "output_type": "stream",
     "text": [
      "Training: Epoch 125/10000: 100%|██████████| 160/160 [00:51<00:00,  3.14it/s]\n"
     ]
    },
    {
     "name": "stdout",
     "output_type": "stream",
     "text": [
      "Epoch 125, Loss: 0.315242, Accuracy: 0.998076, learning rate: 0.0000050000\n"
     ]
    },
    {
     "name": "stderr",
     "output_type": "stream",
     "text": [
      "Validation: Epoch 125/10000: 100%|██████████| 520/520 [00:05<00:00, 91.37it/s]\n"
     ]
    },
    {
     "name": "stdout",
     "output_type": "stream",
     "text": [
      "Validation 125, Loss: 0.324726, Accuracy: 0.988462\n"
     ]
    },
    {
     "name": "stderr",
     "output_type": "stream",
     "text": [
      "Training: Epoch 126/10000: 100%|██████████| 160/160 [00:51<00:00,  3.10it/s]\n"
     ]
    },
    {
     "name": "stdout",
     "output_type": "stream",
     "text": [
      "Epoch 126, Loss: 0.315231, Accuracy: 0.998076, learning rate: 0.0000045225\n"
     ]
    },
    {
     "name": "stderr",
     "output_type": "stream",
     "text": [
      "Validation: Epoch 126/10000: 100%|██████████| 520/520 [00:05<00:00, 90.82it/s]\n"
     ]
    },
    {
     "name": "stdout",
     "output_type": "stream",
     "text": [
      "Validation 126, Loss: 0.324809, Accuracy: 0.988462\n"
     ]
    },
    {
     "name": "stderr",
     "output_type": "stream",
     "text": [
      "Training: Epoch 127/10000: 100%|██████████| 160/160 [00:51<00:00,  3.12it/s]\n"
     ]
    },
    {
     "name": "stdout",
     "output_type": "stream",
     "text": [
      "Epoch 127, Loss: 0.333588, Accuracy: 0.979317, learning rate: 0.0000032725\n"
     ]
    },
    {
     "name": "stderr",
     "output_type": "stream",
     "text": [
      "Validation: Epoch 127/10000: 100%|██████████| 520/520 [00:05<00:00, 89.99it/s]\n"
     ]
    },
    {
     "name": "stdout",
     "output_type": "stream",
     "text": [
      "Validation 127, Loss: 0.338293, Accuracy: 0.975000\n"
     ]
    },
    {
     "name": "stderr",
     "output_type": "stream",
     "text": [
      "Training: Epoch 128/10000: 100%|██████████| 160/160 [00:51<00:00,  3.12it/s]\n"
     ]
    },
    {
     "name": "stdout",
     "output_type": "stream",
     "text": [
      "Epoch 128, Loss: 0.317935, Accuracy: 0.995190, learning rate: 0.0000017275\n"
     ]
    },
    {
     "name": "stderr",
     "output_type": "stream",
     "text": [
      "Validation: Epoch 128/10000: 100%|██████████| 520/520 [00:05<00:00, 87.26it/s]\n"
     ]
    },
    {
     "name": "stdout",
     "output_type": "stream",
     "text": [
      "Validation 128, Loss: 0.324822, Accuracy: 0.988462\n"
     ]
    },
    {
     "name": "stderr",
     "output_type": "stream",
     "text": [
      "Training: Epoch 129/10000: 100%|██████████| 160/160 [00:51<00:00,  3.11it/s]\n"
     ]
    },
    {
     "name": "stdout",
     "output_type": "stream",
     "text": [
      "Epoch 129, Loss: 0.317105, Accuracy: 0.996152, learning rate: 0.0000004775\n"
     ]
    },
    {
     "name": "stderr",
     "output_type": "stream",
     "text": [
      "Validation: Epoch 129/10000: 100%|██████████| 520/520 [00:05<00:00, 87.87it/s]\n"
     ]
    },
    {
     "name": "stdout",
     "output_type": "stream",
     "text": [
      "Validation 129, Loss: 0.325762, Accuracy: 0.986538\n"
     ]
    },
    {
     "name": "stderr",
     "output_type": "stream",
     "text": [
      "Training: Epoch 130/10000: 100%|██████████| 160/160 [00:51<00:00,  3.13it/s]\n"
     ]
    },
    {
     "name": "stdout",
     "output_type": "stream",
     "text": [
      "Epoch 130, Loss: 0.316202, Accuracy: 0.997114, learning rate: 0.0000050000\n"
     ]
    },
    {
     "name": "stderr",
     "output_type": "stream",
     "text": [
      "Validation: Epoch 130/10000: 100%|██████████| 520/520 [00:05<00:00, 91.91it/s]\n"
     ]
    },
    {
     "name": "stdout",
     "output_type": "stream",
     "text": [
      "Validation 130, Loss: 0.326619, Accuracy: 0.986538\n"
     ]
    },
    {
     "name": "stderr",
     "output_type": "stream",
     "text": [
      "Training: Epoch 131/10000: 100%|██████████| 160/160 [00:51<00:00,  3.13it/s]\n"
     ]
    },
    {
     "name": "stdout",
     "output_type": "stream",
     "text": [
      "Epoch 131, Loss: 0.320080, Accuracy: 0.992304, learning rate: 0.0000045225\n"
     ]
    },
    {
     "name": "stderr",
     "output_type": "stream",
     "text": [
      "Validation: Epoch 131/10000: 100%|██████████| 520/520 [00:06<00:00, 84.69it/s]\n"
     ]
    },
    {
     "name": "stdout",
     "output_type": "stream",
     "text": [
      "Validation 131, Loss: 0.324504, Accuracy: 0.988462\n"
     ]
    },
    {
     "name": "stderr",
     "output_type": "stream",
     "text": [
      "Training: Epoch 132/10000: 100%|██████████| 160/160 [00:51<00:00,  3.12it/s]\n"
     ]
    },
    {
     "name": "stdout",
     "output_type": "stream",
     "text": [
      "Epoch 132, Loss: 0.319042, Accuracy: 0.994228, learning rate: 0.0000032725\n"
     ]
    },
    {
     "name": "stderr",
     "output_type": "stream",
     "text": [
      "Validation: Epoch 132/10000: 100%|██████████| 520/520 [00:05<00:00, 90.90it/s]\n"
     ]
    },
    {
     "name": "stdout",
     "output_type": "stream",
     "text": [
      "Validation 132, Loss: 0.320861, Accuracy: 0.992308\n"
     ]
    },
    {
     "name": "stderr",
     "output_type": "stream",
     "text": [
      "Training: Epoch 133/10000: 100%|██████████| 160/160 [00:51<00:00,  3.13it/s]\n"
     ]
    },
    {
     "name": "stdout",
     "output_type": "stream",
     "text": [
      "Epoch 133, Loss: 0.318763, Accuracy: 0.994228, learning rate: 0.0000017275\n"
     ]
    },
    {
     "name": "stderr",
     "output_type": "stream",
     "text": [
      "Validation: Epoch 133/10000: 100%|██████████| 520/520 [00:05<00:00, 86.67it/s]\n"
     ]
    },
    {
     "name": "stdout",
     "output_type": "stream",
     "text": [
      "Validation 133, Loss: 0.326649, Accuracy: 0.986538\n"
     ]
    },
    {
     "name": "stderr",
     "output_type": "stream",
     "text": [
      "Training: Epoch 134/10000: 100%|██████████| 160/160 [00:51<00:00,  3.12it/s]\n"
     ]
    },
    {
     "name": "stdout",
     "output_type": "stream",
     "text": [
      "Epoch 134, Loss: 0.316068, Accuracy: 0.997114, learning rate: 0.0000004775\n"
     ]
    },
    {
     "name": "stderr",
     "output_type": "stream",
     "text": [
      "Validation: Epoch 134/10000: 100%|██████████| 520/520 [00:05<00:00, 91.46it/s]\n"
     ]
    },
    {
     "name": "stdout",
     "output_type": "stream",
     "text": [
      "Validation 134, Loss: 0.325353, Accuracy: 0.986538\n"
     ]
    },
    {
     "name": "stderr",
     "output_type": "stream",
     "text": [
      "Training: Epoch 135/10000: 100%|██████████| 160/160 [00:51<00:00,  3.11it/s]\n"
     ]
    },
    {
     "name": "stdout",
     "output_type": "stream",
     "text": [
      "Epoch 135, Loss: 0.315922, Accuracy: 0.997595, learning rate: 0.0000050000\n"
     ]
    },
    {
     "name": "stderr",
     "output_type": "stream",
     "text": [
      "Validation: Epoch 135/10000: 100%|██████████| 520/520 [00:05<00:00, 87.08it/s]\n"
     ]
    },
    {
     "name": "stdout",
     "output_type": "stream",
     "text": [
      "Validation 135, Loss: 0.325538, Accuracy: 0.986538\n"
     ]
    },
    {
     "name": "stderr",
     "output_type": "stream",
     "text": [
      "Training: Epoch 136/10000: 100%|██████████| 160/160 [00:51<00:00,  3.13it/s]\n"
     ]
    },
    {
     "name": "stdout",
     "output_type": "stream",
     "text": [
      "Epoch 136, Loss: 0.319438, Accuracy: 0.993747, learning rate: 0.0000045225\n"
     ]
    },
    {
     "name": "stderr",
     "output_type": "stream",
     "text": [
      "Validation: Epoch 136/10000: 100%|██████████| 520/520 [00:05<00:00, 91.29it/s]\n"
     ]
    },
    {
     "name": "stdout",
     "output_type": "stream",
     "text": [
      "Validation 136, Loss: 0.324821, Accuracy: 0.988462\n"
     ]
    },
    {
     "name": "stderr",
     "output_type": "stream",
     "text": [
      "Training: Epoch 137/10000: 100%|██████████| 160/160 [00:51<00:00,  3.13it/s]\n"
     ]
    },
    {
     "name": "stdout",
     "output_type": "stream",
     "text": [
      "Epoch 137, Loss: 0.316035, Accuracy: 0.997114, learning rate: 0.0000032725\n"
     ]
    },
    {
     "name": "stderr",
     "output_type": "stream",
     "text": [
      "Validation: Epoch 137/10000: 100%|██████████| 520/520 [00:05<00:00, 87.11it/s]\n"
     ]
    },
    {
     "name": "stdout",
     "output_type": "stream",
     "text": [
      "Validation 137, Loss: 0.322909, Accuracy: 0.990385\n"
     ]
    },
    {
     "name": "stderr",
     "output_type": "stream",
     "text": [
      "Training: Epoch 138/10000: 100%|██████████| 160/160 [00:51<00:00,  3.10it/s]\n"
     ]
    },
    {
     "name": "stdout",
     "output_type": "stream",
     "text": [
      "Epoch 138, Loss: 0.316164, Accuracy: 0.997114, learning rate: 0.0000017275\n"
     ]
    },
    {
     "name": "stderr",
     "output_type": "stream",
     "text": [
      "Validation: Epoch 138/10000: 100%|██████████| 520/520 [00:05<00:00, 89.47it/s]\n"
     ]
    },
    {
     "name": "stdout",
     "output_type": "stream",
     "text": [
      "Validation 138, Loss: 0.324565, Accuracy: 0.988462\n"
     ]
    },
    {
     "name": "stderr",
     "output_type": "stream",
     "text": [
      "Training: Epoch 139/10000: 100%|██████████| 160/160 [00:51<00:00,  3.12it/s]\n"
     ]
    },
    {
     "name": "stdout",
     "output_type": "stream",
     "text": [
      "Epoch 139, Loss: 0.315780, Accuracy: 0.997595, learning rate: 0.0000004775\n"
     ]
    },
    {
     "name": "stderr",
     "output_type": "stream",
     "text": [
      "Validation: Epoch 139/10000: 100%|██████████| 520/520 [00:05<00:00, 89.35it/s]\n"
     ]
    },
    {
     "name": "stdout",
     "output_type": "stream",
     "text": [
      "Validation 139, Loss: 0.324766, Accuracy: 0.988462\n"
     ]
    },
    {
     "name": "stderr",
     "output_type": "stream",
     "text": [
      "Training: Epoch 140/10000: 100%|██████████| 160/160 [00:51<00:00,  3.11it/s]\n"
     ]
    },
    {
     "name": "stdout",
     "output_type": "stream",
     "text": [
      "Epoch 140, Loss: 0.315284, Accuracy: 0.998076, learning rate: 0.0000050000\n"
     ]
    },
    {
     "name": "stderr",
     "output_type": "stream",
     "text": [
      "Validation: Epoch 140/10000: 100%|██████████| 520/520 [00:05<00:00, 87.93it/s]\n"
     ]
    },
    {
     "name": "stdout",
     "output_type": "stream",
     "text": [
      "Validation 140, Loss: 0.324643, Accuracy: 0.988462\n"
     ]
    },
    {
     "name": "stderr",
     "output_type": "stream",
     "text": [
      "Training: Epoch 141/10000: 100%|██████████| 160/160 [00:51<00:00,  3.13it/s]\n"
     ]
    },
    {
     "name": "stdout",
     "output_type": "stream",
     "text": [
      "Epoch 141, Loss: 0.315911, Accuracy: 0.997595, learning rate: 0.0000045225\n"
     ]
    },
    {
     "name": "stderr",
     "output_type": "stream",
     "text": [
      "Validation: Epoch 141/10000: 100%|██████████| 520/520 [00:06<00:00, 85.53it/s]\n"
     ]
    },
    {
     "name": "stdout",
     "output_type": "stream",
     "text": [
      "Validation 141, Loss: 0.321203, Accuracy: 0.992308\n"
     ]
    },
    {
     "name": "stderr",
     "output_type": "stream",
     "text": [
      "Training: Epoch 142/10000: 100%|██████████| 160/160 [00:51<00:00,  3.13it/s]\n"
     ]
    },
    {
     "name": "stdout",
     "output_type": "stream",
     "text": [
      "Epoch 142, Loss: 0.317606, Accuracy: 0.995671, learning rate: 0.0000032725\n"
     ]
    },
    {
     "name": "stderr",
     "output_type": "stream",
     "text": [
      "Validation: Epoch 142/10000: 100%|██████████| 520/520 [00:05<00:00, 89.24it/s]\n"
     ]
    },
    {
     "name": "stdout",
     "output_type": "stream",
     "text": [
      "Validation 142, Loss: 0.322880, Accuracy: 0.990385\n"
     ]
    },
    {
     "name": "stderr",
     "output_type": "stream",
     "text": [
      "Training: Epoch 143/10000: 100%|██████████| 160/160 [00:51<00:00,  3.13it/s]\n"
     ]
    },
    {
     "name": "stdout",
     "output_type": "stream",
     "text": [
      "Epoch 143, Loss: 0.315202, Accuracy: 0.998076, learning rate: 0.0000017275\n"
     ]
    },
    {
     "name": "stderr",
     "output_type": "stream",
     "text": [
      "Validation: Epoch 143/10000: 100%|██████████| 520/520 [00:06<00:00, 86.52it/s]\n"
     ]
    },
    {
     "name": "stdout",
     "output_type": "stream",
     "text": [
      "Validation 143, Loss: 0.322873, Accuracy: 0.990385\n"
     ]
    },
    {
     "name": "stderr",
     "output_type": "stream",
     "text": [
      "Training: Epoch 144/10000: 100%|██████████| 160/160 [00:51<00:00,  3.12it/s]\n"
     ]
    },
    {
     "name": "stdout",
     "output_type": "stream",
     "text": [
      "Epoch 144, Loss: 0.315685, Accuracy: 0.997595, learning rate: 0.0000004775\n"
     ]
    },
    {
     "name": "stderr",
     "output_type": "stream",
     "text": [
      "Validation: Epoch 144/10000: 100%|██████████| 520/520 [00:05<00:00, 90.36it/s]\n"
     ]
    },
    {
     "name": "stdout",
     "output_type": "stream",
     "text": [
      "Validation 144, Loss: 0.321202, Accuracy: 0.992308\n"
     ]
    },
    {
     "name": "stderr",
     "output_type": "stream",
     "text": [
      "Training: Epoch 145/10000: 100%|██████████| 160/160 [00:50<00:00,  3.14it/s]\n"
     ]
    },
    {
     "name": "stdout",
     "output_type": "stream",
     "text": [
      "Epoch 145, Loss: 0.315193, Accuracy: 0.998076, learning rate: 0.0000050000\n"
     ]
    },
    {
     "name": "stderr",
     "output_type": "stream",
     "text": [
      "Validation: Epoch 145/10000: 100%|██████████| 520/520 [00:05<00:00, 86.91it/s]\n"
     ]
    },
    {
     "name": "stdout",
     "output_type": "stream",
     "text": [
      "Validation 145, Loss: 0.321211, Accuracy: 0.992308\n"
     ]
    },
    {
     "name": "stderr",
     "output_type": "stream",
     "text": [
      "Training: Epoch 146/10000: 100%|██████████| 160/160 [00:51<00:00,  3.11it/s]\n"
     ]
    },
    {
     "name": "stdout",
     "output_type": "stream",
     "text": [
      "Epoch 146, Loss: 0.316509, Accuracy: 0.996633, learning rate: 0.0000045225\n"
     ]
    },
    {
     "name": "stderr",
     "output_type": "stream",
     "text": [
      "Validation: Epoch 146/10000: 100%|██████████| 520/520 [00:05<00:00, 88.91it/s]\n"
     ]
    },
    {
     "name": "stdout",
     "output_type": "stream",
     "text": [
      "Validation 146, Loss: 0.324847, Accuracy: 0.988462\n"
     ]
    },
    {
     "name": "stderr",
     "output_type": "stream",
     "text": [
      "Training: Epoch 147/10000: 100%|██████████| 160/160 [00:51<00:00,  3.12it/s]\n"
     ]
    },
    {
     "name": "stdout",
     "output_type": "stream",
     "text": [
      "Epoch 147, Loss: 0.316427, Accuracy: 0.997114, learning rate: 0.0000032725\n"
     ]
    },
    {
     "name": "stderr",
     "output_type": "stream",
     "text": [
      "Validation: Epoch 147/10000: 100%|██████████| 520/520 [00:06<00:00, 85.74it/s]\n"
     ]
    },
    {
     "name": "stdout",
     "output_type": "stream",
     "text": [
      "Validation 147, Loss: 0.326632, Accuracy: 0.986538\n"
     ]
    },
    {
     "name": "stderr",
     "output_type": "stream",
     "text": [
      "Training: Epoch 148/10000: 100%|██████████| 160/160 [00:51<00:00,  3.12it/s]\n"
     ]
    },
    {
     "name": "stdout",
     "output_type": "stream",
     "text": [
      "Epoch 148, Loss: 0.322691, Accuracy: 0.990380, learning rate: 0.0000017275\n"
     ]
    },
    {
     "name": "stderr",
     "output_type": "stream",
     "text": [
      "Validation: Epoch 148/10000: 100%|██████████| 520/520 [00:05<00:00, 91.17it/s]\n"
     ]
    },
    {
     "name": "stdout",
     "output_type": "stream",
     "text": [
      "Validation 148, Loss: 0.324984, Accuracy: 0.988462\n"
     ]
    },
    {
     "name": "stderr",
     "output_type": "stream",
     "text": [
      "Training: Epoch 149/10000: 100%|██████████| 160/160 [00:51<00:00,  3.11it/s]\n"
     ]
    },
    {
     "name": "stdout",
     "output_type": "stream",
     "text": [
      "Epoch 149, Loss: 0.315208, Accuracy: 0.998076, learning rate: 0.0000004775\n"
     ]
    },
    {
     "name": "stderr",
     "output_type": "stream",
     "text": [
      "Validation: Epoch 149/10000: 100%|██████████| 520/520 [00:05<00:00, 87.84it/s]\n"
     ]
    },
    {
     "name": "stdout",
     "output_type": "stream",
     "text": [
      "Validation 149, Loss: 0.323719, Accuracy: 0.990385\n"
     ]
    },
    {
     "name": "stderr",
     "output_type": "stream",
     "text": [
      "Training: Epoch 150/10000: 100%|██████████| 160/160 [00:51<00:00,  3.12it/s]\n"
     ]
    },
    {
     "name": "stdout",
     "output_type": "stream",
     "text": [
      "Epoch 150, Loss: 0.317166, Accuracy: 0.996152, learning rate: 0.0000050000\n"
     ]
    },
    {
     "name": "stderr",
     "output_type": "stream",
     "text": [
      "Validation: Epoch 150/10000: 100%|██████████| 520/520 [00:05<00:00, 88.37it/s]\n"
     ]
    },
    {
     "name": "stdout",
     "output_type": "stream",
     "text": [
      "Validation 150, Loss: 0.324911, Accuracy: 0.988462\n"
     ]
    },
    {
     "name": "stderr",
     "output_type": "stream",
     "text": [
      "Training: Epoch 151/10000: 100%|██████████| 160/160 [00:51<00:00,  3.13it/s]\n"
     ]
    },
    {
     "name": "stdout",
     "output_type": "stream",
     "text": [
      "Epoch 151, Loss: 0.330737, Accuracy: 0.982203, learning rate: 0.0000045225\n"
     ]
    },
    {
     "name": "stderr",
     "output_type": "stream",
     "text": [
      "Validation: Epoch 151/10000: 100%|██████████| 520/520 [00:05<00:00, 91.50it/s]\n"
     ]
    },
    {
     "name": "stdout",
     "output_type": "stream",
     "text": [
      "Validation 151, Loss: 0.327906, Accuracy: 0.984615\n"
     ]
    },
    {
     "name": "stderr",
     "output_type": "stream",
     "text": [
      "Training: Epoch 152/10000: 100%|██████████| 160/160 [00:51<00:00,  3.11it/s]\n"
     ]
    },
    {
     "name": "stdout",
     "output_type": "stream",
     "text": [
      "Epoch 152, Loss: 0.317861, Accuracy: 0.995671, learning rate: 0.0000032725\n"
     ]
    },
    {
     "name": "stderr",
     "output_type": "stream",
     "text": [
      "Validation: Epoch 152/10000: 100%|██████████| 520/520 [00:05<00:00, 89.94it/s]\n"
     ]
    },
    {
     "name": "stdout",
     "output_type": "stream",
     "text": [
      "Validation 152, Loss: 0.329903, Accuracy: 0.982692\n"
     ]
    },
    {
     "name": "stderr",
     "output_type": "stream",
     "text": [
      "Training: Epoch 153/10000: 100%|██████████| 160/160 [00:51<00:00,  3.11it/s]\n"
     ]
    },
    {
     "name": "stdout",
     "output_type": "stream",
     "text": [
      "Epoch 153, Loss: 0.316298, Accuracy: 0.997114, learning rate: 0.0000017275\n"
     ]
    },
    {
     "name": "stderr",
     "output_type": "stream",
     "text": [
      "Validation: Epoch 153/10000: 100%|██████████| 520/520 [00:05<00:00, 89.86it/s]\n"
     ]
    },
    {
     "name": "stdout",
     "output_type": "stream",
     "text": [
      "Validation 153, Loss: 0.326710, Accuracy: 0.986538\n"
     ]
    },
    {
     "name": "stderr",
     "output_type": "stream",
     "text": [
      "Training: Epoch 154/10000: 100%|██████████| 160/160 [00:51<00:00,  3.11it/s]\n"
     ]
    },
    {
     "name": "stdout",
     "output_type": "stream",
     "text": [
      "Epoch 154, Loss: 0.315797, Accuracy: 0.997595, learning rate: 0.0000004775\n"
     ]
    },
    {
     "name": "stderr",
     "output_type": "stream",
     "text": [
      "Validation: Epoch 154/10000: 100%|██████████| 520/520 [00:05<00:00, 87.41it/s]\n"
     ]
    },
    {
     "name": "stdout",
     "output_type": "stream",
     "text": [
      "Validation 154, Loss: 0.326743, Accuracy: 0.986538\n"
     ]
    },
    {
     "name": "stderr",
     "output_type": "stream",
     "text": [
      "Training: Epoch 155/10000: 100%|██████████| 160/160 [00:51<00:00,  3.13it/s]\n"
     ]
    },
    {
     "name": "stdout",
     "output_type": "stream",
     "text": [
      "Epoch 155, Loss: 0.315192, Accuracy: 0.998076, learning rate: 0.0000050000\n"
     ]
    },
    {
     "name": "stderr",
     "output_type": "stream",
     "text": [
      "Validation: Epoch 155/10000: 100%|██████████| 520/520 [00:05<00:00, 92.10it/s]\n"
     ]
    },
    {
     "name": "stdout",
     "output_type": "stream",
     "text": [
      "Validation 155, Loss: 0.326772, Accuracy: 0.986538\n"
     ]
    },
    {
     "name": "stderr",
     "output_type": "stream",
     "text": [
      "Training: Epoch 156/10000: 100%|██████████| 160/160 [00:51<00:00,  3.11it/s]\n"
     ]
    },
    {
     "name": "stdout",
     "output_type": "stream",
     "text": [
      "Epoch 156, Loss: 0.329742, Accuracy: 0.983646, learning rate: 0.0000045225\n"
     ]
    },
    {
     "name": "stderr",
     "output_type": "stream",
     "text": [
      "Validation: Epoch 156/10000: 100%|██████████| 520/520 [00:05<00:00, 87.10it/s]\n"
     ]
    },
    {
     "name": "stdout",
     "output_type": "stream",
     "text": [
      "Validation 156, Loss: 0.326131, Accuracy: 0.986538\n"
     ]
    },
    {
     "name": "stderr",
     "output_type": "stream",
     "text": [
      "Training: Epoch 157/10000: 100%|██████████| 160/160 [00:51<00:00,  3.12it/s]\n"
     ]
    },
    {
     "name": "stdout",
     "output_type": "stream",
     "text": [
      "Epoch 157, Loss: 0.321178, Accuracy: 0.991823, learning rate: 0.0000032725\n"
     ]
    },
    {
     "name": "stderr",
     "output_type": "stream",
     "text": [
      "Validation: Epoch 157/10000: 100%|██████████| 520/520 [00:05<00:00, 88.12it/s]\n"
     ]
    },
    {
     "name": "stdout",
     "output_type": "stream",
     "text": [
      "Validation 157, Loss: 0.327023, Accuracy: 0.986538\n"
     ]
    },
    {
     "name": "stderr",
     "output_type": "stream",
     "text": [
      "Training: Epoch 158/10000: 100%|██████████| 160/160 [00:51<00:00,  3.11it/s]\n"
     ]
    },
    {
     "name": "stdout",
     "output_type": "stream",
     "text": [
      "Epoch 158, Loss: 0.332748, Accuracy: 0.980760, learning rate: 0.0000017275\n"
     ]
    },
    {
     "name": "stderr",
     "output_type": "stream",
     "text": [
      "Validation: Epoch 158/10000: 100%|██████████| 520/520 [00:05<00:00, 90.66it/s]\n"
     ]
    },
    {
     "name": "stdout",
     "output_type": "stream",
     "text": [
      "Validation 158, Loss: 0.330986, Accuracy: 0.982692\n"
     ]
    },
    {
     "name": "stderr",
     "output_type": "stream",
     "text": [
      "Training: Epoch 159/10000: 100%|██████████| 160/160 [00:51<00:00,  3.11it/s]\n"
     ]
    },
    {
     "name": "stdout",
     "output_type": "stream",
     "text": [
      "Epoch 159, Loss: 0.323630, Accuracy: 0.989418, learning rate: 0.0000004775\n"
     ]
    },
    {
     "name": "stderr",
     "output_type": "stream",
     "text": [
      "Validation: Epoch 159/10000: 100%|██████████| 520/520 [00:05<00:00, 89.84it/s]\n"
     ]
    },
    {
     "name": "stdout",
     "output_type": "stream",
     "text": [
      "Validation 159, Loss: 0.330572, Accuracy: 0.982692\n"
     ]
    },
    {
     "name": "stderr",
     "output_type": "stream",
     "text": [
      "Training: Epoch 160/10000: 100%|██████████| 160/160 [00:51<00:00,  3.11it/s]\n"
     ]
    },
    {
     "name": "stdout",
     "output_type": "stream",
     "text": [
      "Epoch 160, Loss: 0.323812, Accuracy: 0.989418, learning rate: 0.0000050000\n"
     ]
    },
    {
     "name": "stderr",
     "output_type": "stream",
     "text": [
      "Validation: Epoch 160/10000: 100%|██████████| 520/520 [00:05<00:00, 87.33it/s]\n"
     ]
    },
    {
     "name": "stdout",
     "output_type": "stream",
     "text": [
      "Validation 160, Loss: 0.330572, Accuracy: 0.982692\n"
     ]
    },
    {
     "name": "stderr",
     "output_type": "stream",
     "text": [
      "Training: Epoch 161/10000: 100%|██████████| 160/160 [00:51<00:00,  3.11it/s]\n"
     ]
    },
    {
     "name": "stdout",
     "output_type": "stream",
     "text": [
      "Epoch 161, Loss: 0.319834, Accuracy: 0.993266, learning rate: 0.0000045225\n"
     ]
    },
    {
     "name": "stderr",
     "output_type": "stream",
     "text": [
      "Validation: Epoch 161/10000: 100%|██████████| 520/520 [00:05<00:00, 90.13it/s]\n"
     ]
    },
    {
     "name": "stdout",
     "output_type": "stream",
     "text": [
      "Validation 161, Loss: 0.324355, Accuracy: 0.988462\n"
     ]
    },
    {
     "name": "stderr",
     "output_type": "stream",
     "text": [
      "Training: Epoch 162/10000: 100%|██████████| 160/160 [00:51<00:00,  3.11it/s]\n"
     ]
    },
    {
     "name": "stdout",
     "output_type": "stream",
     "text": [
      "Epoch 162, Loss: 0.319633, Accuracy: 0.993266, learning rate: 0.0000032725\n"
     ]
    },
    {
     "name": "stderr",
     "output_type": "stream",
     "text": [
      "Validation: Epoch 162/10000: 100%|██████████| 520/520 [00:06<00:00, 85.83it/s]\n"
     ]
    },
    {
     "name": "stdout",
     "output_type": "stream",
     "text": [
      "Validation 162, Loss: 0.324803, Accuracy: 0.988462\n"
     ]
    },
    {
     "name": "stderr",
     "output_type": "stream",
     "text": [
      "Training: Epoch 163/10000: 100%|██████████| 160/160 [00:51<00:00,  3.12it/s]\n"
     ]
    },
    {
     "name": "stdout",
     "output_type": "stream",
     "text": [
      "Epoch 163, Loss: 0.318408, Accuracy: 0.994709, learning rate: 0.0000017275\n"
     ]
    },
    {
     "name": "stderr",
     "output_type": "stream",
     "text": [
      "Validation: Epoch 163/10000: 100%|██████████| 520/520 [00:05<00:00, 92.08it/s]\n"
     ]
    },
    {
     "name": "stdout",
     "output_type": "stream",
     "text": [
      "Validation 163, Loss: 0.324804, Accuracy: 0.988462\n"
     ]
    },
    {
     "name": "stderr",
     "output_type": "stream",
     "text": [
      "Training: Epoch 164/10000: 100%|██████████| 160/160 [00:51<00:00,  3.12it/s]\n"
     ]
    },
    {
     "name": "stdout",
     "output_type": "stream",
     "text": [
      "Epoch 164, Loss: 0.317143, Accuracy: 0.996152, learning rate: 0.0000004775\n"
     ]
    },
    {
     "name": "stderr",
     "output_type": "stream",
     "text": [
      "Validation: Epoch 164/10000: 100%|██████████| 520/520 [00:05<00:00, 91.44it/s]\n"
     ]
    },
    {
     "name": "stdout",
     "output_type": "stream",
     "text": [
      "Validation 164, Loss: 0.324804, Accuracy: 0.988462\n"
     ]
    },
    {
     "name": "stderr",
     "output_type": "stream",
     "text": [
      "Training: Epoch 165/10000: 100%|██████████| 160/160 [00:51<00:00,  3.11it/s]\n"
     ]
    },
    {
     "name": "stdout",
     "output_type": "stream",
     "text": [
      "Epoch 165, Loss: 0.316775, Accuracy: 0.996633, learning rate: 0.0000050000\n"
     ]
    },
    {
     "name": "stderr",
     "output_type": "stream",
     "text": [
      "Validation: Epoch 165/10000: 100%|██████████| 520/520 [00:05<00:00, 90.12it/s]\n"
     ]
    },
    {
     "name": "stdout",
     "output_type": "stream",
     "text": [
      "Validation 165, Loss: 0.324804, Accuracy: 0.988462\n"
     ]
    },
    {
     "name": "stderr",
     "output_type": "stream",
     "text": [
      "Training: Epoch 166/10000: 100%|██████████| 160/160 [00:51<00:00,  3.12it/s]\n"
     ]
    },
    {
     "name": "stdout",
     "output_type": "stream",
     "text": [
      "Epoch 166, Loss: 0.316169, Accuracy: 0.997114, learning rate: 0.0000045225\n"
     ]
    },
    {
     "name": "stderr",
     "output_type": "stream",
     "text": [
      "Validation: Epoch 166/10000: 100%|██████████| 520/520 [00:06<00:00, 86.19it/s]\n"
     ]
    },
    {
     "name": "stdout",
     "output_type": "stream",
     "text": [
      "Validation 166, Loss: 0.324803, Accuracy: 0.988462\n"
     ]
    },
    {
     "name": "stderr",
     "output_type": "stream",
     "text": [
      "Training: Epoch 167/10000: 100%|██████████| 160/160 [00:51<00:00,  3.11it/s]\n"
     ]
    },
    {
     "name": "stdout",
     "output_type": "stream",
     "text": [
      "Epoch 167, Loss: 0.315684, Accuracy: 0.997595, learning rate: 0.0000032725\n"
     ]
    },
    {
     "name": "stderr",
     "output_type": "stream",
     "text": [
      "Validation: Epoch 167/10000: 100%|██████████| 520/520 [00:05<00:00, 91.86it/s]\n"
     ]
    },
    {
     "name": "stdout",
     "output_type": "stream",
     "text": [
      "Validation 167, Loss: 0.324803, Accuracy: 0.988462\n"
     ]
    },
    {
     "name": "stderr",
     "output_type": "stream",
     "text": [
      "Training: Epoch 168/10000: 100%|██████████| 160/160 [00:51<00:00,  3.12it/s]\n"
     ]
    },
    {
     "name": "stdout",
     "output_type": "stream",
     "text": [
      "Epoch 168, Loss: 0.315683, Accuracy: 0.997595, learning rate: 0.0000017275\n"
     ]
    },
    {
     "name": "stderr",
     "output_type": "stream",
     "text": [
      "Validation: Epoch 168/10000: 100%|██████████| 520/520 [00:06<00:00, 83.91it/s]\n"
     ]
    },
    {
     "name": "stdout",
     "output_type": "stream",
     "text": [
      "Validation 168, Loss: 0.324803, Accuracy: 0.988462\n"
     ]
    },
    {
     "name": "stderr",
     "output_type": "stream",
     "text": [
      "Training: Epoch 169/10000: 100%|██████████| 160/160 [00:51<00:00,  3.11it/s]\n"
     ]
    },
    {
     "name": "stdout",
     "output_type": "stream",
     "text": [
      "Epoch 169, Loss: 0.316163, Accuracy: 0.997114, learning rate: 0.0000004775\n"
     ]
    },
    {
     "name": "stderr",
     "output_type": "stream",
     "text": [
      "Validation: Epoch 169/10000: 100%|██████████| 520/520 [00:05<00:00, 92.46it/s]\n"
     ]
    },
    {
     "name": "stdout",
     "output_type": "stream",
     "text": [
      "Validation 169, Loss: 0.324802, Accuracy: 0.988462\n"
     ]
    },
    {
     "name": "stderr",
     "output_type": "stream",
     "text": [
      "Training: Epoch 170/10000: 100%|██████████| 160/160 [00:51<00:00,  3.12it/s]\n"
     ]
    },
    {
     "name": "stdout",
     "output_type": "stream",
     "text": [
      "Epoch 170, Loss: 0.317116, Accuracy: 0.996152, learning rate: 0.0000050000\n"
     ]
    },
    {
     "name": "stderr",
     "output_type": "stream",
     "text": [
      "Validation: Epoch 170/10000: 100%|██████████| 520/520 [00:05<00:00, 88.66it/s]\n"
     ]
    },
    {
     "name": "stdout",
     "output_type": "stream",
     "text": [
      "Validation 170, Loss: 0.324802, Accuracy: 0.988462\n"
     ]
    },
    {
     "name": "stderr",
     "output_type": "stream",
     "text": [
      "Training: Epoch 171/10000: 100%|██████████| 160/160 [00:51<00:00,  3.11it/s]\n"
     ]
    },
    {
     "name": "stdout",
     "output_type": "stream",
     "text": [
      "Epoch 171, Loss: 0.316316, Accuracy: 0.996633, learning rate: 0.0000045225\n"
     ]
    },
    {
     "name": "stderr",
     "output_type": "stream",
     "text": [
      "Validation: Epoch 171/10000: 100%|██████████| 520/520 [00:05<00:00, 89.70it/s]\n"
     ]
    },
    {
     "name": "stdout",
     "output_type": "stream",
     "text": [
      "Validation 171, Loss: 0.328649, Accuracy: 0.984615\n"
     ]
    },
    {
     "name": "stderr",
     "output_type": "stream",
     "text": [
      "Training: Epoch 172/10000: 100%|██████████| 160/160 [00:51<00:00,  3.10it/s]\n"
     ]
    },
    {
     "name": "stdout",
     "output_type": "stream",
     "text": [
      "Epoch 172, Loss: 0.319976, Accuracy: 0.993266, learning rate: 0.0000032725\n"
     ]
    },
    {
     "name": "stderr",
     "output_type": "stream",
     "text": [
      "Validation: Epoch 172/10000: 100%|██████████| 520/520 [00:05<00:00, 88.89it/s]\n"
     ]
    },
    {
     "name": "stdout",
     "output_type": "stream",
     "text": [
      "Validation 172, Loss: 0.328643, Accuracy: 0.984615\n"
     ]
    },
    {
     "name": "stderr",
     "output_type": "stream",
     "text": [
      "Training: Epoch 173/10000: 100%|██████████| 160/160 [00:51<00:00,  3.11it/s]\n"
     ]
    },
    {
     "name": "stdout",
     "output_type": "stream",
     "text": [
      "Epoch 173, Loss: 0.319383, Accuracy: 0.994228, learning rate: 0.0000017275\n"
     ]
    },
    {
     "name": "stderr",
     "output_type": "stream",
     "text": [
      "Validation: Epoch 173/10000: 100%|██████████| 520/520 [00:06<00:00, 86.29it/s]\n"
     ]
    },
    {
     "name": "stdout",
     "output_type": "stream",
     "text": [
      "Validation 173, Loss: 0.324330, Accuracy: 0.988462\n"
     ]
    },
    {
     "name": "stderr",
     "output_type": "stream",
     "text": [
      "Training: Epoch 174/10000: 100%|██████████| 160/160 [00:51<00:00,  3.12it/s]\n"
     ]
    },
    {
     "name": "stdout",
     "output_type": "stream",
     "text": [
      "Epoch 174, Loss: 0.317179, Accuracy: 0.996152, learning rate: 0.0000004775\n"
     ]
    },
    {
     "name": "stderr",
     "output_type": "stream",
     "text": [
      "Validation: Epoch 174/10000: 100%|██████████| 520/520 [00:05<00:00, 91.45it/s]\n"
     ]
    },
    {
     "name": "stdout",
     "output_type": "stream",
     "text": [
      "Validation 174, Loss: 0.324845, Accuracy: 0.988462\n"
     ]
    },
    {
     "name": "stderr",
     "output_type": "stream",
     "text": [
      "Training: Epoch 175/10000: 100%|██████████| 160/160 [00:51<00:00,  3.08it/s]\n"
     ]
    },
    {
     "name": "stdout",
     "output_type": "stream",
     "text": [
      "Epoch 175, Loss: 0.316452, Accuracy: 0.996633, learning rate: 0.0000050000\n"
     ]
    },
    {
     "name": "stderr",
     "output_type": "stream",
     "text": [
      "Validation: Epoch 175/10000: 100%|██████████| 520/520 [00:06<00:00, 84.48it/s]\n"
     ]
    },
    {
     "name": "stdout",
     "output_type": "stream",
     "text": [
      "Validation 175, Loss: 0.324797, Accuracy: 0.988462\n"
     ]
    },
    {
     "name": "stderr",
     "output_type": "stream",
     "text": [
      "Training: Epoch 176/10000: 100%|██████████| 160/160 [00:51<00:00,  3.14it/s]\n"
     ]
    },
    {
     "name": "stdout",
     "output_type": "stream",
     "text": [
      "Epoch 176, Loss: 0.316153, Accuracy: 0.997114, learning rate: 0.0000045225\n"
     ]
    },
    {
     "name": "stderr",
     "output_type": "stream",
     "text": [
      "Validation: Epoch 176/10000: 100%|██████████| 520/520 [00:05<00:00, 91.61it/s]\n"
     ]
    },
    {
     "name": "stdout",
     "output_type": "stream",
     "text": [
      "Validation 176, Loss: 0.324797, Accuracy: 0.988462\n"
     ]
    },
    {
     "name": "stderr",
     "output_type": "stream",
     "text": [
      "Training: Epoch 177/10000: 100%|██████████| 160/160 [00:50<00:00,  3.14it/s]\n"
     ]
    },
    {
     "name": "stdout",
     "output_type": "stream",
     "text": [
      "Epoch 177, Loss: 0.317571, Accuracy: 0.995671, learning rate: 0.0000032725\n"
     ]
    },
    {
     "name": "stderr",
     "output_type": "stream",
     "text": [
      "Validation: Epoch 177/10000: 100%|██████████| 520/520 [00:05<00:00, 90.14it/s]\n"
     ]
    },
    {
     "name": "stdout",
     "output_type": "stream",
     "text": [
      "Validation 177, Loss: 0.324698, Accuracy: 0.988462\n"
     ]
    },
    {
     "name": "stderr",
     "output_type": "stream",
     "text": [
      "Training: Epoch 178/10000: 100%|██████████| 160/160 [00:50<00:00,  3.14it/s]\n"
     ]
    },
    {
     "name": "stdout",
     "output_type": "stream",
     "text": [
      "Epoch 178, Loss: 0.316152, Accuracy: 0.997114, learning rate: 0.0000017275\n"
     ]
    },
    {
     "name": "stderr",
     "output_type": "stream",
     "text": [
      "Validation: Epoch 178/10000: 100%|██████████| 520/520 [00:05<00:00, 90.43it/s]\n"
     ]
    },
    {
     "name": "stdout",
     "output_type": "stream",
     "text": [
      "Validation 178, Loss: 0.323406, Accuracy: 0.990385\n"
     ]
    },
    {
     "name": "stderr",
     "output_type": "stream",
     "text": [
      "Training: Epoch 179/10000: 100%|██████████| 160/160 [00:51<00:00,  3.13it/s]\n"
     ]
    },
    {
     "name": "stdout",
     "output_type": "stream",
     "text": [
      "Epoch 179, Loss: 0.316154, Accuracy: 0.997114, learning rate: 0.0000004775\n"
     ]
    },
    {
     "name": "stderr",
     "output_type": "stream",
     "text": [
      "Validation: Epoch 179/10000: 100%|██████████| 520/520 [00:06<00:00, 86.63it/s]\n"
     ]
    },
    {
     "name": "stdout",
     "output_type": "stream",
     "text": [
      "Validation 179, Loss: 0.323353, Accuracy: 0.990385\n"
     ]
    },
    {
     "name": "stderr",
     "output_type": "stream",
     "text": [
      "Training: Epoch 180/10000: 100%|██████████| 160/160 [00:50<00:00,  3.15it/s]\n"
     ]
    },
    {
     "name": "stdout",
     "output_type": "stream",
     "text": [
      "Epoch 180, Loss: 0.316157, Accuracy: 0.997114, learning rate: 0.0000050000\n"
     ]
    },
    {
     "name": "stderr",
     "output_type": "stream",
     "text": [
      "Validation: Epoch 180/10000: 100%|██████████| 520/520 [00:05<00:00, 91.37it/s]\n"
     ]
    },
    {
     "name": "stdout",
     "output_type": "stream",
     "text": [
      "Validation 180, Loss: 0.323355, Accuracy: 0.990385\n"
     ]
    },
    {
     "name": "stderr",
     "output_type": "stream",
     "text": [
      "Training: Epoch 181/10000: 100%|██████████| 160/160 [00:51<00:00,  3.13it/s]\n"
     ]
    },
    {
     "name": "stdout",
     "output_type": "stream",
     "text": [
      "Epoch 181, Loss: 0.316153, Accuracy: 0.997114, learning rate: 0.0000045225\n"
     ]
    },
    {
     "name": "stderr",
     "output_type": "stream",
     "text": [
      "Validation: Epoch 181/10000: 100%|██████████| 520/520 [00:06<00:00, 84.98it/s]\n"
     ]
    },
    {
     "name": "stdout",
     "output_type": "stream",
     "text": [
      "Validation 181, Loss: 0.323252, Accuracy: 0.990385\n"
     ]
    },
    {
     "name": "stderr",
     "output_type": "stream",
     "text": [
      "Training: Epoch 182/10000: 100%|██████████| 160/160 [00:50<00:00,  3.14it/s]\n"
     ]
    },
    {
     "name": "stdout",
     "output_type": "stream",
     "text": [
      "Epoch 182, Loss: 0.316151, Accuracy: 0.997114, learning rate: 0.0000032725\n"
     ]
    },
    {
     "name": "stderr",
     "output_type": "stream",
     "text": [
      "Validation: Epoch 182/10000: 100%|██████████| 520/520 [00:05<00:00, 91.08it/s]\n"
     ]
    },
    {
     "name": "stdout",
     "output_type": "stream",
     "text": [
      "Validation 182, Loss: 0.323262, Accuracy: 0.990385\n"
     ]
    },
    {
     "name": "stderr",
     "output_type": "stream",
     "text": [
      "Training: Epoch 183/10000: 100%|██████████| 160/160 [00:50<00:00,  3.14it/s]\n"
     ]
    },
    {
     "name": "stdout",
     "output_type": "stream",
     "text": [
      "Epoch 183, Loss: 0.316152, Accuracy: 0.997114, learning rate: 0.0000017275\n"
     ]
    },
    {
     "name": "stderr",
     "output_type": "stream",
     "text": [
      "Validation: Epoch 183/10000: 100%|██████████| 520/520 [00:05<00:00, 91.72it/s]\n"
     ]
    },
    {
     "name": "stdout",
     "output_type": "stream",
     "text": [
      "Validation 183, Loss: 0.323065, Accuracy: 0.990385\n"
     ]
    },
    {
     "name": "stderr",
     "output_type": "stream",
     "text": [
      "Training: Epoch 184/10000: 100%|██████████| 160/160 [00:50<00:00,  3.15it/s]\n"
     ]
    },
    {
     "name": "stdout",
     "output_type": "stream",
     "text": [
      "Epoch 184, Loss: 0.316588, Accuracy: 0.996633, learning rate: 0.0000004775\n"
     ]
    },
    {
     "name": "stderr",
     "output_type": "stream",
     "text": [
      "Validation: Epoch 184/10000: 100%|██████████| 520/520 [00:05<00:00, 89.39it/s]\n"
     ]
    },
    {
     "name": "stdout",
     "output_type": "stream",
     "text": [
      "Validation 184, Loss: 0.322879, Accuracy: 0.990385\n"
     ]
    },
    {
     "name": "stderr",
     "output_type": "stream",
     "text": [
      "Training: Epoch 185/10000: 100%|██████████| 160/160 [00:50<00:00,  3.14it/s]\n"
     ]
    },
    {
     "name": "stdout",
     "output_type": "stream",
     "text": [
      "Epoch 185, Loss: 0.316157, Accuracy: 0.997114, learning rate: 0.0000050000\n"
     ]
    },
    {
     "name": "stderr",
     "output_type": "stream",
     "text": [
      "Validation: Epoch 185/10000: 100%|██████████| 520/520 [00:06<00:00, 85.90it/s]\n"
     ]
    },
    {
     "name": "stdout",
     "output_type": "stream",
     "text": [
      "Validation 185, Loss: 0.322879, Accuracy: 0.990385\n"
     ]
    },
    {
     "name": "stderr",
     "output_type": "stream",
     "text": [
      "Training: Epoch 186/10000: 100%|██████████| 160/160 [00:51<00:00,  3.13it/s]\n"
     ]
    },
    {
     "name": "stdout",
     "output_type": "stream",
     "text": [
      "Epoch 186, Loss: 0.316650, Accuracy: 0.996633, learning rate: 0.0000045225\n"
     ]
    },
    {
     "name": "stderr",
     "output_type": "stream",
     "text": [
      "Validation: Epoch 186/10000: 100%|██████████| 520/520 [00:05<00:00, 92.21it/s]\n"
     ]
    },
    {
     "name": "stdout",
     "output_type": "stream",
     "text": [
      "Validation 186, Loss: 0.323856, Accuracy: 0.988462\n"
     ]
    },
    {
     "name": "stderr",
     "output_type": "stream",
     "text": [
      "Training: Epoch 187/10000: 100%|██████████| 160/160 [00:51<00:00,  3.14it/s]\n"
     ]
    },
    {
     "name": "stdout",
     "output_type": "stream",
     "text": [
      "Epoch 187, Loss: 0.316191, Accuracy: 0.997114, learning rate: 0.0000032725\n"
     ]
    },
    {
     "name": "stderr",
     "output_type": "stream",
     "text": [
      "Validation: Epoch 187/10000: 100%|██████████| 520/520 [00:06<00:00, 84.88it/s]\n"
     ]
    },
    {
     "name": "stdout",
     "output_type": "stream",
     "text": [
      "Validation 187, Loss: 0.324736, Accuracy: 0.988462\n"
     ]
    },
    {
     "name": "stderr",
     "output_type": "stream",
     "text": [
      "Training: Epoch 188/10000: 100%|██████████| 160/160 [00:50<00:00,  3.15it/s]\n"
     ]
    },
    {
     "name": "stdout",
     "output_type": "stream",
     "text": [
      "Epoch 188, Loss: 0.316150, Accuracy: 0.997114, learning rate: 0.0000017275\n"
     ]
    },
    {
     "name": "stderr",
     "output_type": "stream",
     "text": [
      "Validation: Epoch 188/10000: 100%|██████████| 520/520 [00:05<00:00, 92.01it/s]\n"
     ]
    },
    {
     "name": "stdout",
     "output_type": "stream",
     "text": [
      "Validation 188, Loss: 0.324754, Accuracy: 0.988462\n"
     ]
    },
    {
     "name": "stderr",
     "output_type": "stream",
     "text": [
      "Training: Epoch 189/10000: 100%|██████████| 160/160 [00:50<00:00,  3.16it/s]\n"
     ]
    },
    {
     "name": "stdout",
     "output_type": "stream",
     "text": [
      "Epoch 189, Loss: 0.316150, Accuracy: 0.997114, learning rate: 0.0000004775\n"
     ]
    },
    {
     "name": "stderr",
     "output_type": "stream",
     "text": [
      "Validation: Epoch 189/10000: 100%|██████████| 520/520 [00:05<00:00, 88.33it/s]\n"
     ]
    },
    {
     "name": "stdout",
     "output_type": "stream",
     "text": [
      "Validation 189, Loss: 0.324754, Accuracy: 0.988462\n"
     ]
    },
    {
     "name": "stderr",
     "output_type": "stream",
     "text": [
      "Training: Epoch 190/10000: 100%|██████████| 160/160 [00:50<00:00,  3.15it/s]\n"
     ]
    },
    {
     "name": "stdout",
     "output_type": "stream",
     "text": [
      "Epoch 190, Loss: 0.316154, Accuracy: 0.997114, learning rate: 0.0000050000\n"
     ]
    },
    {
     "name": "stderr",
     "output_type": "stream",
     "text": [
      "Validation: Epoch 190/10000: 100%|██████████| 520/520 [00:05<00:00, 90.01it/s]\n"
     ]
    },
    {
     "name": "stdout",
     "output_type": "stream",
     "text": [
      "Validation 190, Loss: 0.324771, Accuracy: 0.988462\n"
     ]
    },
    {
     "name": "stderr",
     "output_type": "stream",
     "text": [
      "Training: Epoch 191/10000: 100%|██████████| 160/160 [00:50<00:00,  3.14it/s]\n"
     ]
    },
    {
     "name": "stdout",
     "output_type": "stream",
     "text": [
      "Epoch 191, Loss: 0.316628, Accuracy: 0.996633, learning rate: 0.0000045225\n"
     ]
    },
    {
     "name": "stderr",
     "output_type": "stream",
     "text": [
      "Validation: Epoch 191/10000: 100%|██████████| 520/520 [00:05<00:00, 88.27it/s]\n"
     ]
    },
    {
     "name": "stdout",
     "output_type": "stream",
     "text": [
      "Validation 191, Loss: 0.324794, Accuracy: 0.988462\n"
     ]
    },
    {
     "name": "stderr",
     "output_type": "stream",
     "text": [
      "Training: Epoch 192/10000: 100%|██████████| 160/160 [00:50<00:00,  3.14it/s]\n"
     ]
    },
    {
     "name": "stdout",
     "output_type": "stream",
     "text": [
      "Epoch 192, Loss: 0.330142, Accuracy: 0.983165, learning rate: 0.0000032725\n"
     ]
    },
    {
     "name": "stderr",
     "output_type": "stream",
     "text": [
      "Validation: Epoch 192/10000: 100%|██████████| 520/520 [00:05<00:00, 88.16it/s]\n"
     ]
    },
    {
     "name": "stdout",
     "output_type": "stream",
     "text": [
      "Validation 192, Loss: 0.343738, Accuracy: 0.969231\n"
     ]
    },
    {
     "name": "stderr",
     "output_type": "stream",
     "text": [
      "Training: Epoch 193/10000: 100%|██████████| 160/160 [00:50<00:00,  3.14it/s]\n"
     ]
    },
    {
     "name": "stdout",
     "output_type": "stream",
     "text": [
      "Epoch 193, Loss: 0.324477, Accuracy: 0.988456, learning rate: 0.0000017275\n"
     ]
    },
    {
     "name": "stderr",
     "output_type": "stream",
     "text": [
      "Validation: Epoch 193/10000: 100%|██████████| 520/520 [00:05<00:00, 91.91it/s]\n"
     ]
    },
    {
     "name": "stdout",
     "output_type": "stream",
     "text": [
      "Validation 193, Loss: 0.328648, Accuracy: 0.984615\n"
     ]
    },
    {
     "name": "stderr",
     "output_type": "stream",
     "text": [
      "Training: Epoch 194/10000: 100%|██████████| 160/160 [00:50<00:00,  3.15it/s]\n"
     ]
    },
    {
     "name": "stdout",
     "output_type": "stream",
     "text": [
      "Epoch 194, Loss: 0.316397, Accuracy: 0.996633, learning rate: 0.0000004775\n"
     ]
    },
    {
     "name": "stderr",
     "output_type": "stream",
     "text": [
      "Validation: Epoch 194/10000: 100%|██████████| 520/520 [00:06<00:00, 86.09it/s]\n"
     ]
    },
    {
     "name": "stdout",
     "output_type": "stream",
     "text": [
      "Validation 194, Loss: 0.328059, Accuracy: 0.984615\n"
     ]
    },
    {
     "name": "stderr",
     "output_type": "stream",
     "text": [
      "Training: Epoch 195/10000: 100%|██████████| 160/160 [00:50<00:00,  3.14it/s]\n"
     ]
    },
    {
     "name": "stdout",
     "output_type": "stream",
     "text": [
      "Epoch 195, Loss: 0.316250, Accuracy: 0.997114, learning rate: 0.0000050000\n"
     ]
    },
    {
     "name": "stderr",
     "output_type": "stream",
     "text": [
      "Validation: Epoch 195/10000: 100%|██████████| 520/520 [00:05<00:00, 91.19it/s]\n"
     ]
    },
    {
     "name": "stdout",
     "output_type": "stream",
     "text": [
      "Validation 195, Loss: 0.327980, Accuracy: 0.984615\n"
     ]
    },
    {
     "name": "stderr",
     "output_type": "stream",
     "text": [
      "Training: Epoch 196/10000: 100%|██████████| 160/160 [00:50<00:00,  3.15it/s]\n"
     ]
    },
    {
     "name": "stdout",
     "output_type": "stream",
     "text": [
      "Epoch 196, Loss: 0.316122, Accuracy: 0.997114, learning rate: 0.0000045225\n"
     ]
    },
    {
     "name": "stderr",
     "output_type": "stream",
     "text": [
      "Validation: Epoch 196/10000: 100%|██████████| 520/520 [00:05<00:00, 90.27it/s]\n"
     ]
    },
    {
     "name": "stdout",
     "output_type": "stream",
     "text": [
      "Validation 196, Loss: 0.328647, Accuracy: 0.984615\n"
     ]
    },
    {
     "name": "stderr",
     "output_type": "stream",
     "text": [
      "Training: Epoch 197/10000: 100%|██████████| 160/160 [00:50<00:00,  3.16it/s]\n"
     ]
    },
    {
     "name": "stdout",
     "output_type": "stream",
     "text": [
      "Epoch 197, Loss: 0.318459, Accuracy: 0.994709, learning rate: 0.0000032725\n"
     ]
    },
    {
     "name": "stderr",
     "output_type": "stream",
     "text": [
      "Validation: Epoch 197/10000: 100%|██████████| 520/520 [00:05<00:00, 91.31it/s]\n"
     ]
    },
    {
     "name": "stdout",
     "output_type": "stream",
     "text": [
      "Validation 197, Loss: 0.329575, Accuracy: 0.982692\n"
     ]
    },
    {
     "name": "stderr",
     "output_type": "stream",
     "text": [
      "Training: Epoch 198/10000: 100%|██████████| 160/160 [00:50<00:00,  3.15it/s]\n"
     ]
    },
    {
     "name": "stdout",
     "output_type": "stream",
     "text": [
      "Epoch 198, Loss: 0.315672, Accuracy: 0.997595, learning rate: 0.0000017275\n"
     ]
    },
    {
     "name": "stderr",
     "output_type": "stream",
     "text": [
      "Validation: Epoch 198/10000: 100%|██████████| 520/520 [00:05<00:00, 86.69it/s]\n"
     ]
    },
    {
     "name": "stdout",
     "output_type": "stream",
     "text": [
      "Validation 198, Loss: 0.329521, Accuracy: 0.982692\n"
     ]
    },
    {
     "name": "stderr",
     "output_type": "stream",
     "text": [
      "Training: Epoch 199/10000: 100%|██████████| 160/160 [00:50<00:00,  3.15it/s]\n"
     ]
    },
    {
     "name": "stdout",
     "output_type": "stream",
     "text": [
      "Epoch 199, Loss: 0.316126, Accuracy: 0.997114, learning rate: 0.0000004775\n"
     ]
    },
    {
     "name": "stderr",
     "output_type": "stream",
     "text": [
      "Validation: Epoch 199/10000: 100%|██████████| 520/520 [00:05<00:00, 91.47it/s]\n"
     ]
    },
    {
     "name": "stdout",
     "output_type": "stream",
     "text": [
      "Validation 199, Loss: 0.326884, Accuracy: 0.986538\n"
     ]
    },
    {
     "name": "stderr",
     "output_type": "stream",
     "text": [
      "Training: Epoch 200/10000: 100%|██████████| 160/160 [00:50<00:00,  3.14it/s]\n"
     ]
    },
    {
     "name": "stdout",
     "output_type": "stream",
     "text": [
      "Epoch 200, Loss: 0.315670, Accuracy: 0.997595, learning rate: 0.0000050000\n"
     ]
    },
    {
     "name": "stderr",
     "output_type": "stream",
     "text": [
      "Validation: Epoch 200/10000: 100%|██████████| 520/520 [00:06<00:00, 85.53it/s]\n"
     ]
    },
    {
     "name": "stdout",
     "output_type": "stream",
     "text": [
      "Validation 200, Loss: 0.326883, Accuracy: 0.986538\n"
     ]
    },
    {
     "name": "stderr",
     "output_type": "stream",
     "text": [
      "Training: Epoch 201/10000: 100%|██████████| 160/160 [00:50<00:00,  3.15it/s]\n"
     ]
    },
    {
     "name": "stdout",
     "output_type": "stream",
     "text": [
      "Epoch 201, Loss: 0.317506, Accuracy: 0.995671, learning rate: 0.0000045225\n"
     ]
    },
    {
     "name": "stderr",
     "output_type": "stream",
     "text": [
      "Validation: Epoch 201/10000: 100%|██████████| 520/520 [00:05<00:00, 91.16it/s]\n"
     ]
    },
    {
     "name": "stdout",
     "output_type": "stream",
     "text": [
      "Validation 201, Loss: 0.319218, Accuracy: 0.994231\n"
     ]
    },
    {
     "name": "stderr",
     "output_type": "stream",
     "text": [
      "Training: Epoch 202/10000: 100%|██████████| 160/160 [00:50<00:00,  3.15it/s]\n"
     ]
    },
    {
     "name": "stdout",
     "output_type": "stream",
     "text": [
      "Epoch 202, Loss: 0.315674, Accuracy: 0.997595, learning rate: 0.0000032725\n"
     ]
    },
    {
     "name": "stderr",
     "output_type": "stream",
     "text": [
      "Validation: Epoch 202/10000: 100%|██████████| 520/520 [00:05<00:00, 90.03it/s]\n"
     ]
    },
    {
     "name": "stdout",
     "output_type": "stream",
     "text": [
      "Validation 202, Loss: 0.319089, Accuracy: 0.994231\n"
     ]
    },
    {
     "name": "stderr",
     "output_type": "stream",
     "text": [
      "Training: Epoch 203/10000: 100%|██████████| 160/160 [00:50<00:00,  3.16it/s]\n"
     ]
    },
    {
     "name": "stdout",
     "output_type": "stream",
     "text": [
      "Epoch 203, Loss: 0.316141, Accuracy: 0.997114, learning rate: 0.0000017275\n"
     ]
    },
    {
     "name": "stderr",
     "output_type": "stream",
     "text": [
      "Validation: Epoch 203/10000: 100%|██████████| 520/520 [00:05<00:00, 88.66it/s]\n"
     ]
    },
    {
     "name": "stdout",
     "output_type": "stream",
     "text": [
      "Validation 203, Loss: 0.321739, Accuracy: 0.992308\n"
     ]
    },
    {
     "name": "stderr",
     "output_type": "stream",
     "text": [
      "Training: Epoch 204/10000: 100%|██████████| 160/160 [00:50<00:00,  3.15it/s]\n"
     ]
    },
    {
     "name": "stdout",
     "output_type": "stream",
     "text": [
      "Epoch 204, Loss: 0.315288, Accuracy: 0.998076, learning rate: 0.0000004775\n"
     ]
    },
    {
     "name": "stderr",
     "output_type": "stream",
     "text": [
      "Validation: Epoch 204/10000: 100%|██████████| 520/520 [00:06<00:00, 84.83it/s]\n"
     ]
    },
    {
     "name": "stdout",
     "output_type": "stream",
     "text": [
      "Validation 204, Loss: 0.321037, Accuracy: 0.992308\n"
     ]
    },
    {
     "name": "stderr",
     "output_type": "stream",
     "text": [
      "Training: Epoch 205/10000: 100%|██████████| 160/160 [00:51<00:00,  3.13it/s]\n"
     ]
    },
    {
     "name": "stdout",
     "output_type": "stream",
     "text": [
      "Epoch 205, Loss: 0.315191, Accuracy: 0.998076, learning rate: 0.0000050000\n"
     ]
    },
    {
     "name": "stderr",
     "output_type": "stream",
     "text": [
      "Validation: Epoch 205/10000: 100%|██████████| 520/520 [00:05<00:00, 92.59it/s]\n"
     ]
    },
    {
     "name": "stdout",
     "output_type": "stream",
     "text": [
      "Validation 205, Loss: 0.321037, Accuracy: 0.992308\n"
     ]
    },
    {
     "name": "stderr",
     "output_type": "stream",
     "text": [
      "Training: Epoch 206/10000: 100%|██████████| 160/160 [00:50<00:00,  3.15it/s]\n"
     ]
    },
    {
     "name": "stdout",
     "output_type": "stream",
     "text": [
      "Epoch 206, Loss: 0.315192, Accuracy: 0.998076, learning rate: 0.0000045225\n"
     ]
    },
    {
     "name": "stderr",
     "output_type": "stream",
     "text": [
      "Validation: Epoch 206/10000: 100%|██████████| 520/520 [00:06<00:00, 83.54it/s]\n"
     ]
    },
    {
     "name": "stdout",
     "output_type": "stream",
     "text": [
      "Validation 206, Loss: 0.321013, Accuracy: 0.992308\n"
     ]
    },
    {
     "name": "stderr",
     "output_type": "stream",
     "text": [
      "Training: Epoch 207/10000: 100%|██████████| 160/160 [00:50<00:00,  3.15it/s]\n"
     ]
    },
    {
     "name": "stdout",
     "output_type": "stream",
     "text": [
      "Epoch 207, Loss: 0.316728, Accuracy: 0.996633, learning rate: 0.0000032725\n"
     ]
    },
    {
     "name": "stderr",
     "output_type": "stream",
     "text": [
      "Validation: Epoch 207/10000: 100%|██████████| 520/520 [00:05<00:00, 91.56it/s]\n"
     ]
    },
    {
     "name": "stdout",
     "output_type": "stream",
     "text": [
      "Validation 207, Loss: 0.325269, Accuracy: 0.988462\n"
     ]
    },
    {
     "name": "stderr",
     "output_type": "stream",
     "text": [
      "Training: Epoch 208/10000: 100%|██████████| 160/160 [00:50<00:00,  3.17it/s]\n"
     ]
    },
    {
     "name": "stdout",
     "output_type": "stream",
     "text": [
      "Epoch 208, Loss: 0.315198, Accuracy: 0.998076, learning rate: 0.0000017275\n"
     ]
    },
    {
     "name": "stderr",
     "output_type": "stream",
     "text": [
      "Validation: Epoch 208/10000: 100%|██████████| 520/520 [00:05<00:00, 90.00it/s]\n"
     ]
    },
    {
     "name": "stdout",
     "output_type": "stream",
     "text": [
      "Validation 208, Loss: 0.324517, Accuracy: 0.988462\n"
     ]
    },
    {
     "name": "stderr",
     "output_type": "stream",
     "text": [
      "Training: Epoch 209/10000: 100%|██████████| 160/160 [00:50<00:00,  3.17it/s]\n"
     ]
    },
    {
     "name": "stdout",
     "output_type": "stream",
     "text": [
      "Epoch 209, Loss: 0.315258, Accuracy: 0.998076, learning rate: 0.0000004775\n"
     ]
    },
    {
     "name": "stderr",
     "output_type": "stream",
     "text": [
      "Validation: Epoch 209/10000: 100%|██████████| 520/520 [00:05<00:00, 88.86it/s]\n"
     ]
    },
    {
     "name": "stdout",
     "output_type": "stream",
     "text": [
      "Validation 209, Loss: 0.321005, Accuracy: 0.992308\n"
     ]
    },
    {
     "name": "stderr",
     "output_type": "stream",
     "text": [
      "Training: Epoch 210/10000: 100%|██████████| 160/160 [00:50<00:00,  3.16it/s]\n"
     ]
    },
    {
     "name": "stdout",
     "output_type": "stream",
     "text": [
      "Epoch 210, Loss: 0.315189, Accuracy: 0.998076, learning rate: 0.0000050000\n"
     ]
    },
    {
     "name": "stderr",
     "output_type": "stream",
     "text": [
      "Validation: Epoch 210/10000: 100%|██████████| 520/520 [00:05<00:00, 90.41it/s]\n"
     ]
    },
    {
     "name": "stdout",
     "output_type": "stream",
     "text": [
      "Validation 210, Loss: 0.321005, Accuracy: 0.992308\n"
     ]
    },
    {
     "name": "stderr",
     "output_type": "stream",
     "text": [
      "Training: Epoch 211/10000: 100%|██████████| 160/160 [00:50<00:00,  3.15it/s]\n"
     ]
    },
    {
     "name": "stdout",
     "output_type": "stream",
     "text": [
      "Epoch 211, Loss: 0.315669, Accuracy: 0.997595, learning rate: 0.0000045225\n"
     ]
    },
    {
     "name": "stderr",
     "output_type": "stream",
     "text": [
      "Validation: Epoch 211/10000: 100%|██████████| 520/520 [00:06<00:00, 86.35it/s]\n"
     ]
    },
    {
     "name": "stdout",
     "output_type": "stream",
     "text": [
      "Validation 211, Loss: 0.320968, Accuracy: 0.992308\n"
     ]
    },
    {
     "name": "stderr",
     "output_type": "stream",
     "text": [
      "Training: Epoch 212/10000: 100%|██████████| 160/160 [00:50<00:00,  3.15it/s]\n"
     ]
    },
    {
     "name": "stdout",
     "output_type": "stream",
     "text": [
      "Epoch 212, Loss: 0.315188, Accuracy: 0.998076, learning rate: 0.0000032725\n"
     ]
    },
    {
     "name": "stderr",
     "output_type": "stream",
     "text": [
      "Validation: Epoch 212/10000: 100%|██████████| 520/520 [00:05<00:00, 90.28it/s]\n"
     ]
    },
    {
     "name": "stdout",
     "output_type": "stream",
     "text": [
      "Validation 212, Loss: 0.320968, Accuracy: 0.992308\n"
     ]
    },
    {
     "name": "stderr",
     "output_type": "stream",
     "text": [
      "Training: Epoch 213/10000: 100%|██████████| 160/160 [00:50<00:00,  3.15it/s]\n"
     ]
    },
    {
     "name": "stdout",
     "output_type": "stream",
     "text": [
      "Epoch 213, Loss: 0.315188, Accuracy: 0.998076, learning rate: 0.0000017275\n"
     ]
    },
    {
     "name": "stderr",
     "output_type": "stream",
     "text": [
      "Validation: Epoch 213/10000: 100%|██████████| 520/520 [00:06<00:00, 84.85it/s]\n"
     ]
    },
    {
     "name": "stdout",
     "output_type": "stream",
     "text": [
      "Validation 213, Loss: 0.320967, Accuracy: 0.992308\n"
     ]
    },
    {
     "name": "stderr",
     "output_type": "stream",
     "text": [
      "Training: Epoch 214/10000: 100%|██████████| 160/160 [00:50<00:00,  3.15it/s]\n"
     ]
    },
    {
     "name": "stdout",
     "output_type": "stream",
     "text": [
      "Epoch 214, Loss: 0.315241, Accuracy: 0.998076, learning rate: 0.0000004775\n"
     ]
    },
    {
     "name": "stderr",
     "output_type": "stream",
     "text": [
      "Validation: Epoch 214/10000: 100%|██████████| 520/520 [00:05<00:00, 91.46it/s]\n"
     ]
    },
    {
     "name": "stdout",
     "output_type": "stream",
     "text": [
      "Validation 214, Loss: 0.320971, Accuracy: 0.992308\n"
     ]
    },
    {
     "name": "stderr",
     "output_type": "stream",
     "text": [
      "Training: Epoch 215/10000: 100%|██████████| 160/160 [00:50<00:00,  3.16it/s]\n"
     ]
    },
    {
     "name": "stdout",
     "output_type": "stream",
     "text": [
      "Epoch 215, Loss: 0.315191, Accuracy: 0.998076, learning rate: 0.0000050000\n"
     ]
    },
    {
     "name": "stderr",
     "output_type": "stream",
     "text": [
      "Validation: Epoch 215/10000: 100%|██████████| 520/520 [00:05<00:00, 88.25it/s]\n"
     ]
    },
    {
     "name": "stdout",
     "output_type": "stream",
     "text": [
      "Validation 215, Loss: 0.320970, Accuracy: 0.992308\n"
     ]
    },
    {
     "name": "stderr",
     "output_type": "stream",
     "text": [
      "Training: Epoch 216/10000: 100%|██████████| 160/160 [00:50<00:00,  3.14it/s]\n"
     ]
    },
    {
     "name": "stdout",
     "output_type": "stream",
     "text": [
      "Epoch 216, Loss: 0.315261, Accuracy: 0.998076, learning rate: 0.0000045225\n"
     ]
    },
    {
     "name": "stderr",
     "output_type": "stream",
     "text": [
      "Validation: Epoch 216/10000: 100%|██████████| 520/520 [00:05<00:00, 89.85it/s]\n"
     ]
    },
    {
     "name": "stdout",
     "output_type": "stream",
     "text": [
      "Validation 216, Loss: 0.322418, Accuracy: 0.990385\n"
     ]
    },
    {
     "name": "stderr",
     "output_type": "stream",
     "text": [
      "Training: Epoch 217/10000: 100%|██████████| 160/160 [00:50<00:00,  3.15it/s]\n"
     ]
    },
    {
     "name": "stdout",
     "output_type": "stream",
     "text": [
      "Epoch 217, Loss: 0.315877, Accuracy: 0.997114, learning rate: 0.0000032725\n"
     ]
    },
    {
     "name": "stderr",
     "output_type": "stream",
     "text": [
      "Validation: Epoch 217/10000: 100%|██████████| 520/520 [00:05<00:00, 87.66it/s]\n"
     ]
    },
    {
     "name": "stdout",
     "output_type": "stream",
     "text": [
      "Validation 217, Loss: 0.319032, Accuracy: 0.994231\n"
     ]
    },
    {
     "name": "stderr",
     "output_type": "stream",
     "text": [
      "Training: Epoch 218/10000: 100%|██████████| 160/160 [00:51<00:00,  3.13it/s]\n"
     ]
    },
    {
     "name": "stdout",
     "output_type": "stream",
     "text": [
      "Epoch 218, Loss: 0.316101, Accuracy: 0.997114, learning rate: 0.0000017275\n"
     ]
    },
    {
     "name": "stderr",
     "output_type": "stream",
     "text": [
      "Validation: Epoch 218/10000: 100%|██████████| 520/520 [00:05<00:00, 91.09it/s]\n"
     ]
    },
    {
     "name": "stdout",
     "output_type": "stream",
     "text": [
      "Validation 218, Loss: 0.319086, Accuracy: 0.994231\n"
     ]
    },
    {
     "name": "stderr",
     "output_type": "stream",
     "text": [
      "Training: Epoch 219/10000: 100%|██████████| 160/160 [00:50<00:00,  3.15it/s]\n"
     ]
    },
    {
     "name": "stdout",
     "output_type": "stream",
     "text": [
      "Epoch 219, Loss: 0.315188, Accuracy: 0.998076, learning rate: 0.0000004775\n"
     ]
    },
    {
     "name": "stderr",
     "output_type": "stream",
     "text": [
      "Validation: Epoch 219/10000: 100%|██████████| 520/520 [00:06<00:00, 84.11it/s]\n"
     ]
    },
    {
     "name": "stdout",
     "output_type": "stream",
     "text": [
      "Validation 219, Loss: 0.319112, Accuracy: 0.994231\n"
     ]
    },
    {
     "name": "stderr",
     "output_type": "stream",
     "text": [
      "Training: Epoch 220/10000: 100%|██████████| 160/160 [00:50<00:00,  3.14it/s]\n"
     ]
    },
    {
     "name": "stdout",
     "output_type": "stream",
     "text": [
      "Epoch 220, Loss: 0.315187, Accuracy: 0.998076, learning rate: 0.0000050000\n"
     ]
    },
    {
     "name": "stderr",
     "output_type": "stream",
     "text": [
      "Validation: Epoch 220/10000: 100%|██████████| 520/520 [00:05<00:00, 92.87it/s]\n"
     ]
    },
    {
     "name": "stdout",
     "output_type": "stream",
     "text": [
      "Validation 220, Loss: 0.319119, Accuracy: 0.994231\n"
     ]
    },
    {
     "name": "stderr",
     "output_type": "stream",
     "text": [
      "Training: Epoch 221/10000: 100%|██████████| 160/160 [00:50<00:00,  3.16it/s]\n"
     ]
    },
    {
     "name": "stdout",
     "output_type": "stream",
     "text": [
      "Epoch 221, Loss: 0.317358, Accuracy: 0.996152, learning rate: 0.0000045225\n"
     ]
    },
    {
     "name": "stderr",
     "output_type": "stream",
     "text": [
      "Validation: Epoch 221/10000: 100%|██████████| 520/520 [00:05<00:00, 88.36it/s]\n"
     ]
    },
    {
     "name": "stdout",
     "output_type": "stream",
     "text": [
      "Validation 221, Loss: 0.322822, Accuracy: 0.990385\n"
     ]
    },
    {
     "name": "stderr",
     "output_type": "stream",
     "text": [
      "Training: Epoch 222/10000: 100%|██████████| 160/160 [00:50<00:00,  3.15it/s]\n"
     ]
    },
    {
     "name": "stdout",
     "output_type": "stream",
     "text": [
      "Epoch 222, Loss: 0.315188, Accuracy: 0.998076, learning rate: 0.0000032725\n"
     ]
    },
    {
     "name": "stderr",
     "output_type": "stream",
     "text": [
      "Validation: Epoch 222/10000: 100%|██████████| 520/520 [00:05<00:00, 89.51it/s]\n"
     ]
    },
    {
     "name": "stdout",
     "output_type": "stream",
     "text": [
      "Validation 222, Loss: 0.323267, Accuracy: 0.990385\n"
     ]
    },
    {
     "name": "stderr",
     "output_type": "stream",
     "text": [
      "Training: Epoch 223/10000: 100%|██████████| 160/160 [00:50<00:00,  3.16it/s]\n"
     ]
    },
    {
     "name": "stdout",
     "output_type": "stream",
     "text": [
      "Epoch 223, Loss: 0.317603, Accuracy: 0.995671, learning rate: 0.0000017275\n"
     ]
    },
    {
     "name": "stderr",
     "output_type": "stream",
     "text": [
      "Validation: Epoch 223/10000: 100%|██████████| 520/520 [00:06<00:00, 85.94it/s]\n"
     ]
    },
    {
     "name": "stdout",
     "output_type": "stream",
     "text": [
      "Validation 223, Loss: 0.325117, Accuracy: 0.988462\n"
     ]
    },
    {
     "name": "stderr",
     "output_type": "stream",
     "text": [
      "Training: Epoch 224/10000: 100%|██████████| 160/160 [00:50<00:00,  3.14it/s]\n"
     ]
    },
    {
     "name": "stdout",
     "output_type": "stream",
     "text": [
      "Epoch 224, Loss: 0.315434, Accuracy: 0.998076, learning rate: 0.0000004775\n"
     ]
    },
    {
     "name": "stderr",
     "output_type": "stream",
     "text": [
      "Validation: Epoch 224/10000: 100%|██████████| 520/520 [00:05<00:00, 92.20it/s]\n"
     ]
    },
    {
     "name": "stdout",
     "output_type": "stream",
     "text": [
      "Validation 224, Loss: 0.320955, Accuracy: 0.992308\n"
     ]
    },
    {
     "name": "stderr",
     "output_type": "stream",
     "text": [
      "Training: Epoch 225/10000: 100%|██████████| 160/160 [00:50<00:00,  3.14it/s]\n"
     ]
    },
    {
     "name": "stdout",
     "output_type": "stream",
     "text": [
      "Epoch 225, Loss: 0.315373, Accuracy: 0.997595, learning rate: 0.0000050000\n"
     ]
    },
    {
     "name": "stderr",
     "output_type": "stream",
     "text": [
      "Validation: Epoch 225/10000: 100%|██████████| 520/520 [00:06<00:00, 84.88it/s]\n"
     ]
    },
    {
     "name": "stdout",
     "output_type": "stream",
     "text": [
      "Validation 225, Loss: 0.320955, Accuracy: 0.992308\n"
     ]
    },
    {
     "name": "stderr",
     "output_type": "stream",
     "text": [
      "Training: Epoch 226/10000: 100%|██████████| 160/160 [00:50<00:00,  3.15it/s]\n"
     ]
    },
    {
     "name": "stdout",
     "output_type": "stream",
     "text": [
      "Epoch 226, Loss: 0.315187, Accuracy: 0.998076, learning rate: 0.0000045225\n"
     ]
    },
    {
     "name": "stderr",
     "output_type": "stream",
     "text": [
      "Validation: Epoch 226/10000: 100%|██████████| 520/520 [00:05<00:00, 90.00it/s]\n"
     ]
    },
    {
     "name": "stdout",
     "output_type": "stream",
     "text": [
      "Validation 226, Loss: 0.320955, Accuracy: 0.992308\n"
     ]
    },
    {
     "name": "stderr",
     "output_type": "stream",
     "text": [
      "Training: Epoch 227/10000: 100%|██████████| 160/160 [00:50<00:00,  3.16it/s]\n"
     ]
    },
    {
     "name": "stdout",
     "output_type": "stream",
     "text": [
      "Epoch 227, Loss: 0.315187, Accuracy: 0.998076, learning rate: 0.0000032725\n"
     ]
    },
    {
     "name": "stderr",
     "output_type": "stream",
     "text": [
      "Validation: Epoch 227/10000: 100%|██████████| 520/520 [00:05<00:00, 89.67it/s]\n"
     ]
    },
    {
     "name": "stdout",
     "output_type": "stream",
     "text": [
      "Validation 227, Loss: 0.320955, Accuracy: 0.992308\n"
     ]
    },
    {
     "name": "stderr",
     "output_type": "stream",
     "text": [
      "Training: Epoch 228/10000: 100%|██████████| 160/160 [00:50<00:00,  3.15it/s]\n"
     ]
    },
    {
     "name": "stdout",
     "output_type": "stream",
     "text": [
      "Epoch 228, Loss: 0.315187, Accuracy: 0.998076, learning rate: 0.0000017275\n"
     ]
    },
    {
     "name": "stderr",
     "output_type": "stream",
     "text": [
      "Validation: Epoch 228/10000: 100%|██████████| 520/520 [00:05<00:00, 90.29it/s]\n"
     ]
    },
    {
     "name": "stdout",
     "output_type": "stream",
     "text": [
      "Validation 228, Loss: 0.320955, Accuracy: 0.992308\n"
     ]
    },
    {
     "name": "stderr",
     "output_type": "stream",
     "text": [
      "Training: Epoch 229/10000: 100%|██████████| 160/160 [00:50<00:00,  3.16it/s]\n"
     ]
    },
    {
     "name": "stdout",
     "output_type": "stream",
     "text": [
      "Epoch 229, Loss: 0.315193, Accuracy: 0.998076, learning rate: 0.0000004775\n"
     ]
    },
    {
     "name": "stderr",
     "output_type": "stream",
     "text": [
      "Validation: Epoch 229/10000: 100%|██████████| 520/520 [00:05<00:00, 91.09it/s]\n"
     ]
    },
    {
     "name": "stdout",
     "output_type": "stream",
     "text": [
      "Validation 229, Loss: 0.320955, Accuracy: 0.992308\n"
     ]
    },
    {
     "name": "stderr",
     "output_type": "stream",
     "text": [
      "Training: Epoch 230/10000: 100%|██████████| 160/160 [00:50<00:00,  3.15it/s]\n"
     ]
    },
    {
     "name": "stdout",
     "output_type": "stream",
     "text": [
      "Epoch 230, Loss: 0.315187, Accuracy: 0.998076, learning rate: 0.0000050000\n"
     ]
    },
    {
     "name": "stderr",
     "output_type": "stream",
     "text": [
      "Validation: Epoch 230/10000: 100%|██████████| 520/520 [00:06<00:00, 86.15it/s]\n"
     ]
    },
    {
     "name": "stdout",
     "output_type": "stream",
     "text": [
      "Validation 230, Loss: 0.320955, Accuracy: 0.992308\n"
     ]
    },
    {
     "name": "stderr",
     "output_type": "stream",
     "text": [
      "Training: Epoch 231/10000: 100%|██████████| 160/160 [00:50<00:00,  3.15it/s]\n"
     ]
    },
    {
     "name": "stdout",
     "output_type": "stream",
     "text": [
      "Epoch 231, Loss: 0.315667, Accuracy: 0.997595, learning rate: 0.0000045225\n"
     ]
    },
    {
     "name": "stderr",
     "output_type": "stream",
     "text": [
      "Validation: Epoch 231/10000: 100%|██████████| 520/520 [00:05<00:00, 89.52it/s]\n"
     ]
    },
    {
     "name": "stdout",
     "output_type": "stream",
     "text": [
      "Validation 231, Loss: 0.320955, Accuracy: 0.992308\n"
     ]
    },
    {
     "name": "stderr",
     "output_type": "stream",
     "text": [
      "Training: Epoch 232/10000: 100%|██████████| 160/160 [00:51<00:00,  3.13it/s]\n"
     ]
    },
    {
     "name": "stdout",
     "output_type": "stream",
     "text": [
      "Epoch 232, Loss: 0.315186, Accuracy: 0.998076, learning rate: 0.0000032725\n"
     ]
    },
    {
     "name": "stderr",
     "output_type": "stream",
     "text": [
      "Validation: Epoch 232/10000: 100%|██████████| 520/520 [00:06<00:00, 85.96it/s]\n"
     ]
    },
    {
     "name": "stdout",
     "output_type": "stream",
     "text": [
      "Validation 232, Loss: 0.320955, Accuracy: 0.992308\n"
     ]
    },
    {
     "name": "stderr",
     "output_type": "stream",
     "text": [
      "Training: Epoch 233/10000: 100%|██████████| 160/160 [00:51<00:00,  3.12it/s]\n"
     ]
    },
    {
     "name": "stdout",
     "output_type": "stream",
     "text": [
      "Epoch 233, Loss: 0.315667, Accuracy: 0.997595, learning rate: 0.0000017275\n"
     ]
    },
    {
     "name": "stderr",
     "output_type": "stream",
     "text": [
      "Validation: Epoch 233/10000: 100%|██████████| 520/520 [00:05<00:00, 89.53it/s]\n"
     ]
    },
    {
     "name": "stdout",
     "output_type": "stream",
     "text": [
      "Validation 233, Loss: 0.320955, Accuracy: 0.992308\n"
     ]
    },
    {
     "name": "stderr",
     "output_type": "stream",
     "text": [
      "Training: Epoch 234/10000: 100%|██████████| 160/160 [00:50<00:00,  3.14it/s]\n"
     ]
    },
    {
     "name": "stdout",
     "output_type": "stream",
     "text": [
      "Epoch 234, Loss: 0.315187, Accuracy: 0.998076, learning rate: 0.0000004775\n"
     ]
    },
    {
     "name": "stderr",
     "output_type": "stream",
     "text": [
      "Validation: Epoch 234/10000: 100%|██████████| 520/520 [00:05<00:00, 88.19it/s]\n"
     ]
    },
    {
     "name": "stdout",
     "output_type": "stream",
     "text": [
      "Validation 234, Loss: 0.320955, Accuracy: 0.992308\n"
     ]
    },
    {
     "name": "stderr",
     "output_type": "stream",
     "text": [
      "Training: Epoch 235/10000: 100%|██████████| 160/160 [00:51<00:00,  3.13it/s]\n"
     ]
    },
    {
     "name": "stdout",
     "output_type": "stream",
     "text": [
      "Epoch 235, Loss: 0.315667, Accuracy: 0.997595, learning rate: 0.0000050000\n"
     ]
    },
    {
     "name": "stderr",
     "output_type": "stream",
     "text": [
      "Validation: Epoch 235/10000: 100%|██████████| 520/520 [00:05<00:00, 89.75it/s]\n"
     ]
    },
    {
     "name": "stdout",
     "output_type": "stream",
     "text": [
      "Validation 235, Loss: 0.320955, Accuracy: 0.992308\n"
     ]
    },
    {
     "name": "stderr",
     "output_type": "stream",
     "text": [
      "Training: Epoch 236/10000: 100%|██████████| 160/160 [00:50<00:00,  3.15it/s]\n"
     ]
    },
    {
     "name": "stdout",
     "output_type": "stream",
     "text": [
      "Epoch 236, Loss: 0.315186, Accuracy: 0.998076, learning rate: 0.0000045225\n"
     ]
    },
    {
     "name": "stderr",
     "output_type": "stream",
     "text": [
      "Validation: Epoch 236/10000: 100%|██████████| 520/520 [00:05<00:00, 88.32it/s]\n"
     ]
    },
    {
     "name": "stdout",
     "output_type": "stream",
     "text": [
      "Validation 236, Loss: 0.320955, Accuracy: 0.992308\n"
     ]
    },
    {
     "name": "stderr",
     "output_type": "stream",
     "text": [
      "Training: Epoch 237/10000: 100%|██████████| 160/160 [00:51<00:00,  3.12it/s]\n"
     ]
    },
    {
     "name": "stdout",
     "output_type": "stream",
     "text": [
      "Epoch 237, Loss: 0.315206, Accuracy: 0.998076, learning rate: 0.0000032725\n"
     ]
    },
    {
     "name": "stderr",
     "output_type": "stream",
     "text": [
      "Validation: Epoch 237/10000: 100%|██████████| 520/520 [00:05<00:00, 91.17it/s]\n"
     ]
    },
    {
     "name": "stdout",
     "output_type": "stream",
     "text": [
      "Validation 237, Loss: 0.324890, Accuracy: 0.988462\n"
     ]
    },
    {
     "name": "stderr",
     "output_type": "stream",
     "text": [
      "Training: Epoch 238/10000: 100%|██████████| 160/160 [00:50<00:00,  3.14it/s]\n"
     ]
    },
    {
     "name": "stdout",
     "output_type": "stream",
     "text": [
      "Epoch 238, Loss: 0.315187, Accuracy: 0.998076, learning rate: 0.0000017275\n"
     ]
    },
    {
     "name": "stderr",
     "output_type": "stream",
     "text": [
      "Validation: Epoch 238/10000: 100%|██████████| 520/520 [00:06<00:00, 86.31it/s]\n"
     ]
    },
    {
     "name": "stdout",
     "output_type": "stream",
     "text": [
      "Validation 238, Loss: 0.324872, Accuracy: 0.988462\n"
     ]
    },
    {
     "name": "stderr",
     "output_type": "stream",
     "text": [
      "Training: Epoch 239/10000: 100%|██████████| 160/160 [00:51<00:00,  3.13it/s]\n"
     ]
    },
    {
     "name": "stdout",
     "output_type": "stream",
     "text": [
      "Epoch 239, Loss: 0.315187, Accuracy: 0.998076, learning rate: 0.0000004775\n"
     ]
    },
    {
     "name": "stderr",
     "output_type": "stream",
     "text": [
      "Validation: Epoch 239/10000: 100%|██████████| 520/520 [00:05<00:00, 91.02it/s]\n"
     ]
    },
    {
     "name": "stdout",
     "output_type": "stream",
     "text": [
      "Validation 239, Loss: 0.324857, Accuracy: 0.988462\n"
     ]
    },
    {
     "name": "stderr",
     "output_type": "stream",
     "text": [
      "Training: Epoch 240/10000: 100%|██████████| 160/160 [00:51<00:00,  3.13it/s]\n"
     ]
    },
    {
     "name": "stdout",
     "output_type": "stream",
     "text": [
      "Epoch 240, Loss: 0.316650, Accuracy: 0.996633, learning rate: 0.0000050000\n"
     ]
    },
    {
     "name": "stderr",
     "output_type": "stream",
     "text": [
      "Validation: Epoch 240/10000: 100%|██████████| 520/520 [00:05<00:00, 88.47it/s]\n"
     ]
    },
    {
     "name": "stdout",
     "output_type": "stream",
     "text": [
      "Validation 240, Loss: 0.324892, Accuracy: 0.988462\n"
     ]
    },
    {
     "name": "stderr",
     "output_type": "stream",
     "text": [
      "Training: Epoch 241/10000: 100%|██████████| 160/160 [00:50<00:00,  3.14it/s]\n"
     ]
    },
    {
     "name": "stdout",
     "output_type": "stream",
     "text": [
      "Epoch 241, Loss: 0.315186, Accuracy: 0.998076, learning rate: 0.0000045225\n"
     ]
    },
    {
     "name": "stderr",
     "output_type": "stream",
     "text": [
      "Validation: Epoch 241/10000: 100%|██████████| 520/520 [00:05<00:00, 88.71it/s]\n"
     ]
    },
    {
     "name": "stdout",
     "output_type": "stream",
     "text": [
      "Validation 241, Loss: 0.324880, Accuracy: 0.988462\n"
     ]
    },
    {
     "name": "stderr",
     "output_type": "stream",
     "text": [
      "Training: Epoch 242/10000: 100%|██████████| 160/160 [00:51<00:00,  3.14it/s]\n"
     ]
    },
    {
     "name": "stdout",
     "output_type": "stream",
     "text": [
      "Epoch 242, Loss: 0.315674, Accuracy: 0.997595, learning rate: 0.0000032725\n"
     ]
    },
    {
     "name": "stderr",
     "output_type": "stream",
     "text": [
      "Validation: Epoch 242/10000: 100%|██████████| 520/520 [00:06<00:00, 84.46it/s]\n"
     ]
    },
    {
     "name": "stdout",
     "output_type": "stream",
     "text": [
      "Validation 242, Loss: 0.319031, Accuracy: 0.994231\n"
     ]
    },
    {
     "name": "stderr",
     "output_type": "stream",
     "text": [
      "Training: Epoch 243/10000: 100%|██████████| 160/160 [00:50<00:00,  3.16it/s]\n"
     ]
    },
    {
     "name": "stdout",
     "output_type": "stream",
     "text": [
      "Epoch 243, Loss: 0.315667, Accuracy: 0.997595, learning rate: 0.0000017275\n"
     ]
    },
    {
     "name": "stderr",
     "output_type": "stream",
     "text": [
      "Validation: Epoch 243/10000: 100%|██████████| 520/520 [00:05<00:00, 90.75it/s]\n"
     ]
    },
    {
     "name": "stdout",
     "output_type": "stream",
     "text": [
      "Validation 243, Loss: 0.319031, Accuracy: 0.994231\n"
     ]
    },
    {
     "name": "stderr",
     "output_type": "stream",
     "text": [
      "Training: Epoch 244/10000: 100%|██████████| 160/160 [00:50<00:00,  3.14it/s]\n"
     ]
    },
    {
     "name": "stdout",
     "output_type": "stream",
     "text": [
      "Epoch 244, Loss: 0.315186, Accuracy: 0.998076, learning rate: 0.0000004775\n"
     ]
    },
    {
     "name": "stderr",
     "output_type": "stream",
     "text": [
      "Validation: Epoch 244/10000: 100%|██████████| 520/520 [00:05<00:00, 86.74it/s]\n"
     ]
    },
    {
     "name": "stdout",
     "output_type": "stream",
     "text": [
      "Validation 244, Loss: 0.319031, Accuracy: 0.994231\n"
     ]
    },
    {
     "name": "stderr",
     "output_type": "stream",
     "text": [
      "Training: Epoch 245/10000: 100%|██████████| 160/160 [00:50<00:00,  3.15it/s]\n"
     ]
    },
    {
     "name": "stdout",
     "output_type": "stream",
     "text": [
      "Epoch 245, Loss: 0.315226, Accuracy: 0.998076, learning rate: 0.0000050000\n"
     ]
    },
    {
     "name": "stderr",
     "output_type": "stream",
     "text": [
      "Validation: Epoch 245/10000: 100%|██████████| 520/520 [00:05<00:00, 90.50it/s]\n"
     ]
    },
    {
     "name": "stdout",
     "output_type": "stream",
     "text": [
      "Validation 245, Loss: 0.319031, Accuracy: 0.994231\n"
     ]
    },
    {
     "name": "stderr",
     "output_type": "stream",
     "text": [
      "Training: Epoch 246/10000: 100%|██████████| 160/160 [00:50<00:00,  3.15it/s]\n"
     ]
    },
    {
     "name": "stdout",
     "output_type": "stream",
     "text": [
      "Epoch 246, Loss: 0.315186, Accuracy: 0.998076, learning rate: 0.0000045225\n"
     ]
    },
    {
     "name": "stderr",
     "output_type": "stream",
     "text": [
      "Validation: Epoch 246/10000: 100%|██████████| 520/520 [00:05<00:00, 89.18it/s]\n"
     ]
    },
    {
     "name": "stdout",
     "output_type": "stream",
     "text": [
      "Validation 246, Loss: 0.319031, Accuracy: 0.994231\n"
     ]
    },
    {
     "name": "stderr",
     "output_type": "stream",
     "text": [
      "Training: Epoch 247/10000: 100%|██████████| 160/160 [00:51<00:00,  3.14it/s]\n"
     ]
    },
    {
     "name": "stdout",
     "output_type": "stream",
     "text": [
      "Epoch 247, Loss: 0.315186, Accuracy: 0.998076, learning rate: 0.0000032725\n"
     ]
    },
    {
     "name": "stderr",
     "output_type": "stream",
     "text": [
      "Validation: Epoch 247/10000: 100%|██████████| 520/520 [00:05<00:00, 89.45it/s]\n"
     ]
    },
    {
     "name": "stdout",
     "output_type": "stream",
     "text": [
      "Validation 247, Loss: 0.319031, Accuracy: 0.994231\n"
     ]
    },
    {
     "name": "stderr",
     "output_type": "stream",
     "text": [
      "Training: Epoch 248/10000: 100%|██████████| 160/160 [00:50<00:00,  3.16it/s]\n"
     ]
    },
    {
     "name": "stdout",
     "output_type": "stream",
     "text": [
      "Epoch 248, Loss: 0.315186, Accuracy: 0.998076, learning rate: 0.0000017275\n"
     ]
    },
    {
     "name": "stderr",
     "output_type": "stream",
     "text": [
      "Validation: Epoch 248/10000: 100%|██████████| 520/520 [00:05<00:00, 89.16it/s]\n"
     ]
    },
    {
     "name": "stdout",
     "output_type": "stream",
     "text": [
      "Validation 248, Loss: 0.319031, Accuracy: 0.994231\n"
     ]
    },
    {
     "name": "stderr",
     "output_type": "stream",
     "text": [
      "Training: Epoch 249/10000: 100%|██████████| 160/160 [00:50<00:00,  3.16it/s]\n"
     ]
    },
    {
     "name": "stdout",
     "output_type": "stream",
     "text": [
      "Epoch 249, Loss: 0.315667, Accuracy: 0.997595, learning rate: 0.0000004775\n"
     ]
    },
    {
     "name": "stderr",
     "output_type": "stream",
     "text": [
      "Validation: Epoch 249/10000: 100%|██████████| 520/520 [00:05<00:00, 86.74it/s]\n"
     ]
    },
    {
     "name": "stdout",
     "output_type": "stream",
     "text": [
      "Validation 249, Loss: 0.319031, Accuracy: 0.994231\n"
     ]
    },
    {
     "name": "stderr",
     "output_type": "stream",
     "text": [
      "Training: Epoch 250/10000: 100%|██████████| 160/160 [00:50<00:00,  3.15it/s]\n"
     ]
    },
    {
     "name": "stdout",
     "output_type": "stream",
     "text": [
      "Epoch 250, Loss: 0.315186, Accuracy: 0.998076, learning rate: 0.0000050000\n"
     ]
    },
    {
     "name": "stderr",
     "output_type": "stream",
     "text": [
      "Validation: Epoch 250/10000: 100%|██████████| 520/520 [00:05<00:00, 92.08it/s]\n"
     ]
    },
    {
     "name": "stdout",
     "output_type": "stream",
     "text": [
      "Validation 250, Loss: 0.319031, Accuracy: 0.994231\n"
     ]
    },
    {
     "name": "stderr",
     "output_type": "stream",
     "text": [
      "Training: Epoch 251/10000: 100%|██████████| 160/160 [00:50<00:00,  3.16it/s]\n"
     ]
    },
    {
     "name": "stdout",
     "output_type": "stream",
     "text": [
      "Epoch 251, Loss: 0.316147, Accuracy: 0.997114, learning rate: 0.0000045225\n"
     ]
    },
    {
     "name": "stderr",
     "output_type": "stream",
     "text": [
      "Validation: Epoch 251/10000: 100%|██████████| 520/520 [00:06<00:00, 85.79it/s]\n"
     ]
    },
    {
     "name": "stdout",
     "output_type": "stream",
     "text": [
      "Validation 251, Loss: 0.319031, Accuracy: 0.994231\n"
     ]
    },
    {
     "name": "stderr",
     "output_type": "stream",
     "text": [
      "Training: Epoch 252/10000: 100%|██████████| 160/160 [00:50<00:00,  3.14it/s]\n"
     ]
    },
    {
     "name": "stdout",
     "output_type": "stream",
     "text": [
      "Epoch 252, Loss: 0.315186, Accuracy: 0.998076, learning rate: 0.0000032725\n"
     ]
    },
    {
     "name": "stderr",
     "output_type": "stream",
     "text": [
      "Validation: Epoch 252/10000: 100%|██████████| 520/520 [00:05<00:00, 90.57it/s]\n"
     ]
    },
    {
     "name": "stdout",
     "output_type": "stream",
     "text": [
      "Validation 252, Loss: 0.319031, Accuracy: 0.994231\n"
     ]
    },
    {
     "name": "stderr",
     "output_type": "stream",
     "text": [
      "Training: Epoch 253/10000: 100%|██████████| 160/160 [00:50<00:00,  3.15it/s]\n"
     ]
    },
    {
     "name": "stdout",
     "output_type": "stream",
     "text": [
      "Epoch 253, Loss: 0.315186, Accuracy: 0.998076, learning rate: 0.0000017275\n"
     ]
    },
    {
     "name": "stderr",
     "output_type": "stream",
     "text": [
      "Validation: Epoch 253/10000: 100%|██████████| 520/520 [00:05<00:00, 89.56it/s]\n"
     ]
    },
    {
     "name": "stdout",
     "output_type": "stream",
     "text": [
      "Validation 253, Loss: 0.319031, Accuracy: 0.994231\n"
     ]
    },
    {
     "name": "stderr",
     "output_type": "stream",
     "text": [
      "Training: Epoch 254/10000: 100%|██████████| 160/160 [00:50<00:00,  3.15it/s]\n"
     ]
    },
    {
     "name": "stdout",
     "output_type": "stream",
     "text": [
      "Epoch 254, Loss: 0.316147, Accuracy: 0.997114, learning rate: 0.0000004775\n"
     ]
    },
    {
     "name": "stderr",
     "output_type": "stream",
     "text": [
      "Validation: Epoch 254/10000: 100%|██████████| 520/520 [00:05<00:00, 91.55it/s]\n"
     ]
    },
    {
     "name": "stdout",
     "output_type": "stream",
     "text": [
      "Validation 254, Loss: 0.319031, Accuracy: 0.994231\n"
     ]
    },
    {
     "name": "stderr",
     "output_type": "stream",
     "text": [
      "Training: Epoch 255/10000: 100%|██████████| 160/160 [00:50<00:00,  3.14it/s]\n"
     ]
    },
    {
     "name": "stdout",
     "output_type": "stream",
     "text": [
      "Epoch 255, Loss: 0.315409, Accuracy: 0.997595, learning rate: 0.0000050000\n"
     ]
    },
    {
     "name": "stderr",
     "output_type": "stream",
     "text": [
      "Validation: Epoch 255/10000: 100%|██████████| 520/520 [00:06<00:00, 84.54it/s]\n"
     ]
    },
    {
     "name": "stdout",
     "output_type": "stream",
     "text": [
      "Validation 255, Loss: 0.320955, Accuracy: 0.992308\n"
     ]
    },
    {
     "name": "stderr",
     "output_type": "stream",
     "text": [
      "Training: Epoch 256/10000: 100%|██████████| 160/160 [00:50<00:00,  3.15it/s]\n"
     ]
    },
    {
     "name": "stdout",
     "output_type": "stream",
     "text": [
      "Epoch 256, Loss: 0.315186, Accuracy: 0.998076, learning rate: 0.0000045225\n"
     ]
    },
    {
     "name": "stderr",
     "output_type": "stream",
     "text": [
      "Validation: Epoch 256/10000: 100%|██████████| 520/520 [00:05<00:00, 91.09it/s]\n"
     ]
    },
    {
     "name": "stdout",
     "output_type": "stream",
     "text": [
      "Validation 256, Loss: 0.320955, Accuracy: 0.992308\n"
     ]
    },
    {
     "name": "stderr",
     "output_type": "stream",
     "text": [
      "Training: Epoch 257/10000: 100%|██████████| 160/160 [00:50<00:00,  3.16it/s]\n"
     ]
    },
    {
     "name": "stdout",
     "output_type": "stream",
     "text": [
      "Epoch 257, Loss: 0.315186, Accuracy: 0.998076, learning rate: 0.0000032725\n"
     ]
    },
    {
     "name": "stderr",
     "output_type": "stream",
     "text": [
      "Validation: Epoch 257/10000: 100%|██████████| 520/520 [00:05<00:00, 86.83it/s]\n"
     ]
    },
    {
     "name": "stdout",
     "output_type": "stream",
     "text": [
      "Validation 257, Loss: 0.320955, Accuracy: 0.992308\n"
     ]
    },
    {
     "name": "stderr",
     "output_type": "stream",
     "text": [
      "Training: Epoch 258/10000: 100%|██████████| 160/160 [00:50<00:00,  3.15it/s]\n"
     ]
    },
    {
     "name": "stdout",
     "output_type": "stream",
     "text": [
      "Epoch 258, Loss: 0.315186, Accuracy: 0.998076, learning rate: 0.0000017275\n"
     ]
    },
    {
     "name": "stderr",
     "output_type": "stream",
     "text": [
      "Validation: Epoch 258/10000: 100%|██████████| 520/520 [00:05<00:00, 91.62it/s]\n"
     ]
    },
    {
     "name": "stdout",
     "output_type": "stream",
     "text": [
      "Validation 258, Loss: 0.320955, Accuracy: 0.992308\n"
     ]
    },
    {
     "name": "stderr",
     "output_type": "stream",
     "text": [
      "Training: Epoch 259/10000: 100%|██████████| 160/160 [00:50<00:00,  3.15it/s]\n"
     ]
    },
    {
     "name": "stdout",
     "output_type": "stream",
     "text": [
      "Epoch 259, Loss: 0.315186, Accuracy: 0.998076, learning rate: 0.0000004775\n"
     ]
    },
    {
     "name": "stderr",
     "output_type": "stream",
     "text": [
      "Validation: Epoch 259/10000: 100%|██████████| 520/520 [00:05<00:00, 91.64it/s]\n"
     ]
    },
    {
     "name": "stdout",
     "output_type": "stream",
     "text": [
      "Validation 259, Loss: 0.320955, Accuracy: 0.992308\n"
     ]
    },
    {
     "name": "stderr",
     "output_type": "stream",
     "text": [
      "Training: Epoch 260/10000: 100%|██████████| 160/160 [00:50<00:00,  3.15it/s]\n"
     ]
    },
    {
     "name": "stdout",
     "output_type": "stream",
     "text": [
      "Epoch 260, Loss: 0.315186, Accuracy: 0.998076, learning rate: 0.0000050000\n"
     ]
    },
    {
     "name": "stderr",
     "output_type": "stream",
     "text": [
      "Validation: Epoch 260/10000: 100%|██████████| 520/520 [00:05<00:00, 88.71it/s]\n"
     ]
    },
    {
     "name": "stdout",
     "output_type": "stream",
     "text": [
      "Validation 260, Loss: 0.320955, Accuracy: 0.992308\n"
     ]
    },
    {
     "name": "stderr",
     "output_type": "stream",
     "text": [
      "Training: Epoch 261/10000: 100%|██████████| 160/160 [00:50<00:00,  3.15it/s]\n"
     ]
    },
    {
     "name": "stdout",
     "output_type": "stream",
     "text": [
      "Epoch 261, Loss: 0.315667, Accuracy: 0.997595, learning rate: 0.0000045225\n"
     ]
    },
    {
     "name": "stderr",
     "output_type": "stream",
     "text": [
      "Validation: Epoch 261/10000: 100%|██████████| 520/520 [00:06<00:00, 84.69it/s]\n"
     ]
    },
    {
     "name": "stdout",
     "output_type": "stream",
     "text": [
      "Validation 261, Loss: 0.320954, Accuracy: 0.992308\n"
     ]
    },
    {
     "name": "stderr",
     "output_type": "stream",
     "text": [
      "Training: Epoch 262/10000: 100%|██████████| 160/160 [00:50<00:00,  3.15it/s]\n"
     ]
    },
    {
     "name": "stdout",
     "output_type": "stream",
     "text": [
      "Epoch 262, Loss: 0.315666, Accuracy: 0.997595, learning rate: 0.0000032725\n"
     ]
    },
    {
     "name": "stderr",
     "output_type": "stream",
     "text": [
      "Validation: Epoch 262/10000: 100%|██████████| 520/520 [00:05<00:00, 93.61it/s]\n"
     ]
    },
    {
     "name": "stdout",
     "output_type": "stream",
     "text": [
      "Validation 262, Loss: 0.320954, Accuracy: 0.992308\n"
     ]
    },
    {
     "name": "stderr",
     "output_type": "stream",
     "text": [
      "Training: Epoch 263/10000: 100%|██████████| 160/160 [00:50<00:00,  3.14it/s]\n"
     ]
    },
    {
     "name": "stdout",
     "output_type": "stream",
     "text": [
      "Epoch 263, Loss: 0.315226, Accuracy: 0.998076, learning rate: 0.0000017275\n"
     ]
    },
    {
     "name": "stderr",
     "output_type": "stream",
     "text": [
      "Validation: Epoch 263/10000: 100%|██████████| 520/520 [00:06<00:00, 85.21it/s]\n"
     ]
    },
    {
     "name": "stdout",
     "output_type": "stream",
     "text": [
      "Validation 263, Loss: 0.320954, Accuracy: 0.992308\n"
     ]
    },
    {
     "name": "stderr",
     "output_type": "stream",
     "text": [
      "Training: Epoch 264/10000: 100%|██████████| 160/160 [00:50<00:00,  3.15it/s]\n"
     ]
    },
    {
     "name": "stdout",
     "output_type": "stream",
     "text": [
      "Epoch 264, Loss: 0.315185, Accuracy: 0.998076, learning rate: 0.0000004775\n"
     ]
    },
    {
     "name": "stderr",
     "output_type": "stream",
     "text": [
      "Validation: Epoch 264/10000: 100%|██████████| 520/520 [00:05<00:00, 92.75it/s]\n"
     ]
    },
    {
     "name": "stdout",
     "output_type": "stream",
     "text": [
      "Validation 264, Loss: 0.320954, Accuracy: 0.992308\n"
     ]
    },
    {
     "name": "stderr",
     "output_type": "stream",
     "text": [
      "Training: Epoch 265/10000: 100%|██████████| 160/160 [00:50<00:00,  3.15it/s]\n"
     ]
    },
    {
     "name": "stdout",
     "output_type": "stream",
     "text": [
      "Epoch 265, Loss: 0.315185, Accuracy: 0.998076, learning rate: 0.0000050000\n"
     ]
    },
    {
     "name": "stderr",
     "output_type": "stream",
     "text": [
      "Validation: Epoch 265/10000: 100%|██████████| 520/520 [00:05<00:00, 91.29it/s]\n"
     ]
    },
    {
     "name": "stdout",
     "output_type": "stream",
     "text": [
      "Validation 265, Loss: 0.320954, Accuracy: 0.992308\n"
     ]
    },
    {
     "name": "stderr",
     "output_type": "stream",
     "text": [
      "Training: Epoch 266/10000: 100%|██████████| 160/160 [00:51<00:00,  3.13it/s]\n"
     ]
    },
    {
     "name": "stdout",
     "output_type": "stream",
     "text": [
      "Epoch 266, Loss: 0.315185, Accuracy: 0.998076, learning rate: 0.0000045225\n"
     ]
    },
    {
     "name": "stderr",
     "output_type": "stream",
     "text": [
      "Validation: Epoch 266/10000: 100%|██████████| 520/520 [00:05<00:00, 90.13it/s]\n"
     ]
    },
    {
     "name": "stdout",
     "output_type": "stream",
     "text": [
      "Validation 266, Loss: 0.320954, Accuracy: 0.992308\n"
     ]
    },
    {
     "name": "stderr",
     "output_type": "stream",
     "text": [
      "Training: Epoch 267/10000: 100%|██████████| 160/160 [00:50<00:00,  3.16it/s]\n"
     ]
    },
    {
     "name": "stdout",
     "output_type": "stream",
     "text": [
      "Epoch 267, Loss: 0.315185, Accuracy: 0.998076, learning rate: 0.0000032725\n"
     ]
    },
    {
     "name": "stderr",
     "output_type": "stream",
     "text": [
      "Validation: Epoch 267/10000: 100%|██████████| 520/520 [00:05<00:00, 90.09it/s]\n"
     ]
    },
    {
     "name": "stdout",
     "output_type": "stream",
     "text": [
      "Validation 267, Loss: 0.320954, Accuracy: 0.992308\n"
     ]
    },
    {
     "name": "stderr",
     "output_type": "stream",
     "text": [
      "Training: Epoch 268/10000: 100%|██████████| 160/160 [00:50<00:00,  3.14it/s]\n"
     ]
    },
    {
     "name": "stdout",
     "output_type": "stream",
     "text": [
      "Epoch 268, Loss: 0.315666, Accuracy: 0.997595, learning rate: 0.0000017275\n"
     ]
    },
    {
     "name": "stderr",
     "output_type": "stream",
     "text": [
      "Validation: Epoch 268/10000: 100%|██████████| 520/520 [00:05<00:00, 86.78it/s]\n"
     ]
    },
    {
     "name": "stdout",
     "output_type": "stream",
     "text": [
      "Validation 268, Loss: 0.320954, Accuracy: 0.992308\n"
     ]
    },
    {
     "name": "stderr",
     "output_type": "stream",
     "text": [
      "Training: Epoch 269/10000: 100%|██████████| 160/160 [00:50<00:00,  3.16it/s]\n"
     ]
    },
    {
     "name": "stdout",
     "output_type": "stream",
     "text": [
      "Epoch 269, Loss: 0.315185, Accuracy: 0.998076, learning rate: 0.0000004775\n"
     ]
    },
    {
     "name": "stderr",
     "output_type": "stream",
     "text": [
      "Validation: Epoch 269/10000: 100%|██████████| 520/520 [00:05<00:00, 90.50it/s]\n"
     ]
    },
    {
     "name": "stdout",
     "output_type": "stream",
     "text": [
      "Validation 269, Loss: 0.320954, Accuracy: 0.992308\n"
     ]
    },
    {
     "name": "stderr",
     "output_type": "stream",
     "text": [
      "Training: Epoch 270/10000: 100%|██████████| 160/160 [00:50<00:00,  3.16it/s]\n"
     ]
    },
    {
     "name": "stdout",
     "output_type": "stream",
     "text": [
      "Epoch 270, Loss: 0.315185, Accuracy: 0.998076, learning rate: 0.0000050000\n"
     ]
    },
    {
     "name": "stderr",
     "output_type": "stream",
     "text": [
      "Validation: Epoch 270/10000: 100%|██████████| 520/520 [00:06<00:00, 85.73it/s]\n"
     ]
    },
    {
     "name": "stdout",
     "output_type": "stream",
     "text": [
      "Validation 270, Loss: 0.320954, Accuracy: 0.992308\n"
     ]
    },
    {
     "name": "stderr",
     "output_type": "stream",
     "text": [
      "Training: Epoch 271/10000: 100%|██████████| 160/160 [00:50<00:00,  3.14it/s]\n"
     ]
    },
    {
     "name": "stdout",
     "output_type": "stream",
     "text": [
      "Epoch 271, Loss: 0.315185, Accuracy: 0.998076, learning rate: 0.0000045225\n"
     ]
    },
    {
     "name": "stderr",
     "output_type": "stream",
     "text": [
      "Validation: Epoch 271/10000: 100%|██████████| 520/520 [00:05<00:00, 89.06it/s]\n"
     ]
    },
    {
     "name": "stdout",
     "output_type": "stream",
     "text": [
      "Validation 271, Loss: 0.320954, Accuracy: 0.992308\n"
     ]
    },
    {
     "name": "stderr",
     "output_type": "stream",
     "text": [
      "Training: Epoch 272/10000: 100%|██████████| 160/160 [00:50<00:00,  3.15it/s]\n"
     ]
    },
    {
     "name": "stdout",
     "output_type": "stream",
     "text": [
      "Epoch 272, Loss: 0.315185, Accuracy: 0.998076, learning rate: 0.0000032725\n"
     ]
    },
    {
     "name": "stderr",
     "output_type": "stream",
     "text": [
      "Validation: Epoch 272/10000: 100%|██████████| 520/520 [00:05<00:00, 89.04it/s]\n"
     ]
    },
    {
     "name": "stdout",
     "output_type": "stream",
     "text": [
      "Validation 272, Loss: 0.320954, Accuracy: 0.992308\n"
     ]
    },
    {
     "name": "stderr",
     "output_type": "stream",
     "text": [
      "Training: Epoch 273/10000: 100%|██████████| 160/160 [00:50<00:00,  3.15it/s]\n"
     ]
    },
    {
     "name": "stdout",
     "output_type": "stream",
     "text": [
      "Epoch 273, Loss: 0.315186, Accuracy: 0.998076, learning rate: 0.0000017275\n"
     ]
    },
    {
     "name": "stderr",
     "output_type": "stream",
     "text": [
      "Validation: Epoch 273/10000: 100%|██████████| 520/520 [00:05<00:00, 89.15it/s]\n"
     ]
    },
    {
     "name": "stdout",
     "output_type": "stream",
     "text": [
      "Validation 273, Loss: 0.320954, Accuracy: 0.992308\n"
     ]
    },
    {
     "name": "stderr",
     "output_type": "stream",
     "text": [
      "Training: Epoch 274/10000: 100%|██████████| 160/160 [00:50<00:00,  3.14it/s]\n"
     ]
    },
    {
     "name": "stdout",
     "output_type": "stream",
     "text": [
      "Epoch 274, Loss: 0.315185, Accuracy: 0.998076, learning rate: 0.0000004775\n"
     ]
    },
    {
     "name": "stderr",
     "output_type": "stream",
     "text": [
      "Validation: Epoch 274/10000: 100%|██████████| 520/520 [00:05<00:00, 86.81it/s]\n"
     ]
    },
    {
     "name": "stdout",
     "output_type": "stream",
     "text": [
      "Validation 274, Loss: 0.320954, Accuracy: 0.992308\n"
     ]
    },
    {
     "name": "stderr",
     "output_type": "stream",
     "text": [
      "Training: Epoch 275/10000: 100%|██████████| 160/160 [00:50<00:00,  3.14it/s]\n"
     ]
    },
    {
     "name": "stdout",
     "output_type": "stream",
     "text": [
      "Epoch 275, Loss: 0.315189, Accuracy: 0.998076, learning rate: 0.0000050000\n"
     ]
    },
    {
     "name": "stderr",
     "output_type": "stream",
     "text": [
      "Validation: Epoch 275/10000: 100%|██████████| 520/520 [00:05<00:00, 93.29it/s]\n"
     ]
    },
    {
     "name": "stdout",
     "output_type": "stream",
     "text": [
      "Validation 275, Loss: 0.320954, Accuracy: 0.992308\n"
     ]
    },
    {
     "name": "stderr",
     "output_type": "stream",
     "text": [
      "Training: Epoch 276/10000: 100%|██████████| 160/160 [00:51<00:00,  3.13it/s]\n"
     ]
    },
    {
     "name": "stdout",
     "output_type": "stream",
     "text": [
      "Epoch 276, Loss: 0.315185, Accuracy: 0.998076, learning rate: 0.0000045225\n"
     ]
    },
    {
     "name": "stderr",
     "output_type": "stream",
     "text": [
      "Validation: Epoch 276/10000: 100%|██████████| 520/520 [00:06<00:00, 85.74it/s]\n"
     ]
    },
    {
     "name": "stdout",
     "output_type": "stream",
     "text": [
      "Validation 276, Loss: 0.320954, Accuracy: 0.992308\n"
     ]
    },
    {
     "name": "stderr",
     "output_type": "stream",
     "text": [
      "Training: Epoch 277/10000: 100%|██████████| 160/160 [00:50<00:00,  3.15it/s]\n"
     ]
    },
    {
     "name": "stdout",
     "output_type": "stream",
     "text": [
      "Epoch 277, Loss: 0.315185, Accuracy: 0.998076, learning rate: 0.0000032725\n"
     ]
    },
    {
     "name": "stderr",
     "output_type": "stream",
     "text": [
      "Validation: Epoch 277/10000: 100%|██████████| 520/520 [00:05<00:00, 90.99it/s]\n"
     ]
    },
    {
     "name": "stdout",
     "output_type": "stream",
     "text": [
      "Validation 277, Loss: 0.320954, Accuracy: 0.992308\n"
     ]
    },
    {
     "name": "stderr",
     "output_type": "stream",
     "text": [
      "Training: Epoch 278/10000: 100%|██████████| 160/160 [00:50<00:00,  3.14it/s]\n"
     ]
    },
    {
     "name": "stdout",
     "output_type": "stream",
     "text": [
      "Epoch 278, Loss: 0.315666, Accuracy: 0.997595, learning rate: 0.0000017275\n"
     ]
    },
    {
     "name": "stderr",
     "output_type": "stream",
     "text": [
      "Validation: Epoch 278/10000: 100%|██████████| 520/520 [00:05<00:00, 88.41it/s]\n"
     ]
    },
    {
     "name": "stdout",
     "output_type": "stream",
     "text": [
      "Validation 278, Loss: 0.320954, Accuracy: 0.992308\n"
     ]
    },
    {
     "name": "stderr",
     "output_type": "stream",
     "text": [
      "Training: Epoch 279/10000: 100%|██████████| 160/160 [00:51<00:00,  3.13it/s]\n"
     ]
    },
    {
     "name": "stdout",
     "output_type": "stream",
     "text": [
      "Epoch 279, Loss: 0.315666, Accuracy: 0.997595, learning rate: 0.0000004775\n"
     ]
    },
    {
     "name": "stderr",
     "output_type": "stream",
     "text": [
      "Validation: Epoch 279/10000: 100%|██████████| 520/520 [00:05<00:00, 91.08it/s]\n"
     ]
    },
    {
     "name": "stdout",
     "output_type": "stream",
     "text": [
      "Validation 279, Loss: 0.320954, Accuracy: 0.992308\n"
     ]
    },
    {
     "name": "stderr",
     "output_type": "stream",
     "text": [
      "Training: Epoch 280/10000: 100%|██████████| 160/160 [00:50<00:00,  3.15it/s]\n"
     ]
    },
    {
     "name": "stdout",
     "output_type": "stream",
     "text": [
      "Epoch 280, Loss: 0.315185, Accuracy: 0.998076, learning rate: 0.0000050000\n"
     ]
    },
    {
     "name": "stderr",
     "output_type": "stream",
     "text": [
      "Validation: Epoch 280/10000: 100%|██████████| 520/520 [00:06<00:00, 85.47it/s]\n"
     ]
    },
    {
     "name": "stdout",
     "output_type": "stream",
     "text": [
      "Validation 280, Loss: 0.320954, Accuracy: 0.992308\n"
     ]
    },
    {
     "name": "stderr",
     "output_type": "stream",
     "text": [
      "Training: Epoch 281/10000: 100%|██████████| 160/160 [00:50<00:00,  3.14it/s]\n"
     ]
    },
    {
     "name": "stdout",
     "output_type": "stream",
     "text": [
      "Epoch 281, Loss: 0.315185, Accuracy: 0.998076, learning rate: 0.0000045225\n"
     ]
    },
    {
     "name": "stderr",
     "output_type": "stream",
     "text": [
      "Validation: Epoch 281/10000: 100%|██████████| 520/520 [00:05<00:00, 91.81it/s]\n"
     ]
    },
    {
     "name": "stdout",
     "output_type": "stream",
     "text": [
      "Validation 281, Loss: 0.320954, Accuracy: 0.992308\n"
     ]
    },
    {
     "name": "stderr",
     "output_type": "stream",
     "text": [
      "Training: Epoch 282/10000: 100%|██████████| 160/160 [00:50<00:00,  3.17it/s]\n"
     ]
    },
    {
     "name": "stdout",
     "output_type": "stream",
     "text": [
      "Epoch 282, Loss: 0.315185, Accuracy: 0.998076, learning rate: 0.0000032725\n"
     ]
    },
    {
     "name": "stderr",
     "output_type": "stream",
     "text": [
      "Validation: Epoch 282/10000: 100%|██████████| 520/520 [00:05<00:00, 87.14it/s]\n"
     ]
    },
    {
     "name": "stdout",
     "output_type": "stream",
     "text": [
      "Validation 282, Loss: 0.320954, Accuracy: 0.992308\n"
     ]
    },
    {
     "name": "stderr",
     "output_type": "stream",
     "text": [
      "Training: Epoch 283/10000: 100%|██████████| 160/160 [00:50<00:00,  3.15it/s]\n"
     ]
    },
    {
     "name": "stdout",
     "output_type": "stream",
     "text": [
      "Epoch 283, Loss: 0.316147, Accuracy: 0.997114, learning rate: 0.0000017275\n"
     ]
    },
    {
     "name": "stderr",
     "output_type": "stream",
     "text": [
      "Validation: Epoch 283/10000: 100%|██████████| 520/520 [00:05<00:00, 90.39it/s]\n"
     ]
    },
    {
     "name": "stdout",
     "output_type": "stream",
     "text": [
      "Validation 283, Loss: 0.320954, Accuracy: 0.992308\n"
     ]
    },
    {
     "name": "stderr",
     "output_type": "stream",
     "text": [
      "Training: Epoch 284/10000: 100%|██████████| 160/160 [00:51<00:00,  3.13it/s]\n"
     ]
    },
    {
     "name": "stdout",
     "output_type": "stream",
     "text": [
      "Epoch 284, Loss: 0.315374, Accuracy: 0.997595, learning rate: 0.0000004775\n"
     ]
    },
    {
     "name": "stderr",
     "output_type": "stream",
     "text": [
      "Validation: Epoch 284/10000: 100%|██████████| 520/520 [00:05<00:00, 88.24it/s]\n"
     ]
    },
    {
     "name": "stdout",
     "output_type": "stream",
     "text": [
      "Validation 284, Loss: 0.320954, Accuracy: 0.992308\n"
     ]
    },
    {
     "name": "stderr",
     "output_type": "stream",
     "text": [
      "Training: Epoch 285/10000: 100%|██████████| 160/160 [00:50<00:00,  3.15it/s]\n"
     ]
    },
    {
     "name": "stdout",
     "output_type": "stream",
     "text": [
      "Epoch 285, Loss: 0.315185, Accuracy: 0.998076, learning rate: 0.0000050000\n"
     ]
    },
    {
     "name": "stderr",
     "output_type": "stream",
     "text": [
      "Validation: Epoch 285/10000: 100%|██████████| 520/520 [00:05<00:00, 90.82it/s]\n"
     ]
    },
    {
     "name": "stdout",
     "output_type": "stream",
     "text": [
      "Validation 285, Loss: 0.320954, Accuracy: 0.992308\n"
     ]
    },
    {
     "name": "stderr",
     "output_type": "stream",
     "text": [
      "Training: Epoch 286/10000: 100%|██████████| 160/160 [00:50<00:00,  3.16it/s]\n"
     ]
    },
    {
     "name": "stdout",
     "output_type": "stream",
     "text": [
      "Epoch 286, Loss: 0.315185, Accuracy: 0.998076, learning rate: 0.0000045225\n"
     ]
    },
    {
     "name": "stderr",
     "output_type": "stream",
     "text": [
      "Validation: Epoch 286/10000: 100%|██████████| 520/520 [00:05<00:00, 91.56it/s]\n"
     ]
    },
    {
     "name": "stdout",
     "output_type": "stream",
     "text": [
      "Validation 286, Loss: 0.320954, Accuracy: 0.992308\n"
     ]
    },
    {
     "name": "stderr",
     "output_type": "stream",
     "text": [
      "Training: Epoch 287/10000: 100%|██████████| 160/160 [00:50<00:00,  3.14it/s]\n"
     ]
    },
    {
     "name": "stdout",
     "output_type": "stream",
     "text": [
      "Epoch 287, Loss: 0.315666, Accuracy: 0.997595, learning rate: 0.0000032725\n"
     ]
    },
    {
     "name": "stderr",
     "output_type": "stream",
     "text": [
      "Validation: Epoch 287/10000: 100%|██████████| 520/520 [00:06<00:00, 85.83it/s]\n"
     ]
    },
    {
     "name": "stdout",
     "output_type": "stream",
     "text": [
      "Validation 287, Loss: 0.320954, Accuracy: 0.992308\n"
     ]
    },
    {
     "name": "stderr",
     "output_type": "stream",
     "text": [
      "Training: Epoch 288/10000: 100%|██████████| 160/160 [00:50<00:00,  3.15it/s]\n"
     ]
    },
    {
     "name": "stdout",
     "output_type": "stream",
     "text": [
      "Epoch 288, Loss: 0.315666, Accuracy: 0.997595, learning rate: 0.0000017275\n"
     ]
    },
    {
     "name": "stderr",
     "output_type": "stream",
     "text": [
      "Validation: Epoch 288/10000: 100%|██████████| 520/520 [00:05<00:00, 91.58it/s]\n"
     ]
    },
    {
     "name": "stdout",
     "output_type": "stream",
     "text": [
      "Validation 288, Loss: 0.320954, Accuracy: 0.992308\n"
     ]
    },
    {
     "name": "stderr",
     "output_type": "stream",
     "text": [
      "Training: Epoch 289/10000: 100%|██████████| 160/160 [00:51<00:00,  3.13it/s]\n"
     ]
    },
    {
     "name": "stdout",
     "output_type": "stream",
     "text": [
      "Epoch 289, Loss: 0.315185, Accuracy: 0.998076, learning rate: 0.0000004775\n"
     ]
    },
    {
     "name": "stderr",
     "output_type": "stream",
     "text": [
      "Validation: Epoch 289/10000: 100%|██████████| 520/520 [00:05<00:00, 88.16it/s]\n"
     ]
    },
    {
     "name": "stdout",
     "output_type": "stream",
     "text": [
      "Validation 289, Loss: 0.320954, Accuracy: 0.992308\n"
     ]
    },
    {
     "name": "stderr",
     "output_type": "stream",
     "text": [
      "Training: Epoch 290/10000: 100%|██████████| 160/160 [00:50<00:00,  3.14it/s]\n"
     ]
    },
    {
     "name": "stdout",
     "output_type": "stream",
     "text": [
      "Epoch 290, Loss: 0.315666, Accuracy: 0.997595, learning rate: 0.0000050000\n"
     ]
    },
    {
     "name": "stderr",
     "output_type": "stream",
     "text": [
      "Validation: Epoch 290/10000: 100%|██████████| 520/520 [00:05<00:00, 90.10it/s]\n"
     ]
    },
    {
     "name": "stdout",
     "output_type": "stream",
     "text": [
      "Validation 290, Loss: 0.320954, Accuracy: 0.992308\n"
     ]
    },
    {
     "name": "stderr",
     "output_type": "stream",
     "text": [
      "Training: Epoch 291/10000: 100%|██████████| 160/160 [00:51<00:00,  3.13it/s]\n"
     ]
    },
    {
     "name": "stdout",
     "output_type": "stream",
     "text": [
      "Epoch 291, Loss: 0.315666, Accuracy: 0.997595, learning rate: 0.0000045225\n"
     ]
    },
    {
     "name": "stderr",
     "output_type": "stream",
     "text": [
      "Validation: Epoch 291/10000: 100%|██████████| 520/520 [00:05<00:00, 88.83it/s]\n"
     ]
    },
    {
     "name": "stdout",
     "output_type": "stream",
     "text": [
      "Validation 291, Loss: 0.320954, Accuracy: 0.992308\n"
     ]
    },
    {
     "name": "stderr",
     "output_type": "stream",
     "text": [
      "Training: Epoch 292/10000: 100%|██████████| 160/160 [00:50<00:00,  3.16it/s]\n"
     ]
    },
    {
     "name": "stdout",
     "output_type": "stream",
     "text": [
      "Epoch 292, Loss: 0.315185, Accuracy: 0.998076, learning rate: 0.0000032725\n"
     ]
    },
    {
     "name": "stderr",
     "output_type": "stream",
     "text": [
      "Validation: Epoch 292/10000: 100%|██████████| 520/520 [00:05<00:00, 90.11it/s]\n"
     ]
    },
    {
     "name": "stdout",
     "output_type": "stream",
     "text": [
      "Validation 292, Loss: 0.320954, Accuracy: 0.992308\n"
     ]
    },
    {
     "name": "stderr",
     "output_type": "stream",
     "text": [
      "Training: Epoch 293/10000: 100%|██████████| 160/160 [00:50<00:00,  3.14it/s]\n"
     ]
    },
    {
     "name": "stdout",
     "output_type": "stream",
     "text": [
      "Epoch 293, Loss: 0.315185, Accuracy: 0.998076, learning rate: 0.0000017275\n"
     ]
    },
    {
     "name": "stderr",
     "output_type": "stream",
     "text": [
      "Validation: Epoch 293/10000: 100%|██████████| 520/520 [00:06<00:00, 85.32it/s]\n"
     ]
    },
    {
     "name": "stdout",
     "output_type": "stream",
     "text": [
      "Validation 293, Loss: 0.320954, Accuracy: 0.992308\n"
     ]
    },
    {
     "name": "stderr",
     "output_type": "stream",
     "text": [
      "Training: Epoch 294/10000: 100%|██████████| 160/160 [00:50<00:00,  3.14it/s]\n"
     ]
    },
    {
     "name": "stdout",
     "output_type": "stream",
     "text": [
      "Epoch 294, Loss: 0.315185, Accuracy: 0.998076, learning rate: 0.0000004775\n"
     ]
    },
    {
     "name": "stderr",
     "output_type": "stream",
     "text": [
      "Validation: Epoch 294/10000: 100%|██████████| 520/520 [00:05<00:00, 92.27it/s]\n"
     ]
    },
    {
     "name": "stdout",
     "output_type": "stream",
     "text": [
      "Validation 294, Loss: 0.320954, Accuracy: 0.992308\n"
     ]
    },
    {
     "name": "stderr",
     "output_type": "stream",
     "text": [
      "Training: Epoch 295/10000: 100%|██████████| 160/160 [00:50<00:00,  3.16it/s]\n"
     ]
    },
    {
     "name": "stdout",
     "output_type": "stream",
     "text": [
      "Epoch 295, Loss: 0.315225, Accuracy: 0.998076, learning rate: 0.0000050000\n"
     ]
    },
    {
     "name": "stderr",
     "output_type": "stream",
     "text": [
      "Validation: Epoch 295/10000: 100%|██████████| 520/520 [00:06<00:00, 84.85it/s]\n"
     ]
    },
    {
     "name": "stdout",
     "output_type": "stream",
     "text": [
      "Validation 295, Loss: 0.320954, Accuracy: 0.992308\n"
     ]
    },
    {
     "name": "stderr",
     "output_type": "stream",
     "text": [
      "Training: Epoch 296/10000: 100%|██████████| 160/160 [00:50<00:00,  3.14it/s]\n"
     ]
    },
    {
     "name": "stdout",
     "output_type": "stream",
     "text": [
      "Epoch 296, Loss: 0.316146, Accuracy: 0.997114, learning rate: 0.0000045225\n"
     ]
    },
    {
     "name": "stderr",
     "output_type": "stream",
     "text": [
      "Validation: Epoch 296/10000: 100%|██████████| 520/520 [00:05<00:00, 89.17it/s]\n"
     ]
    },
    {
     "name": "stdout",
     "output_type": "stream",
     "text": [
      "Validation 296, Loss: 0.320954, Accuracy: 0.992308\n"
     ]
    },
    {
     "name": "stderr",
     "output_type": "stream",
     "text": [
      "Training: Epoch 297/10000: 100%|██████████| 160/160 [00:50<00:00,  3.14it/s]\n"
     ]
    },
    {
     "name": "stdout",
     "output_type": "stream",
     "text": [
      "Epoch 297, Loss: 0.315664, Accuracy: 0.997595, learning rate: 0.0000032725\n"
     ]
    },
    {
     "name": "stderr",
     "output_type": "stream",
     "text": [
      "Validation: Epoch 297/10000: 100%|██████████| 520/520 [00:05<00:00, 90.07it/s]\n"
     ]
    },
    {
     "name": "stdout",
     "output_type": "stream",
     "text": [
      "Validation 297, Loss: 0.320954, Accuracy: 0.992308\n"
     ]
    },
    {
     "name": "stderr",
     "output_type": "stream",
     "text": [
      "Training: Epoch 298/10000: 100%|██████████| 160/160 [00:50<00:00,  3.16it/s]\n"
     ]
    },
    {
     "name": "stdout",
     "output_type": "stream",
     "text": [
      "Epoch 298, Loss: 0.315185, Accuracy: 0.998076, learning rate: 0.0000017275\n"
     ]
    },
    {
     "name": "stderr",
     "output_type": "stream",
     "text": [
      "Validation: Epoch 298/10000: 100%|██████████| 520/520 [00:05<00:00, 90.05it/s]\n"
     ]
    },
    {
     "name": "stdout",
     "output_type": "stream",
     "text": [
      "Validation 298, Loss: 0.320954, Accuracy: 0.992308\n"
     ]
    },
    {
     "name": "stderr",
     "output_type": "stream",
     "text": [
      "Training: Epoch 299/10000: 100%|██████████| 160/160 [00:50<00:00,  3.15it/s]\n"
     ]
    },
    {
     "name": "stdout",
     "output_type": "stream",
     "text": [
      "Epoch 299, Loss: 0.315185, Accuracy: 0.998076, learning rate: 0.0000004775\n"
     ]
    },
    {
     "name": "stderr",
     "output_type": "stream",
     "text": [
      "Validation: Epoch 299/10000: 100%|██████████| 520/520 [00:06<00:00, 86.18it/s]\n"
     ]
    },
    {
     "name": "stdout",
     "output_type": "stream",
     "text": [
      "Validation 299, Loss: 0.320954, Accuracy: 0.992308\n"
     ]
    },
    {
     "name": "stderr",
     "output_type": "stream",
     "text": [
      "Training: Epoch 300/10000: 100%|██████████| 160/160 [00:50<00:00,  3.15it/s]\n"
     ]
    },
    {
     "name": "stdout",
     "output_type": "stream",
     "text": [
      "Epoch 300, Loss: 0.315185, Accuracy: 0.998076, learning rate: 0.0000050000\n"
     ]
    },
    {
     "name": "stderr",
     "output_type": "stream",
     "text": [
      "Validation: Epoch 300/10000: 100%|██████████| 520/520 [00:05<00:00, 91.25it/s]\n"
     ]
    },
    {
     "name": "stdout",
     "output_type": "stream",
     "text": [
      "Validation 300, Loss: 0.320954, Accuracy: 0.992308\n"
     ]
    },
    {
     "name": "stderr",
     "output_type": "stream",
     "text": [
      "Training: Epoch 301/10000: 100%|██████████| 160/160 [00:50<00:00,  3.14it/s]\n"
     ]
    },
    {
     "name": "stdout",
     "output_type": "stream",
     "text": [
      "Epoch 301, Loss: 0.315185, Accuracy: 0.998076, learning rate: 0.0000045225\n"
     ]
    },
    {
     "name": "stderr",
     "output_type": "stream",
     "text": [
      "Validation: Epoch 301/10000: 100%|██████████| 520/520 [00:05<00:00, 89.61it/s]\n"
     ]
    },
    {
     "name": "stdout",
     "output_type": "stream",
     "text": [
      "Validation 301, Loss: 0.320954, Accuracy: 0.992308\n"
     ]
    },
    {
     "name": "stderr",
     "output_type": "stream",
     "text": [
      "Training: Epoch 302/10000: 100%|██████████| 160/160 [00:50<00:00,  3.15it/s]\n"
     ]
    },
    {
     "name": "stdout",
     "output_type": "stream",
     "text": [
      "Epoch 302, Loss: 0.315185, Accuracy: 0.998076, learning rate: 0.0000032725\n"
     ]
    },
    {
     "name": "stderr",
     "output_type": "stream",
     "text": [
      "Validation: Epoch 302/10000: 100%|██████████| 520/520 [00:06<00:00, 85.87it/s]\n"
     ]
    },
    {
     "name": "stdout",
     "output_type": "stream",
     "text": [
      "Validation 302, Loss: 0.320954, Accuracy: 0.992308\n"
     ]
    },
    {
     "name": "stderr",
     "output_type": "stream",
     "text": [
      "Training: Epoch 303/10000: 100%|██████████| 160/160 [00:50<00:00,  3.15it/s]\n"
     ]
    },
    {
     "name": "stdout",
     "output_type": "stream",
     "text": [
      "Epoch 303, Loss: 0.315185, Accuracy: 0.998076, learning rate: 0.0000017275\n"
     ]
    },
    {
     "name": "stderr",
     "output_type": "stream",
     "text": [
      "Validation: Epoch 303/10000: 100%|██████████| 520/520 [00:05<00:00, 90.21it/s]\n"
     ]
    },
    {
     "name": "stdout",
     "output_type": "stream",
     "text": [
      "Validation 303, Loss: 0.320954, Accuracy: 0.992308\n"
     ]
    },
    {
     "name": "stderr",
     "output_type": "stream",
     "text": [
      "Training: Epoch 304/10000: 100%|██████████| 160/160 [00:50<00:00,  3.15it/s]\n"
     ]
    },
    {
     "name": "stdout",
     "output_type": "stream",
     "text": [
      "Epoch 304, Loss: 0.315185, Accuracy: 0.998076, learning rate: 0.0000004775\n"
     ]
    },
    {
     "name": "stderr",
     "output_type": "stream",
     "text": [
      "Validation: Epoch 304/10000: 100%|██████████| 520/520 [00:05<00:00, 88.44it/s]\n"
     ]
    },
    {
     "name": "stdout",
     "output_type": "stream",
     "text": [
      "Validation 304, Loss: 0.320954, Accuracy: 0.992308\n"
     ]
    },
    {
     "name": "stderr",
     "output_type": "stream",
     "text": [
      "Training: Epoch 305/10000: 100%|██████████| 160/160 [00:50<00:00,  3.14it/s]\n"
     ]
    },
    {
     "name": "stdout",
     "output_type": "stream",
     "text": [
      "Epoch 305, Loss: 0.315187, Accuracy: 0.998076, learning rate: 0.0000050000\n"
     ]
    },
    {
     "name": "stderr",
     "output_type": "stream",
     "text": [
      "Validation: Epoch 305/10000: 100%|██████████| 520/520 [00:05<00:00, 90.34it/s]\n"
     ]
    },
    {
     "name": "stdout",
     "output_type": "stream",
     "text": [
      "Validation 305, Loss: 0.320954, Accuracy: 0.992308\n"
     ]
    },
    {
     "name": "stderr",
     "output_type": "stream",
     "text": [
      "Training: Epoch 306/10000: 100%|██████████| 160/160 [00:50<00:00,  3.16it/s]\n"
     ]
    },
    {
     "name": "stdout",
     "output_type": "stream",
     "text": [
      "Epoch 306, Loss: 0.315185, Accuracy: 0.998076, learning rate: 0.0000045225\n"
     ]
    },
    {
     "name": "stderr",
     "output_type": "stream",
     "text": [
      "Validation: Epoch 306/10000: 100%|██████████| 520/520 [00:06<00:00, 85.02it/s]\n"
     ]
    },
    {
     "name": "stdout",
     "output_type": "stream",
     "text": [
      "Validation 306, Loss: 0.320954, Accuracy: 0.992308\n"
     ]
    },
    {
     "name": "stderr",
     "output_type": "stream",
     "text": [
      "Training: Epoch 307/10000: 100%|██████████| 160/160 [00:50<00:00,  3.14it/s]\n"
     ]
    },
    {
     "name": "stdout",
     "output_type": "stream",
     "text": [
      "Epoch 307, Loss: 0.315185, Accuracy: 0.998076, learning rate: 0.0000032725\n"
     ]
    },
    {
     "name": "stderr",
     "output_type": "stream",
     "text": [
      "Validation: Epoch 307/10000: 100%|██████████| 520/520 [00:05<00:00, 90.83it/s]\n"
     ]
    },
    {
     "name": "stdout",
     "output_type": "stream",
     "text": [
      "Validation 307, Loss: 0.320954, Accuracy: 0.992308\n"
     ]
    },
    {
     "name": "stderr",
     "output_type": "stream",
     "text": [
      "Training: Epoch 308/10000: 100%|██████████| 160/160 [00:50<00:00,  3.15it/s]\n"
     ]
    },
    {
     "name": "stdout",
     "output_type": "stream",
     "text": [
      "Epoch 308, Loss: 0.315185, Accuracy: 0.998076, learning rate: 0.0000017275\n"
     ]
    },
    {
     "name": "stderr",
     "output_type": "stream",
     "text": [
      "Validation: Epoch 308/10000: 100%|██████████| 520/520 [00:06<00:00, 84.85it/s]\n"
     ]
    },
    {
     "name": "stdout",
     "output_type": "stream",
     "text": [
      "Validation 308, Loss: 0.320954, Accuracy: 0.992308\n"
     ]
    },
    {
     "name": "stderr",
     "output_type": "stream",
     "text": [
      "Training: Epoch 309/10000: 100%|██████████| 160/160 [00:50<00:00,  3.15it/s]\n"
     ]
    },
    {
     "name": "stdout",
     "output_type": "stream",
     "text": [
      "Epoch 309, Loss: 0.315185, Accuracy: 0.998076, learning rate: 0.0000004775\n"
     ]
    },
    {
     "name": "stderr",
     "output_type": "stream",
     "text": [
      "Validation: Epoch 309/10000: 100%|██████████| 520/520 [00:05<00:00, 89.58it/s]\n"
     ]
    },
    {
     "name": "stdout",
     "output_type": "stream",
     "text": [
      "Validation 309, Loss: 0.320954, Accuracy: 0.992308\n"
     ]
    },
    {
     "name": "stderr",
     "output_type": "stream",
     "text": [
      "Training: Epoch 310/10000: 100%|██████████| 160/160 [00:50<00:00,  3.16it/s]\n"
     ]
    },
    {
     "name": "stdout",
     "output_type": "stream",
     "text": [
      "Epoch 310, Loss: 0.315185, Accuracy: 0.998076, learning rate: 0.0000050000\n"
     ]
    },
    {
     "name": "stderr",
     "output_type": "stream",
     "text": [
      "Validation: Epoch 310/10000: 100%|██████████| 520/520 [00:05<00:00, 88.59it/s]\n"
     ]
    },
    {
     "name": "stdout",
     "output_type": "stream",
     "text": [
      "Validation 310, Loss: 0.320954, Accuracy: 0.992308\n"
     ]
    },
    {
     "name": "stderr",
     "output_type": "stream",
     "text": [
      "Training: Epoch 311/10000: 100%|██████████| 160/160 [00:50<00:00,  3.15it/s]\n"
     ]
    },
    {
     "name": "stdout",
     "output_type": "stream",
     "text": [
      "Epoch 311, Loss: 0.315185, Accuracy: 0.998076, learning rate: 0.0000045225\n"
     ]
    },
    {
     "name": "stderr",
     "output_type": "stream",
     "text": [
      "Validation: Epoch 311/10000: 100%|██████████| 520/520 [00:05<00:00, 89.27it/s]\n"
     ]
    },
    {
     "name": "stdout",
     "output_type": "stream",
     "text": [
      "Validation 311, Loss: 0.320954, Accuracy: 0.992308\n"
     ]
    },
    {
     "name": "stderr",
     "output_type": "stream",
     "text": [
      "Training: Epoch 312/10000: 100%|██████████| 160/160 [00:50<00:00,  3.14it/s]\n"
     ]
    },
    {
     "name": "stdout",
     "output_type": "stream",
     "text": [
      "Epoch 312, Loss: 0.315185, Accuracy: 0.998076, learning rate: 0.0000032725\n"
     ]
    },
    {
     "name": "stderr",
     "output_type": "stream",
     "text": [
      "Validation: Epoch 312/10000: 100%|██████████| 520/520 [00:06<00:00, 85.55it/s]\n"
     ]
    },
    {
     "name": "stdout",
     "output_type": "stream",
     "text": [
      "Validation 312, Loss: 0.320954, Accuracy: 0.992308\n"
     ]
    },
    {
     "name": "stderr",
     "output_type": "stream",
     "text": [
      "Training: Epoch 313/10000: 100%|██████████| 160/160 [00:50<00:00,  3.15it/s]\n"
     ]
    },
    {
     "name": "stdout",
     "output_type": "stream",
     "text": [
      "Epoch 313, Loss: 0.315189, Accuracy: 0.998076, learning rate: 0.0000017275\n"
     ]
    },
    {
     "name": "stderr",
     "output_type": "stream",
     "text": [
      "Validation: Epoch 313/10000: 100%|██████████| 520/520 [00:05<00:00, 90.83it/s]\n"
     ]
    },
    {
     "name": "stdout",
     "output_type": "stream",
     "text": [
      "Validation 313, Loss: 0.319031, Accuracy: 0.994231\n"
     ]
    },
    {
     "name": "stderr",
     "output_type": "stream",
     "text": [
      "Training: Epoch 314/10000: 100%|██████████| 160/160 [00:50<00:00,  3.15it/s]\n"
     ]
    },
    {
     "name": "stdout",
     "output_type": "stream",
     "text": [
      "Epoch 314, Loss: 0.316128, Accuracy: 0.997114, learning rate: 0.0000004775\n"
     ]
    },
    {
     "name": "stderr",
     "output_type": "stream",
     "text": [
      "Validation: Epoch 314/10000: 100%|██████████| 520/520 [00:06<00:00, 86.54it/s]\n"
     ]
    },
    {
     "name": "stdout",
     "output_type": "stream",
     "text": [
      "Validation 314, Loss: 0.319031, Accuracy: 0.994231\n"
     ]
    },
    {
     "name": "stderr",
     "output_type": "stream",
     "text": [
      "Training: Epoch 315/10000: 100%|██████████| 160/160 [00:50<00:00,  3.14it/s]\n"
     ]
    },
    {
     "name": "stdout",
     "output_type": "stream",
     "text": [
      "Epoch 315, Loss: 0.315666, Accuracy: 0.997595, learning rate: 0.0000050000\n"
     ]
    },
    {
     "name": "stderr",
     "output_type": "stream",
     "text": [
      "Validation: Epoch 315/10000: 100%|██████████| 520/520 [00:05<00:00, 89.85it/s]\n"
     ]
    },
    {
     "name": "stdout",
     "output_type": "stream",
     "text": [
      "Validation 315, Loss: 0.319031, Accuracy: 0.994231\n"
     ]
    },
    {
     "name": "stderr",
     "output_type": "stream",
     "text": [
      "Training: Epoch 316/10000: 100%|██████████| 160/160 [00:50<00:00,  3.14it/s]\n"
     ]
    },
    {
     "name": "stdout",
     "output_type": "stream",
     "text": [
      "Epoch 316, Loss: 0.315185, Accuracy: 0.998076, learning rate: 0.0000045225\n"
     ]
    },
    {
     "name": "stderr",
     "output_type": "stream",
     "text": [
      "Validation: Epoch 316/10000: 100%|██████████| 520/520 [00:05<00:00, 89.69it/s]\n"
     ]
    },
    {
     "name": "stdout",
     "output_type": "stream",
     "text": [
      "Validation 316, Loss: 0.319031, Accuracy: 0.994231\n"
     ]
    },
    {
     "name": "stderr",
     "output_type": "stream",
     "text": [
      "Training: Epoch 317/10000: 100%|██████████| 160/160 [00:50<00:00,  3.16it/s]\n"
     ]
    },
    {
     "name": "stdout",
     "output_type": "stream",
     "text": [
      "Epoch 317, Loss: 0.315231, Accuracy: 0.998076, learning rate: 0.0000032725\n"
     ]
    },
    {
     "name": "stderr",
     "output_type": "stream",
     "text": [
      "Validation: Epoch 317/10000: 100%|██████████| 520/520 [00:05<00:00, 89.94it/s]\n"
     ]
    },
    {
     "name": "stdout",
     "output_type": "stream",
     "text": [
      "Validation 317, Loss: 0.322879, Accuracy: 0.990385\n"
     ]
    },
    {
     "name": "stderr",
     "output_type": "stream",
     "text": [
      "Training: Epoch 318/10000: 100%|██████████| 160/160 [00:50<00:00,  3.15it/s]\n"
     ]
    },
    {
     "name": "stdout",
     "output_type": "stream",
     "text": [
      "Epoch 318, Loss: 0.316876, Accuracy: 0.996152, learning rate: 0.0000017275\n"
     ]
    },
    {
     "name": "stderr",
     "output_type": "stream",
     "text": [
      "Validation: Epoch 318/10000: 100%|██████████| 520/520 [00:06<00:00, 85.79it/s]\n"
     ]
    },
    {
     "name": "stdout",
     "output_type": "stream",
     "text": [
      "Validation 318, Loss: 0.330821, Accuracy: 0.982692\n"
     ]
    },
    {
     "name": "stderr",
     "output_type": "stream",
     "text": [
      "Training: Epoch 319/10000: 100%|██████████| 160/160 [00:50<00:00,  3.15it/s]\n"
     ]
    },
    {
     "name": "stdout",
     "output_type": "stream",
     "text": [
      "Epoch 319, Loss: 0.320136, Accuracy: 0.993266, learning rate: 0.0000004775\n"
     ]
    },
    {
     "name": "stderr",
     "output_type": "stream",
     "text": [
      "Validation: Epoch 319/10000: 100%|██████████| 520/520 [00:05<00:00, 89.59it/s]\n"
     ]
    },
    {
     "name": "stdout",
     "output_type": "stream",
     "text": [
      "Validation 319, Loss: 0.326720, Accuracy: 0.986538\n"
     ]
    },
    {
     "name": "stderr",
     "output_type": "stream",
     "text": [
      "Training: Epoch 320/10000: 100%|██████████| 160/160 [00:50<00:00,  3.15it/s]\n"
     ]
    },
    {
     "name": "stdout",
     "output_type": "stream",
     "text": [
      "Epoch 320, Loss: 0.316623, Accuracy: 0.996633, learning rate: 0.0000050000\n"
     ]
    },
    {
     "name": "stderr",
     "output_type": "stream",
     "text": [
      "Validation: Epoch 320/10000: 100%|██████████| 520/520 [00:05<00:00, 93.17it/s]\n"
     ]
    },
    {
     "name": "stdout",
     "output_type": "stream",
     "text": [
      "Validation 320, Loss: 0.326718, Accuracy: 0.986538\n"
     ]
    },
    {
     "name": "stderr",
     "output_type": "stream",
     "text": [
      "Training: Epoch 321/10000: 100%|██████████| 160/160 [00:50<00:00,  3.15it/s]\n"
     ]
    },
    {
     "name": "stdout",
     "output_type": "stream",
     "text": [
      "Epoch 321, Loss: 0.316186, Accuracy: 0.997114, learning rate: 0.0000045225\n"
     ]
    },
    {
     "name": "stderr",
     "output_type": "stream",
     "text": [
      "Validation: Epoch 321/10000: 100%|██████████| 520/520 [00:06<00:00, 84.24it/s]\n"
     ]
    },
    {
     "name": "stdout",
     "output_type": "stream",
     "text": [
      "Validation 321, Loss: 0.326718, Accuracy: 0.986538\n"
     ]
    },
    {
     "name": "stderr",
     "output_type": "stream",
     "text": [
      "Training: Epoch 322/10000: 100%|██████████| 160/160 [00:50<00:00,  3.17it/s]\n"
     ]
    },
    {
     "name": "stdout",
     "output_type": "stream",
     "text": [
      "Epoch 322, Loss: 0.316615, Accuracy: 0.996633, learning rate: 0.0000032725\n"
     ]
    },
    {
     "name": "stderr",
     "output_type": "stream",
     "text": [
      "Validation: Epoch 322/10000: 100%|██████████| 520/520 [00:05<00:00, 90.83it/s]\n"
     ]
    },
    {
     "name": "stdout",
     "output_type": "stream",
     "text": [
      "Validation 322, Loss: 0.320954, Accuracy: 0.992308\n"
     ]
    },
    {
     "name": "stderr",
     "output_type": "stream",
     "text": [
      "Training: Epoch 323/10000: 100%|██████████| 160/160 [00:51<00:00,  3.13it/s]\n"
     ]
    },
    {
     "name": "stdout",
     "output_type": "stream",
     "text": [
      "Epoch 323, Loss: 0.316146, Accuracy: 0.997114, learning rate: 0.0000017275\n"
     ]
    },
    {
     "name": "stderr",
     "output_type": "stream",
     "text": [
      "Validation: Epoch 323/10000: 100%|██████████| 520/520 [00:05<00:00, 90.02it/s]\n"
     ]
    },
    {
     "name": "stdout",
     "output_type": "stream",
     "text": [
      "Validation 323, Loss: 0.320954, Accuracy: 0.992308\n"
     ]
    },
    {
     "name": "stderr",
     "output_type": "stream",
     "text": [
      "Training: Epoch 324/10000: 100%|██████████| 160/160 [00:50<00:00,  3.17it/s]\n"
     ]
    },
    {
     "name": "stdout",
     "output_type": "stream",
     "text": [
      "Epoch 324, Loss: 0.315784, Accuracy: 0.997595, learning rate: 0.0000004775\n"
     ]
    },
    {
     "name": "stderr",
     "output_type": "stream",
     "text": [
      "Validation: Epoch 324/10000: 100%|██████████| 520/520 [00:05<00:00, 91.07it/s]\n"
     ]
    },
    {
     "name": "stdout",
     "output_type": "stream",
     "text": [
      "Validation 324, Loss: 0.322021, Accuracy: 0.990385\n"
     ]
    },
    {
     "name": "stderr",
     "output_type": "stream",
     "text": [
      "Training: Epoch 325/10000: 100%|██████████| 160/160 [00:50<00:00,  3.15it/s]\n"
     ]
    },
    {
     "name": "stdout",
     "output_type": "stream",
     "text": [
      "Epoch 325, Loss: 0.316615, Accuracy: 0.996633, learning rate: 0.0000050000\n"
     ]
    },
    {
     "name": "stderr",
     "output_type": "stream",
     "text": [
      "Validation: Epoch 325/10000: 100%|██████████| 520/520 [00:05<00:00, 86.74it/s]\n"
     ]
    },
    {
     "name": "stdout",
     "output_type": "stream",
     "text": [
      "Validation 325, Loss: 0.322021, Accuracy: 0.990385\n"
     ]
    },
    {
     "name": "stderr",
     "output_type": "stream",
     "text": [
      "Training: Epoch 326/10000: 100%|██████████| 160/160 [00:50<00:00,  3.16it/s]\n"
     ]
    },
    {
     "name": "stdout",
     "output_type": "stream",
     "text": [
      "Epoch 326, Loss: 0.315666, Accuracy: 0.997595, learning rate: 0.0000045225\n"
     ]
    },
    {
     "name": "stderr",
     "output_type": "stream",
     "text": [
      "Validation: Epoch 326/10000: 100%|██████████| 520/520 [00:05<00:00, 92.38it/s]\n"
     ]
    },
    {
     "name": "stdout",
     "output_type": "stream",
     "text": [
      "Validation 326, Loss: 0.320954, Accuracy: 0.992308\n"
     ]
    },
    {
     "name": "stderr",
     "output_type": "stream",
     "text": [
      "Training: Epoch 327/10000: 100%|██████████| 160/160 [00:50<00:00,  3.15it/s]\n"
     ]
    },
    {
     "name": "stdout",
     "output_type": "stream",
     "text": [
      "Epoch 327, Loss: 0.316146, Accuracy: 0.997114, learning rate: 0.0000032725\n"
     ]
    },
    {
     "name": "stderr",
     "output_type": "stream",
     "text": [
      "Validation: Epoch 327/10000: 100%|██████████| 520/520 [00:06<00:00, 86.12it/s]\n"
     ]
    },
    {
     "name": "stdout",
     "output_type": "stream",
     "text": [
      "Validation 327, Loss: 0.320954, Accuracy: 0.992308\n"
     ]
    },
    {
     "name": "stderr",
     "output_type": "stream",
     "text": [
      "Training: Epoch 328/10000: 100%|██████████| 160/160 [00:51<00:00,  3.14it/s]\n"
     ]
    },
    {
     "name": "stdout",
     "output_type": "stream",
     "text": [
      "Epoch 328, Loss: 0.315185, Accuracy: 0.998076, learning rate: 0.0000017275\n"
     ]
    },
    {
     "name": "stderr",
     "output_type": "stream",
     "text": [
      "Validation: Epoch 328/10000: 100%|██████████| 520/520 [00:05<00:00, 90.63it/s]\n"
     ]
    },
    {
     "name": "stdout",
     "output_type": "stream",
     "text": [
      "Validation 328, Loss: 0.320954, Accuracy: 0.992308\n"
     ]
    },
    {
     "name": "stderr",
     "output_type": "stream",
     "text": [
      "Training: Epoch 329/10000: 100%|██████████| 160/160 [00:50<00:00,  3.15it/s]\n"
     ]
    },
    {
     "name": "stdout",
     "output_type": "stream",
     "text": [
      "Epoch 329, Loss: 0.315666, Accuracy: 0.997595, learning rate: 0.0000004775\n"
     ]
    },
    {
     "name": "stderr",
     "output_type": "stream",
     "text": [
      "Validation: Epoch 329/10000: 100%|██████████| 520/520 [00:05<00:00, 89.73it/s]\n"
     ]
    },
    {
     "name": "stdout",
     "output_type": "stream",
     "text": [
      "Validation 329, Loss: 0.320954, Accuracy: 0.992308\n"
     ]
    },
    {
     "name": "stderr",
     "output_type": "stream",
     "text": [
      "Training: Epoch 330/10000: 100%|██████████| 160/160 [00:50<00:00,  3.14it/s]\n"
     ]
    },
    {
     "name": "stdout",
     "output_type": "stream",
     "text": [
      "Epoch 330, Loss: 0.316053, Accuracy: 0.997114, learning rate: 0.0000050000\n"
     ]
    },
    {
     "name": "stderr",
     "output_type": "stream",
     "text": [
      "Validation: Epoch 330/10000: 100%|██████████| 520/520 [00:05<00:00, 87.41it/s]\n"
     ]
    },
    {
     "name": "stdout",
     "output_type": "stream",
     "text": [
      "Validation 330, Loss: 0.320954, Accuracy: 0.992308\n"
     ]
    },
    {
     "name": "stderr",
     "output_type": "stream",
     "text": [
      "Training: Epoch 331/10000: 100%|██████████| 160/160 [00:50<00:00,  3.15it/s]\n"
     ]
    },
    {
     "name": "stdout",
     "output_type": "stream",
     "text": [
      "Epoch 331, Loss: 0.315185, Accuracy: 0.998076, learning rate: 0.0000045225\n"
     ]
    },
    {
     "name": "stderr",
     "output_type": "stream",
     "text": [
      "Validation: Epoch 331/10000: 100%|██████████| 520/520 [00:06<00:00, 85.65it/s]\n"
     ]
    },
    {
     "name": "stdout",
     "output_type": "stream",
     "text": [
      "Validation 331, Loss: 0.319031, Accuracy: 0.994231\n"
     ]
    },
    {
     "name": "stderr",
     "output_type": "stream",
     "text": [
      "Training: Epoch 332/10000: 100%|██████████| 160/160 [00:50<00:00,  3.14it/s]\n"
     ]
    },
    {
     "name": "stdout",
     "output_type": "stream",
     "text": [
      "Epoch 332, Loss: 0.315185, Accuracy: 0.998076, learning rate: 0.0000032725\n"
     ]
    },
    {
     "name": "stderr",
     "output_type": "stream",
     "text": [
      "Validation: Epoch 332/10000: 100%|██████████| 520/520 [00:05<00:00, 91.21it/s]\n"
     ]
    },
    {
     "name": "stdout",
     "output_type": "stream",
     "text": [
      "Validation 332, Loss: 0.319031, Accuracy: 0.994231\n"
     ]
    },
    {
     "name": "stderr",
     "output_type": "stream",
     "text": [
      "Training: Epoch 333/10000: 100%|██████████| 160/160 [00:50<00:00,  3.14it/s]\n"
     ]
    },
    {
     "name": "stdout",
     "output_type": "stream",
     "text": [
      "Epoch 333, Loss: 0.315186, Accuracy: 0.998076, learning rate: 0.0000017275\n"
     ]
    },
    {
     "name": "stderr",
     "output_type": "stream",
     "text": [
      "Validation: Epoch 333/10000: 100%|██████████| 520/520 [00:06<00:00, 85.50it/s]\n"
     ]
    },
    {
     "name": "stdout",
     "output_type": "stream",
     "text": [
      "Validation 333, Loss: 0.319031, Accuracy: 0.994231\n"
     ]
    },
    {
     "name": "stderr",
     "output_type": "stream",
     "text": [
      "Training: Epoch 334/10000: 100%|██████████| 160/160 [00:50<00:00,  3.15it/s]\n"
     ]
    },
    {
     "name": "stdout",
     "output_type": "stream",
     "text": [
      "Epoch 334, Loss: 0.315225, Accuracy: 0.998076, learning rate: 0.0000004775\n"
     ]
    },
    {
     "name": "stderr",
     "output_type": "stream",
     "text": [
      "Validation: Epoch 334/10000: 100%|██████████| 520/520 [00:05<00:00, 93.14it/s]\n"
     ]
    },
    {
     "name": "stdout",
     "output_type": "stream",
     "text": [
      "Validation 334, Loss: 0.319031, Accuracy: 0.994231\n"
     ]
    },
    {
     "name": "stderr",
     "output_type": "stream",
     "text": [
      "Training: Epoch 335/10000: 100%|██████████| 160/160 [00:50<00:00,  3.16it/s]\n"
     ]
    },
    {
     "name": "stdout",
     "output_type": "stream",
     "text": [
      "Epoch 335, Loss: 0.315666, Accuracy: 0.997595, learning rate: 0.0000050000\n"
     ]
    },
    {
     "name": "stderr",
     "output_type": "stream",
     "text": [
      "Validation: Epoch 335/10000: 100%|██████████| 520/520 [00:05<00:00, 90.07it/s]\n"
     ]
    },
    {
     "name": "stdout",
     "output_type": "stream",
     "text": [
      "Validation 335, Loss: 0.319031, Accuracy: 0.994231\n"
     ]
    },
    {
     "name": "stderr",
     "output_type": "stream",
     "text": [
      "Training: Epoch 336/10000: 100%|██████████| 160/160 [00:50<00:00,  3.15it/s]\n"
     ]
    },
    {
     "name": "stdout",
     "output_type": "stream",
     "text": [
      "Epoch 336, Loss: 0.324600, Accuracy: 0.988456, learning rate: 0.0000045225\n"
     ]
    },
    {
     "name": "stderr",
     "output_type": "stream",
     "text": [
      "Validation: Epoch 336/10000: 100%|██████████| 520/520 [00:05<00:00, 88.00it/s]\n"
     ]
    },
    {
     "name": "stdout",
     "output_type": "stream",
     "text": [
      "Validation 336, Loss: 0.338234, Accuracy: 0.975000\n"
     ]
    },
    {
     "name": "stderr",
     "output_type": "stream",
     "text": [
      "Training: Epoch 337/10000: 100%|██████████| 160/160 [00:51<00:00,  3.13it/s]\n"
     ]
    },
    {
     "name": "stdout",
     "output_type": "stream",
     "text": [
      "Epoch 337, Loss: 0.319054, Accuracy: 0.994228, learning rate: 0.0000032725\n"
     ]
    },
    {
     "name": "stderr",
     "output_type": "stream",
     "text": [
      "Validation: Epoch 337/10000: 100%|██████████| 520/520 [00:05<00:00, 87.39it/s]\n"
     ]
    },
    {
     "name": "stdout",
     "output_type": "stream",
     "text": [
      "Validation 337, Loss: 0.326442, Accuracy: 0.986538\n"
     ]
    },
    {
     "name": "stderr",
     "output_type": "stream",
     "text": [
      "Training: Epoch 338/10000: 100%|██████████| 160/160 [00:50<00:00,  3.15it/s]\n"
     ]
    },
    {
     "name": "stdout",
     "output_type": "stream",
     "text": [
      "Epoch 338, Loss: 0.316151, Accuracy: 0.997114, learning rate: 0.0000017275\n"
     ]
    },
    {
     "name": "stderr",
     "output_type": "stream",
     "text": [
      "Validation: Epoch 338/10000: 100%|██████████| 520/520 [00:05<00:00, 86.70it/s]\n"
     ]
    },
    {
     "name": "stdout",
     "output_type": "stream",
     "text": [
      "Validation 338, Loss: 0.326729, Accuracy: 0.986538\n"
     ]
    },
    {
     "name": "stderr",
     "output_type": "stream",
     "text": [
      "Training: Epoch 339/10000: 100%|██████████| 160/160 [00:50<00:00,  3.15it/s]\n"
     ]
    },
    {
     "name": "stdout",
     "output_type": "stream",
     "text": [
      "Epoch 339, Loss: 0.316073, Accuracy: 0.997114, learning rate: 0.0000004775\n"
     ]
    },
    {
     "name": "stderr",
     "output_type": "stream",
     "text": [
      "Validation: Epoch 339/10000: 100%|██████████| 520/520 [00:05<00:00, 92.45it/s]\n"
     ]
    },
    {
     "name": "stdout",
     "output_type": "stream",
     "text": [
      "Validation 339, Loss: 0.325599, Accuracy: 0.986538\n"
     ]
    },
    {
     "name": "stderr",
     "output_type": "stream",
     "text": [
      "Training: Epoch 340/10000: 100%|██████████| 160/160 [00:50<00:00,  3.15it/s]\n"
     ]
    },
    {
     "name": "stdout",
     "output_type": "stream",
     "text": [
      "Epoch 340, Loss: 0.316625, Accuracy: 0.996633, learning rate: 0.0000050000\n"
     ]
    },
    {
     "name": "stderr",
     "output_type": "stream",
     "text": [
      "Validation: Epoch 340/10000: 100%|██████████| 520/520 [00:05<00:00, 86.69it/s]\n"
     ]
    },
    {
     "name": "stdout",
     "output_type": "stream",
     "text": [
      "Validation 340, Loss: 0.324802, Accuracy: 0.988462\n"
     ]
    },
    {
     "name": "stderr",
     "output_type": "stream",
     "text": [
      "Training: Epoch 341/10000: 100%|██████████| 160/160 [00:50<00:00,  3.15it/s]\n"
     ]
    },
    {
     "name": "stdout",
     "output_type": "stream",
     "text": [
      "Epoch 341, Loss: 0.316146, Accuracy: 0.997114, learning rate: 0.0000045225\n"
     ]
    },
    {
     "name": "stderr",
     "output_type": "stream",
     "text": [
      "Validation: Epoch 341/10000: 100%|██████████| 520/520 [00:05<00:00, 90.93it/s]\n"
     ]
    },
    {
     "name": "stdout",
     "output_type": "stream",
     "text": [
      "Validation 341, Loss: 0.324802, Accuracy: 0.988462\n"
     ]
    },
    {
     "name": "stderr",
     "output_type": "stream",
     "text": [
      "Training: Epoch 342/10000: 100%|██████████| 160/160 [00:50<00:00,  3.15it/s]\n"
     ]
    },
    {
     "name": "stdout",
     "output_type": "stream",
     "text": [
      "Epoch 342, Loss: 0.315689, Accuracy: 0.997595, learning rate: 0.0000032725\n"
     ]
    },
    {
     "name": "stderr",
     "output_type": "stream",
     "text": [
      "Validation: Epoch 342/10000: 100%|██████████| 520/520 [00:05<00:00, 86.80it/s]\n"
     ]
    },
    {
     "name": "stdout",
     "output_type": "stream",
     "text": [
      "Validation 342, Loss: 0.324800, Accuracy: 0.988462\n"
     ]
    },
    {
     "name": "stderr",
     "output_type": "stream",
     "text": [
      "Training: Epoch 343/10000: 100%|██████████| 160/160 [00:50<00:00,  3.14it/s]\n"
     ]
    },
    {
     "name": "stdout",
     "output_type": "stream",
     "text": [
      "Epoch 343, Loss: 0.315499, Accuracy: 0.997595, learning rate: 0.0000017275\n"
     ]
    },
    {
     "name": "stderr",
     "output_type": "stream",
     "text": [
      "Validation: Epoch 343/10000: 100%|██████████| 520/520 [00:05<00:00, 91.42it/s]\n"
     ]
    },
    {
     "name": "stdout",
     "output_type": "stream",
     "text": [
      "Validation 343, Loss: 0.322877, Accuracy: 0.990385\n"
     ]
    },
    {
     "name": "stderr",
     "output_type": "stream",
     "text": [
      "Training: Epoch 344/10000: 100%|██████████| 160/160 [00:50<00:00,  3.16it/s]\n"
     ]
    },
    {
     "name": "stdout",
     "output_type": "stream",
     "text": [
      "Epoch 344, Loss: 0.315542, Accuracy: 0.997595, learning rate: 0.0000004775\n"
     ]
    },
    {
     "name": "stderr",
     "output_type": "stream",
     "text": [
      "Validation: Epoch 344/10000: 100%|██████████| 520/520 [00:06<00:00, 86.45it/s]\n"
     ]
    },
    {
     "name": "stdout",
     "output_type": "stream",
     "text": [
      "Validation 344, Loss: 0.322877, Accuracy: 0.990385\n"
     ]
    },
    {
     "name": "stderr",
     "output_type": "stream",
     "text": [
      "Training: Epoch 345/10000: 100%|██████████| 160/160 [00:50<00:00,  3.14it/s]\n"
     ]
    },
    {
     "name": "stdout",
     "output_type": "stream",
     "text": [
      "Epoch 345, Loss: 0.315185, Accuracy: 0.998076, learning rate: 0.0000050000\n"
     ]
    },
    {
     "name": "stderr",
     "output_type": "stream",
     "text": [
      "Validation: Epoch 345/10000: 100%|██████████| 520/520 [00:05<00:00, 91.60it/s]\n"
     ]
    },
    {
     "name": "stdout",
     "output_type": "stream",
     "text": [
      "Validation 345, Loss: 0.322877, Accuracy: 0.990385\n"
     ]
    },
    {
     "name": "stderr",
     "output_type": "stream",
     "text": [
      "Training: Epoch 346/10000: 100%|██████████| 160/160 [00:50<00:00,  3.15it/s]\n"
     ]
    },
    {
     "name": "stdout",
     "output_type": "stream",
     "text": [
      "Epoch 346, Loss: 0.315185, Accuracy: 0.998076, learning rate: 0.0000045225\n"
     ]
    },
    {
     "name": "stderr",
     "output_type": "stream",
     "text": [
      "Validation: Epoch 346/10000: 100%|██████████| 520/520 [00:06<00:00, 86.04it/s]\n"
     ]
    },
    {
     "name": "stdout",
     "output_type": "stream",
     "text": [
      "Validation 346, Loss: 0.322877, Accuracy: 0.990385\n"
     ]
    },
    {
     "name": "stderr",
     "output_type": "stream",
     "text": [
      "Training: Epoch 347/10000: 100%|██████████| 160/160 [00:50<00:00,  3.15it/s]\n"
     ]
    },
    {
     "name": "stdout",
     "output_type": "stream",
     "text": [
      "Epoch 347, Loss: 0.315185, Accuracy: 0.998076, learning rate: 0.0000032725\n"
     ]
    },
    {
     "name": "stderr",
     "output_type": "stream",
     "text": [
      "Validation: Epoch 347/10000: 100%|██████████| 520/520 [00:05<00:00, 91.84it/s]\n"
     ]
    },
    {
     "name": "stdout",
     "output_type": "stream",
     "text": [
      "Validation 347, Loss: 0.322877, Accuracy: 0.990385\n"
     ]
    },
    {
     "name": "stderr",
     "output_type": "stream",
     "text": [
      "Training: Epoch 348/10000: 100%|██████████| 160/160 [00:50<00:00,  3.14it/s]\n"
     ]
    },
    {
     "name": "stdout",
     "output_type": "stream",
     "text": [
      "Epoch 348, Loss: 0.315185, Accuracy: 0.998076, learning rate: 0.0000017275\n"
     ]
    },
    {
     "name": "stderr",
     "output_type": "stream",
     "text": [
      "Validation: Epoch 348/10000: 100%|██████████| 520/520 [00:05<00:00, 88.29it/s]\n"
     ]
    },
    {
     "name": "stdout",
     "output_type": "stream",
     "text": [
      "Validation 348, Loss: 0.322877, Accuracy: 0.990385\n"
     ]
    },
    {
     "name": "stderr",
     "output_type": "stream",
     "text": [
      "Training: Epoch 349/10000: 100%|██████████| 160/160 [00:50<00:00,  3.15it/s]\n"
     ]
    },
    {
     "name": "stdout",
     "output_type": "stream",
     "text": [
      "Epoch 349, Loss: 0.315185, Accuracy: 0.998076, learning rate: 0.0000004775\n"
     ]
    },
    {
     "name": "stderr",
     "output_type": "stream",
     "text": [
      "Validation: Epoch 349/10000: 100%|██████████| 520/520 [00:05<00:00, 89.81it/s]\n"
     ]
    },
    {
     "name": "stdout",
     "output_type": "stream",
     "text": [
      "Validation 349, Loss: 0.322877, Accuracy: 0.990385\n"
     ]
    },
    {
     "name": "stderr",
     "output_type": "stream",
     "text": [
      "Training: Epoch 350/10000: 100%|██████████| 160/160 [00:50<00:00,  3.15it/s]\n"
     ]
    },
    {
     "name": "stdout",
     "output_type": "stream",
     "text": [
      "Epoch 350, Loss: 0.315185, Accuracy: 0.998076, learning rate: 0.0000050000\n"
     ]
    },
    {
     "name": "stderr",
     "output_type": "stream",
     "text": [
      "Validation: Epoch 350/10000: 100%|██████████| 520/520 [00:06<00:00, 84.03it/s]\n"
     ]
    },
    {
     "name": "stdout",
     "output_type": "stream",
     "text": [
      "Validation 350, Loss: 0.322877, Accuracy: 0.990385\n"
     ]
    },
    {
     "name": "stderr",
     "output_type": "stream",
     "text": [
      "Training: Epoch 351/10000: 100%|██████████| 160/160 [00:50<00:00,  3.14it/s]\n"
     ]
    },
    {
     "name": "stdout",
     "output_type": "stream",
     "text": [
      "Epoch 351, Loss: 0.315185, Accuracy: 0.998076, learning rate: 0.0000045225\n"
     ]
    },
    {
     "name": "stderr",
     "output_type": "stream",
     "text": [
      "Validation: Epoch 351/10000: 100%|██████████| 520/520 [00:05<00:00, 91.50it/s]\n"
     ]
    },
    {
     "name": "stdout",
     "output_type": "stream",
     "text": [
      "Validation 351, Loss: 0.322877, Accuracy: 0.990385\n"
     ]
    },
    {
     "name": "stderr",
     "output_type": "stream",
     "text": [
      "Training: Epoch 352/10000: 100%|██████████| 160/160 [00:50<00:00,  3.15it/s]\n"
     ]
    },
    {
     "name": "stdout",
     "output_type": "stream",
     "text": [
      "Epoch 352, Loss: 0.315647, Accuracy: 0.997595, learning rate: 0.0000032725\n"
     ]
    },
    {
     "name": "stderr",
     "output_type": "stream",
     "text": [
      "Validation: Epoch 352/10000: 100%|██████████| 520/520 [00:06<00:00, 86.52it/s]\n"
     ]
    },
    {
     "name": "stdout",
     "output_type": "stream",
     "text": [
      "Validation 352, Loss: 0.322877, Accuracy: 0.990385\n"
     ]
    },
    {
     "name": "stderr",
     "output_type": "stream",
     "text": [
      "Training: Epoch 353/10000: 100%|██████████| 160/160 [00:51<00:00,  3.13it/s]\n"
     ]
    },
    {
     "name": "stdout",
     "output_type": "stream",
     "text": [
      "Epoch 353, Loss: 0.315185, Accuracy: 0.998076, learning rate: 0.0000017275\n"
     ]
    },
    {
     "name": "stderr",
     "output_type": "stream",
     "text": [
      "Validation: Epoch 353/10000: 100%|██████████| 520/520 [00:05<00:00, 93.31it/s]\n"
     ]
    },
    {
     "name": "stdout",
     "output_type": "stream",
     "text": [
      "Validation 353, Loss: 0.322877, Accuracy: 0.990385\n"
     ]
    },
    {
     "name": "stderr",
     "output_type": "stream",
     "text": [
      "Training: Epoch 354/10000: 100%|██████████| 160/160 [00:50<00:00,  3.14it/s]\n"
     ]
    },
    {
     "name": "stdout",
     "output_type": "stream",
     "text": [
      "Epoch 354, Loss: 0.315513, Accuracy: 0.997595, learning rate: 0.0000004775\n"
     ]
    },
    {
     "name": "stderr",
     "output_type": "stream",
     "text": [
      "Validation: Epoch 354/10000: 100%|██████████| 520/520 [00:05<00:00, 92.41it/s]\n"
     ]
    },
    {
     "name": "stdout",
     "output_type": "stream",
     "text": [
      "Validation 354, Loss: 0.322877, Accuracy: 0.990385\n"
     ]
    },
    {
     "name": "stderr",
     "output_type": "stream",
     "text": [
      "Training: Epoch 355/10000: 100%|██████████| 160/160 [00:51<00:00,  3.14it/s]\n"
     ]
    },
    {
     "name": "stdout",
     "output_type": "stream",
     "text": [
      "Epoch 355, Loss: 0.315668, Accuracy: 0.997595, learning rate: 0.0000050000\n"
     ]
    },
    {
     "name": "stderr",
     "output_type": "stream",
     "text": [
      "Validation: Epoch 355/10000: 100%|██████████| 520/520 [00:05<00:00, 89.63it/s]\n"
     ]
    },
    {
     "name": "stdout",
     "output_type": "stream",
     "text": [
      "Validation 355, Loss: 0.322877, Accuracy: 0.990385\n"
     ]
    },
    {
     "name": "stderr",
     "output_type": "stream",
     "text": [
      "Training: Epoch 356/10000: 100%|██████████| 160/160 [00:50<00:00,  3.16it/s]\n"
     ]
    },
    {
     "name": "stdout",
     "output_type": "stream",
     "text": [
      "Epoch 356, Loss: 0.320833, Accuracy: 0.992304, learning rate: 0.0000045225\n"
     ]
    },
    {
     "name": "stderr",
     "output_type": "stream",
     "text": [
      "Validation: Epoch 356/10000: 100%|██████████| 520/520 [00:05<00:00, 90.71it/s]\n"
     ]
    },
    {
     "name": "stdout",
     "output_type": "stream",
     "text": [
      "Validation 356, Loss: 0.324800, Accuracy: 0.988462\n"
     ]
    },
    {
     "name": "stderr",
     "output_type": "stream",
     "text": [
      "Training: Epoch 357/10000: 100%|██████████| 160/160 [00:50<00:00,  3.15it/s]\n"
     ]
    },
    {
     "name": "stdout",
     "output_type": "stream",
     "text": [
      "Epoch 357, Loss: 0.319268, Accuracy: 0.993747, learning rate: 0.0000032725\n"
     ]
    },
    {
     "name": "stderr",
     "output_type": "stream",
     "text": [
      "Validation: Epoch 357/10000: 100%|██████████| 520/520 [00:06<00:00, 86.30it/s]\n"
     ]
    },
    {
     "name": "stdout",
     "output_type": "stream",
     "text": [
      "Validation 357, Loss: 0.320954, Accuracy: 0.992308\n"
     ]
    },
    {
     "name": "stderr",
     "output_type": "stream",
     "text": [
      "Training: Epoch 358/10000: 100%|██████████| 160/160 [00:50<00:00,  3.14it/s]\n"
     ]
    },
    {
     "name": "stdout",
     "output_type": "stream",
     "text": [
      "Epoch 358, Loss: 0.316087, Accuracy: 0.997114, learning rate: 0.0000017275\n"
     ]
    },
    {
     "name": "stderr",
     "output_type": "stream",
     "text": [
      "Validation: Epoch 358/10000: 100%|██████████| 520/520 [00:05<00:00, 92.77it/s]\n"
     ]
    },
    {
     "name": "stdout",
     "output_type": "stream",
     "text": [
      "Validation 358, Loss: 0.323108, Accuracy: 0.990385\n"
     ]
    },
    {
     "name": "stderr",
     "output_type": "stream",
     "text": [
      "Training: Epoch 359/10000: 100%|██████████| 160/160 [00:50<00:00,  3.15it/s]\n"
     ]
    },
    {
     "name": "stdout",
     "output_type": "stream",
     "text": [
      "Epoch 359, Loss: 0.315909, Accuracy: 0.997595, learning rate: 0.0000004775\n"
     ]
    },
    {
     "name": "stderr",
     "output_type": "stream",
     "text": [
      "Validation: Epoch 359/10000: 100%|██████████| 520/520 [00:06<00:00, 86.21it/s]\n"
     ]
    },
    {
     "name": "stdout",
     "output_type": "stream",
     "text": [
      "Validation 359, Loss: 0.325071, Accuracy: 0.988462\n"
     ]
    },
    {
     "name": "stderr",
     "output_type": "stream",
     "text": [
      "Training: Epoch 360/10000: 100%|██████████| 160/160 [00:50<00:00,  3.15it/s]\n"
     ]
    },
    {
     "name": "stdout",
     "output_type": "stream",
     "text": [
      "Epoch 360, Loss: 0.315423, Accuracy: 0.997595, learning rate: 0.0000050000\n"
     ]
    },
    {
     "name": "stderr",
     "output_type": "stream",
     "text": [
      "Validation: Epoch 360/10000: 100%|██████████| 520/520 [00:05<00:00, 89.72it/s]\n"
     ]
    },
    {
     "name": "stdout",
     "output_type": "stream",
     "text": [
      "Validation 360, Loss: 0.324296, Accuracy: 0.988462\n"
     ]
    },
    {
     "name": "stderr",
     "output_type": "stream",
     "text": [
      "Training: Epoch 361/10000: 100%|██████████| 160/160 [00:50<00:00,  3.14it/s]\n"
     ]
    },
    {
     "name": "stdout",
     "output_type": "stream",
     "text": [
      "Epoch 361, Loss: 0.315654, Accuracy: 0.997595, learning rate: 0.0000045225\n"
     ]
    },
    {
     "name": "stderr",
     "output_type": "stream",
     "text": [
      "Validation: Epoch 361/10000: 100%|██████████| 520/520 [00:05<00:00, 88.70it/s]\n"
     ]
    },
    {
     "name": "stdout",
     "output_type": "stream",
     "text": [
      "Validation 361, Loss: 0.325320, Accuracy: 0.988462\n"
     ]
    },
    {
     "name": "stderr",
     "output_type": "stream",
     "text": [
      "Training: Epoch 362/10000: 100%|██████████| 160/160 [00:50<00:00,  3.15it/s]\n"
     ]
    },
    {
     "name": "stdout",
     "output_type": "stream",
     "text": [
      "Epoch 362, Loss: 0.315674, Accuracy: 0.997595, learning rate: 0.0000032725\n"
     ]
    },
    {
     "name": "stderr",
     "output_type": "stream",
     "text": [
      "Validation: Epoch 362/10000: 100%|██████████| 520/520 [00:05<00:00, 89.36it/s]\n"
     ]
    },
    {
     "name": "stdout",
     "output_type": "stream",
     "text": [
      "Validation 362, Loss: 0.322892, Accuracy: 0.990385\n"
     ]
    },
    {
     "name": "stderr",
     "output_type": "stream",
     "text": [
      "Training: Epoch 363/10000: 100%|██████████| 160/160 [00:50<00:00,  3.17it/s]\n"
     ]
    },
    {
     "name": "stdout",
     "output_type": "stream",
     "text": [
      "Epoch 363, Loss: 0.315186, Accuracy: 0.998076, learning rate: 0.0000017275\n"
     ]
    },
    {
     "name": "stderr",
     "output_type": "stream",
     "text": [
      "Validation: Epoch 363/10000: 100%|██████████| 520/520 [00:05<00:00, 88.19it/s]\n"
     ]
    },
    {
     "name": "stdout",
     "output_type": "stream",
     "text": [
      "Validation 363, Loss: 0.322896, Accuracy: 0.990385\n"
     ]
    },
    {
     "name": "stderr",
     "output_type": "stream",
     "text": [
      "Training: Epoch 364/10000: 100%|██████████| 160/160 [00:50<00:00,  3.14it/s]\n"
     ]
    },
    {
     "name": "stdout",
     "output_type": "stream",
     "text": [
      "Epoch 364, Loss: 0.315185, Accuracy: 0.998076, learning rate: 0.0000004775\n"
     ]
    },
    {
     "name": "stderr",
     "output_type": "stream",
     "text": [
      "Validation: Epoch 364/10000: 100%|██████████| 520/520 [00:05<00:00, 91.09it/s]\n"
     ]
    },
    {
     "name": "stdout",
     "output_type": "stream",
     "text": [
      "Validation 364, Loss: 0.322896, Accuracy: 0.990385\n"
     ]
    },
    {
     "name": "stderr",
     "output_type": "stream",
     "text": [
      "Training: Epoch 365/10000: 100%|██████████| 160/160 [00:51<00:00,  3.14it/s]\n"
     ]
    },
    {
     "name": "stdout",
     "output_type": "stream",
     "text": [
      "Epoch 365, Loss: 0.315666, Accuracy: 0.997595, learning rate: 0.0000050000\n"
     ]
    },
    {
     "name": "stderr",
     "output_type": "stream",
     "text": [
      "Validation: Epoch 365/10000: 100%|██████████| 520/520 [00:06<00:00, 85.43it/s]\n"
     ]
    },
    {
     "name": "stdout",
     "output_type": "stream",
     "text": [
      "Validation 365, Loss: 0.322896, Accuracy: 0.990385\n"
     ]
    },
    {
     "name": "stderr",
     "output_type": "stream",
     "text": [
      "Training: Epoch 366/10000: 100%|██████████| 160/160 [00:50<00:00,  3.14it/s]\n"
     ]
    },
    {
     "name": "stdout",
     "output_type": "stream",
     "text": [
      "Epoch 366, Loss: 0.315185, Accuracy: 0.998076, learning rate: 0.0000045225\n"
     ]
    },
    {
     "name": "stderr",
     "output_type": "stream",
     "text": [
      "Validation: Epoch 366/10000: 100%|██████████| 520/520 [00:05<00:00, 92.18it/s]\n"
     ]
    },
    {
     "name": "stdout",
     "output_type": "stream",
     "text": [
      "Validation 366, Loss: 0.322895, Accuracy: 0.990385\n"
     ]
    },
    {
     "name": "stderr",
     "output_type": "stream",
     "text": [
      "Training: Epoch 367/10000: 100%|██████████| 160/160 [00:50<00:00,  3.15it/s]\n"
     ]
    },
    {
     "name": "stdout",
     "output_type": "stream",
     "text": [
      "Epoch 367, Loss: 0.315185, Accuracy: 0.998076, learning rate: 0.0000032725\n"
     ]
    },
    {
     "name": "stderr",
     "output_type": "stream",
     "text": [
      "Validation: Epoch 367/10000: 100%|██████████| 520/520 [00:05<00:00, 91.19it/s]\n"
     ]
    },
    {
     "name": "stdout",
     "output_type": "stream",
     "text": [
      "Validation 367, Loss: 0.322895, Accuracy: 0.990385\n"
     ]
    },
    {
     "name": "stderr",
     "output_type": "stream",
     "text": [
      "Training: Epoch 368/10000: 100%|██████████| 160/160 [00:50<00:00,  3.15it/s]\n"
     ]
    },
    {
     "name": "stdout",
     "output_type": "stream",
     "text": [
      "Epoch 368, Loss: 0.315185, Accuracy: 0.998076, learning rate: 0.0000017275\n"
     ]
    },
    {
     "name": "stderr",
     "output_type": "stream",
     "text": [
      "Validation: Epoch 368/10000: 100%|██████████| 520/520 [00:05<00:00, 88.52it/s]\n"
     ]
    },
    {
     "name": "stdout",
     "output_type": "stream",
     "text": [
      "Validation 368, Loss: 0.322895, Accuracy: 0.990385\n"
     ]
    },
    {
     "name": "stderr",
     "output_type": "stream",
     "text": [
      "Training: Epoch 369/10000: 100%|██████████| 160/160 [00:50<00:00,  3.15it/s]\n"
     ]
    },
    {
     "name": "stdout",
     "output_type": "stream",
     "text": [
      "Epoch 369, Loss: 0.315185, Accuracy: 0.998076, learning rate: 0.0000004775\n"
     ]
    },
    {
     "name": "stderr",
     "output_type": "stream",
     "text": [
      "Validation: Epoch 369/10000: 100%|██████████| 520/520 [00:06<00:00, 85.57it/s]\n"
     ]
    },
    {
     "name": "stdout",
     "output_type": "stream",
     "text": [
      "Validation 369, Loss: 0.322895, Accuracy: 0.990385\n"
     ]
    },
    {
     "name": "stderr",
     "output_type": "stream",
     "text": [
      "Training: Epoch 370/10000: 100%|██████████| 160/160 [00:50<00:00,  3.14it/s]\n"
     ]
    },
    {
     "name": "stdout",
     "output_type": "stream",
     "text": [
      "Epoch 370, Loss: 0.315185, Accuracy: 0.998076, learning rate: 0.0000050000\n"
     ]
    },
    {
     "name": "stderr",
     "output_type": "stream",
     "text": [
      "Validation: Epoch 370/10000: 100%|██████████| 520/520 [00:05<00:00, 92.59it/s]\n"
     ]
    },
    {
     "name": "stdout",
     "output_type": "stream",
     "text": [
      "Validation 370, Loss: 0.322895, Accuracy: 0.990385\n"
     ]
    },
    {
     "name": "stderr",
     "output_type": "stream",
     "text": [
      "Training: Epoch 371/10000: 100%|██████████| 160/160 [00:50<00:00,  3.14it/s]\n"
     ]
    },
    {
     "name": "stdout",
     "output_type": "stream",
     "text": [
      "Epoch 371, Loss: 0.315185, Accuracy: 0.998076, learning rate: 0.0000045225\n"
     ]
    },
    {
     "name": "stderr",
     "output_type": "stream",
     "text": [
      "Validation: Epoch 371/10000: 100%|██████████| 520/520 [00:05<00:00, 86.92it/s]\n"
     ]
    },
    {
     "name": "stdout",
     "output_type": "stream",
     "text": [
      "Validation 371, Loss: 0.322895, Accuracy: 0.990385\n"
     ]
    },
    {
     "name": "stderr",
     "output_type": "stream",
     "text": [
      "Training: Epoch 372/10000: 100%|██████████| 160/160 [00:50<00:00,  3.15it/s]\n"
     ]
    },
    {
     "name": "stdout",
     "output_type": "stream",
     "text": [
      "Epoch 372, Loss: 0.315185, Accuracy: 0.998076, learning rate: 0.0000032725\n"
     ]
    },
    {
     "name": "stderr",
     "output_type": "stream",
     "text": [
      "Validation: Epoch 372/10000: 100%|██████████| 520/520 [00:05<00:00, 91.87it/s]\n"
     ]
    },
    {
     "name": "stdout",
     "output_type": "stream",
     "text": [
      "Validation 372, Loss: 0.322895, Accuracy: 0.990385\n"
     ]
    },
    {
     "name": "stderr",
     "output_type": "stream",
     "text": [
      "Training: Epoch 373/10000: 100%|██████████| 160/160 [00:50<00:00,  3.15it/s]\n"
     ]
    },
    {
     "name": "stdout",
     "output_type": "stream",
     "text": [
      "Epoch 373, Loss: 0.315185, Accuracy: 0.998076, learning rate: 0.0000017275\n"
     ]
    },
    {
     "name": "stderr",
     "output_type": "stream",
     "text": [
      "Validation: Epoch 373/10000: 100%|██████████| 520/520 [00:05<00:00, 87.95it/s]\n"
     ]
    },
    {
     "name": "stdout",
     "output_type": "stream",
     "text": [
      "Validation 373, Loss: 0.322895, Accuracy: 0.990385\n"
     ]
    },
    {
     "name": "stderr",
     "output_type": "stream",
     "text": [
      "Training: Epoch 374/10000: 100%|██████████| 160/160 [00:50<00:00,  3.14it/s]\n"
     ]
    },
    {
     "name": "stdout",
     "output_type": "stream",
     "text": [
      "Epoch 374, Loss: 0.315223, Accuracy: 0.998076, learning rate: 0.0000004775\n"
     ]
    },
    {
     "name": "stderr",
     "output_type": "stream",
     "text": [
      "Validation: Epoch 374/10000: 100%|██████████| 520/520 [00:05<00:00, 88.16it/s]\n"
     ]
    },
    {
     "name": "stdout",
     "output_type": "stream",
     "text": [
      "Validation 374, Loss: 0.321046, Accuracy: 0.992308\n"
     ]
    },
    {
     "name": "stderr",
     "output_type": "stream",
     "text": [
      "Training: Epoch 375/10000: 100%|██████████| 160/160 [00:50<00:00,  3.14it/s]\n"
     ]
    },
    {
     "name": "stdout",
     "output_type": "stream",
     "text": [
      "Epoch 375, Loss: 0.315185, Accuracy: 0.998076, learning rate: 0.0000050000\n"
     ]
    },
    {
     "name": "stderr",
     "output_type": "stream",
     "text": [
      "Validation: Epoch 375/10000: 100%|██████████| 520/520 [00:05<00:00, 89.82it/s]\n"
     ]
    },
    {
     "name": "stdout",
     "output_type": "stream",
     "text": [
      "Validation 375, Loss: 0.321046, Accuracy: 0.992308\n"
     ]
    },
    {
     "name": "stderr",
     "output_type": "stream",
     "text": [
      "Training: Epoch 376/10000: 100%|██████████| 160/160 [00:51<00:00,  3.13it/s]\n"
     ]
    },
    {
     "name": "stdout",
     "output_type": "stream",
     "text": [
      "Epoch 376, Loss: 0.315185, Accuracy: 0.998076, learning rate: 0.0000045225\n"
     ]
    },
    {
     "name": "stderr",
     "output_type": "stream",
     "text": [
      "Validation: Epoch 376/10000: 100%|██████████| 520/520 [00:05<00:00, 87.03it/s]\n"
     ]
    },
    {
     "name": "stdout",
     "output_type": "stream",
     "text": [
      "Validation 376, Loss: 0.321045, Accuracy: 0.992308\n"
     ]
    },
    {
     "name": "stderr",
     "output_type": "stream",
     "text": [
      "Training: Epoch 377/10000: 100%|██████████| 160/160 [00:51<00:00,  3.14it/s]\n"
     ]
    },
    {
     "name": "stdout",
     "output_type": "stream",
     "text": [
      "Epoch 377, Loss: 0.315185, Accuracy: 0.998076, learning rate: 0.0000032725\n"
     ]
    },
    {
     "name": "stderr",
     "output_type": "stream",
     "text": [
      "Validation: Epoch 377/10000: 100%|██████████| 520/520 [00:05<00:00, 90.99it/s]\n"
     ]
    },
    {
     "name": "stdout",
     "output_type": "stream",
     "text": [
      "Validation 377, Loss: 0.321046, Accuracy: 0.992308\n"
     ]
    },
    {
     "name": "stderr",
     "output_type": "stream",
     "text": [
      "Training: Epoch 378/10000: 100%|██████████| 160/160 [00:51<00:00,  3.13it/s]\n"
     ]
    },
    {
     "name": "stdout",
     "output_type": "stream",
     "text": [
      "Epoch 378, Loss: 0.315185, Accuracy: 0.998076, learning rate: 0.0000017275\n"
     ]
    },
    {
     "name": "stderr",
     "output_type": "stream",
     "text": [
      "Validation: Epoch 378/10000: 100%|██████████| 520/520 [00:05<00:00, 87.81it/s]\n"
     ]
    },
    {
     "name": "stdout",
     "output_type": "stream",
     "text": [
      "Validation 378, Loss: 0.321046, Accuracy: 0.992308\n"
     ]
    },
    {
     "name": "stderr",
     "output_type": "stream",
     "text": [
      "Training: Epoch 379/10000: 100%|██████████| 160/160 [00:50<00:00,  3.14it/s]\n"
     ]
    },
    {
     "name": "stdout",
     "output_type": "stream",
     "text": [
      "Epoch 379, Loss: 0.315598, Accuracy: 0.997595, learning rate: 0.0000004775\n"
     ]
    },
    {
     "name": "stderr",
     "output_type": "stream",
     "text": [
      "Validation: Epoch 379/10000: 100%|██████████| 520/520 [00:05<00:00, 91.35it/s]\n"
     ]
    },
    {
     "name": "stdout",
     "output_type": "stream",
     "text": [
      "Validation 379, Loss: 0.322976, Accuracy: 0.990385\n"
     ]
    },
    {
     "name": "stderr",
     "output_type": "stream",
     "text": [
      "Training: Epoch 380/10000: 100%|██████████| 160/160 [00:50<00:00,  3.15it/s]\n"
     ]
    },
    {
     "name": "stdout",
     "output_type": "stream",
     "text": [
      "Epoch 380, Loss: 0.315860, Accuracy: 0.997114, learning rate: 0.0000050000\n"
     ]
    },
    {
     "name": "stderr",
     "output_type": "stream",
     "text": [
      "Validation: Epoch 380/10000: 100%|██████████| 520/520 [00:05<00:00, 89.38it/s]\n"
     ]
    },
    {
     "name": "stdout",
     "output_type": "stream",
     "text": [
      "Validation 380, Loss: 0.322907, Accuracy: 0.990385\n"
     ]
    },
    {
     "name": "stderr",
     "output_type": "stream",
     "text": [
      "Training: Epoch 381/10000: 100%|██████████| 160/160 [00:50<00:00,  3.14it/s]\n"
     ]
    },
    {
     "name": "stdout",
     "output_type": "stream",
     "text": [
      "Epoch 381, Loss: 0.315185, Accuracy: 0.998076, learning rate: 0.0000045225\n"
     ]
    },
    {
     "name": "stderr",
     "output_type": "stream",
     "text": [
      "Validation: Epoch 381/10000: 100%|██████████| 520/520 [00:05<00:00, 89.69it/s]\n"
     ]
    },
    {
     "name": "stdout",
     "output_type": "stream",
     "text": [
      "Validation 381, Loss: 0.322882, Accuracy: 0.990385\n"
     ]
    },
    {
     "name": "stderr",
     "output_type": "stream",
     "text": [
      "Training: Epoch 382/10000: 100%|██████████| 160/160 [00:50<00:00,  3.14it/s]\n"
     ]
    },
    {
     "name": "stdout",
     "output_type": "stream",
     "text": [
      "Epoch 382, Loss: 0.315185, Accuracy: 0.998076, learning rate: 0.0000032725\n"
     ]
    },
    {
     "name": "stderr",
     "output_type": "stream",
     "text": [
      "Validation: Epoch 382/10000: 100%|██████████| 520/520 [00:06<00:00, 86.14it/s]\n"
     ]
    },
    {
     "name": "stdout",
     "output_type": "stream",
     "text": [
      "Validation 382, Loss: 0.322882, Accuracy: 0.990385\n"
     ]
    },
    {
     "name": "stderr",
     "output_type": "stream",
     "text": [
      "Training: Epoch 383/10000: 100%|██████████| 160/160 [00:50<00:00,  3.15it/s]\n"
     ]
    },
    {
     "name": "stdout",
     "output_type": "stream",
     "text": [
      "Epoch 383, Loss: 0.315185, Accuracy: 0.998076, learning rate: 0.0000017275\n"
     ]
    },
    {
     "name": "stderr",
     "output_type": "stream",
     "text": [
      "Validation: Epoch 383/10000: 100%|██████████| 520/520 [00:05<00:00, 90.96it/s]\n"
     ]
    },
    {
     "name": "stdout",
     "output_type": "stream",
     "text": [
      "Validation 383, Loss: 0.322882, Accuracy: 0.990385\n"
     ]
    },
    {
     "name": "stderr",
     "output_type": "stream",
     "text": [
      "Training: Epoch 384/10000: 100%|██████████| 160/160 [00:50<00:00,  3.15it/s]\n"
     ]
    },
    {
     "name": "stdout",
     "output_type": "stream",
     "text": [
      "Epoch 384, Loss: 0.315187, Accuracy: 0.998076, learning rate: 0.0000004775\n"
     ]
    },
    {
     "name": "stderr",
     "output_type": "stream",
     "text": [
      "Validation: Epoch 384/10000: 100%|██████████| 520/520 [00:06<00:00, 86.46it/s]\n"
     ]
    },
    {
     "name": "stdout",
     "output_type": "stream",
     "text": [
      "Validation 384, Loss: 0.322882, Accuracy: 0.990385\n"
     ]
    },
    {
     "name": "stderr",
     "output_type": "stream",
     "text": [
      "Training: Epoch 385/10000: 100%|██████████| 160/160 [00:50<00:00,  3.15it/s]\n"
     ]
    },
    {
     "name": "stdout",
     "output_type": "stream",
     "text": [
      "Epoch 385, Loss: 0.315666, Accuracy: 0.997595, learning rate: 0.0000050000\n"
     ]
    },
    {
     "name": "stderr",
     "output_type": "stream",
     "text": [
      "Validation: Epoch 385/10000: 100%|██████████| 520/520 [00:05<00:00, 91.62it/s]\n"
     ]
    },
    {
     "name": "stdout",
     "output_type": "stream",
     "text": [
      "Validation 385, Loss: 0.322882, Accuracy: 0.990385\n"
     ]
    },
    {
     "name": "stderr",
     "output_type": "stream",
     "text": [
      "Training: Epoch 386/10000: 100%|██████████| 160/160 [00:50<00:00,  3.14it/s]\n"
     ]
    },
    {
     "name": "stdout",
     "output_type": "stream",
     "text": [
      "Epoch 386, Loss: 0.315185, Accuracy: 0.998076, learning rate: 0.0000045225\n"
     ]
    },
    {
     "name": "stderr",
     "output_type": "stream",
     "text": [
      "Validation: Epoch 386/10000: 100%|██████████| 520/520 [00:05<00:00, 88.93it/s]\n"
     ]
    },
    {
     "name": "stdout",
     "output_type": "stream",
     "text": [
      "Validation 386, Loss: 0.322882, Accuracy: 0.990385\n"
     ]
    },
    {
     "name": "stderr",
     "output_type": "stream",
     "text": [
      "Training: Epoch 387/10000: 100%|██████████| 160/160 [00:51<00:00,  3.13it/s]\n"
     ]
    },
    {
     "name": "stdout",
     "output_type": "stream",
     "text": [
      "Epoch 387, Loss: 0.315185, Accuracy: 0.998076, learning rate: 0.0000032725\n"
     ]
    },
    {
     "name": "stderr",
     "output_type": "stream",
     "text": [
      "Validation: Epoch 387/10000: 100%|██████████| 520/520 [00:05<00:00, 90.02it/s]\n"
     ]
    },
    {
     "name": "stdout",
     "output_type": "stream",
     "text": [
      "Validation 387, Loss: 0.322882, Accuracy: 0.990385\n"
     ]
    },
    {
     "name": "stderr",
     "output_type": "stream",
     "text": [
      "Training: Epoch 388/10000: 100%|██████████| 160/160 [00:50<00:00,  3.15it/s]\n"
     ]
    },
    {
     "name": "stdout",
     "output_type": "stream",
     "text": [
      "Epoch 388, Loss: 0.315690, Accuracy: 0.997595, learning rate: 0.0000017275\n"
     ]
    },
    {
     "name": "stderr",
     "output_type": "stream",
     "text": [
      "Validation: Epoch 388/10000: 100%|██████████| 520/520 [00:06<00:00, 85.11it/s]\n"
     ]
    },
    {
     "name": "stdout",
     "output_type": "stream",
     "text": [
      "Validation 388, Loss: 0.321004, Accuracy: 0.992308\n"
     ]
    },
    {
     "name": "stderr",
     "output_type": "stream",
     "text": [
      "Training: Epoch 389/10000: 100%|██████████| 160/160 [00:50<00:00,  3.15it/s]\n"
     ]
    },
    {
     "name": "stdout",
     "output_type": "stream",
     "text": [
      "Epoch 389, Loss: 0.315190, Accuracy: 0.998076, learning rate: 0.0000004775\n"
     ]
    },
    {
     "name": "stderr",
     "output_type": "stream",
     "text": [
      "Validation: Epoch 389/10000: 100%|██████████| 520/520 [00:05<00:00, 89.86it/s]\n"
     ]
    },
    {
     "name": "stdout",
     "output_type": "stream",
     "text": [
      "Validation 389, Loss: 0.320970, Accuracy: 0.992308\n"
     ]
    },
    {
     "name": "stderr",
     "output_type": "stream",
     "text": [
      "Training: Epoch 390/10000: 100%|██████████| 160/160 [00:50<00:00,  3.14it/s]\n"
     ]
    },
    {
     "name": "stdout",
     "output_type": "stream",
     "text": [
      "Epoch 390, Loss: 0.315188, Accuracy: 0.998076, learning rate: 0.0000050000\n"
     ]
    },
    {
     "name": "stderr",
     "output_type": "stream",
     "text": [
      "Validation: Epoch 390/10000: 100%|██████████| 520/520 [00:06<00:00, 85.93it/s]\n"
     ]
    },
    {
     "name": "stdout",
     "output_type": "stream",
     "text": [
      "Validation 390, Loss: 0.320970, Accuracy: 0.992308\n"
     ]
    },
    {
     "name": "stderr",
     "output_type": "stream",
     "text": [
      "Training: Epoch 391/10000: 100%|██████████| 160/160 [00:50<00:00,  3.14it/s]\n"
     ]
    },
    {
     "name": "stdout",
     "output_type": "stream",
     "text": [
      "Epoch 391, Loss: 0.318710, Accuracy: 0.994228, learning rate: 0.0000045225\n"
     ]
    },
    {
     "name": "stderr",
     "output_type": "stream",
     "text": [
      "Validation: Epoch 391/10000: 100%|██████████| 520/520 [00:05<00:00, 92.47it/s]\n"
     ]
    },
    {
     "name": "stdout",
     "output_type": "stream",
     "text": [
      "Validation 391, Loss: 0.326723, Accuracy: 0.986538\n"
     ]
    },
    {
     "name": "stderr",
     "output_type": "stream",
     "text": [
      "Training: Epoch 392/10000: 100%|██████████| 160/160 [00:51<00:00,  3.13it/s]\n"
     ]
    },
    {
     "name": "stdout",
     "output_type": "stream",
     "text": [
      "Epoch 392, Loss: 0.317112, Accuracy: 0.996152, learning rate: 0.0000032725\n"
     ]
    },
    {
     "name": "stderr",
     "output_type": "stream",
     "text": [
      "Validation: Epoch 392/10000: 100%|██████████| 520/520 [00:05<00:00, 91.62it/s]\n"
     ]
    },
    {
     "name": "stdout",
     "output_type": "stream",
     "text": [
      "Validation 392, Loss: 0.326715, Accuracy: 0.986538\n"
     ]
    },
    {
     "name": "stderr",
     "output_type": "stream",
     "text": [
      "Training: Epoch 393/10000: 100%|██████████| 160/160 [00:51<00:00,  3.13it/s]\n"
     ]
    },
    {
     "name": "stdout",
     "output_type": "stream",
     "text": [
      "Epoch 393, Loss: 0.316873, Accuracy: 0.996633, learning rate: 0.0000017275\n"
     ]
    },
    {
     "name": "stderr",
     "output_type": "stream",
     "text": [
      "Validation: Epoch 393/10000: 100%|██████████| 520/520 [00:05<00:00, 89.63it/s]\n"
     ]
    },
    {
     "name": "stdout",
     "output_type": "stream",
     "text": [
      "Validation 393, Loss: 0.319031, Accuracy: 0.994231\n"
     ]
    },
    {
     "name": "stderr",
     "output_type": "stream",
     "text": [
      "Training: Epoch 394/10000: 100%|██████████| 160/160 [00:50<00:00,  3.15it/s]\n"
     ]
    },
    {
     "name": "stdout",
     "output_type": "stream",
     "text": [
      "Epoch 394, Loss: 0.315194, Accuracy: 0.998076, learning rate: 0.0000004775\n"
     ]
    },
    {
     "name": "stderr",
     "output_type": "stream",
     "text": [
      "Validation: Epoch 394/10000: 100%|██████████| 520/520 [00:05<00:00, 89.88it/s]\n"
     ]
    },
    {
     "name": "stdout",
     "output_type": "stream",
     "text": [
      "Validation 394, Loss: 0.319055, Accuracy: 0.994231\n"
     ]
    },
    {
     "name": "stderr",
     "output_type": "stream",
     "text": [
      "Training: Epoch 395/10000: 100%|██████████| 160/160 [00:50<00:00,  3.16it/s]\n"
     ]
    },
    {
     "name": "stdout",
     "output_type": "stream",
     "text": [
      "Epoch 395, Loss: 0.316146, Accuracy: 0.997114, learning rate: 0.0000050000\n"
     ]
    },
    {
     "name": "stderr",
     "output_type": "stream",
     "text": [
      "Validation: Epoch 395/10000: 100%|██████████| 520/520 [00:06<00:00, 85.86it/s]\n"
     ]
    },
    {
     "name": "stdout",
     "output_type": "stream",
     "text": [
      "Validation 395, Loss: 0.319053, Accuracy: 0.994231\n"
     ]
    },
    {
     "name": "stderr",
     "output_type": "stream",
     "text": [
      "Training: Epoch 396/10000: 100%|██████████| 160/160 [00:50<00:00,  3.14it/s]\n"
     ]
    },
    {
     "name": "stdout",
     "output_type": "stream",
     "text": [
      "Epoch 396, Loss: 0.315668, Accuracy: 0.997595, learning rate: 0.0000045225\n"
     ]
    },
    {
     "name": "stderr",
     "output_type": "stream",
     "text": [
      "Validation: Epoch 396/10000: 100%|██████████| 520/520 [00:05<00:00, 90.96it/s]\n"
     ]
    },
    {
     "name": "stdout",
     "output_type": "stream",
     "text": [
      "Validation 396, Loss: 0.319032, Accuracy: 0.994231\n"
     ]
    },
    {
     "name": "stderr",
     "output_type": "stream",
     "text": [
      "Training: Epoch 397/10000: 100%|██████████| 160/160 [00:51<00:00,  3.13it/s]\n"
     ]
    },
    {
     "name": "stdout",
     "output_type": "stream",
     "text": [
      "Epoch 397, Loss: 0.315663, Accuracy: 0.997595, learning rate: 0.0000032725\n"
     ]
    },
    {
     "name": "stderr",
     "output_type": "stream",
     "text": [
      "Validation: Epoch 397/10000: 100%|██████████| 520/520 [00:06<00:00, 85.08it/s]\n"
     ]
    },
    {
     "name": "stdout",
     "output_type": "stream",
     "text": [
      "Validation 397, Loss: 0.319031, Accuracy: 0.994231\n"
     ]
    },
    {
     "name": "stderr",
     "output_type": "stream",
     "text": [
      "Training: Epoch 398/10000: 100%|██████████| 160/160 [00:50<00:00,  3.16it/s]\n"
     ]
    },
    {
     "name": "stdout",
     "output_type": "stream",
     "text": [
      "Epoch 398, Loss: 0.315245, Accuracy: 0.998076, learning rate: 0.0000017275\n"
     ]
    },
    {
     "name": "stderr",
     "output_type": "stream",
     "text": [
      "Validation: Epoch 398/10000: 100%|██████████| 520/520 [00:05<00:00, 90.81it/s]\n"
     ]
    },
    {
     "name": "stdout",
     "output_type": "stream",
     "text": [
      "Validation 398, Loss: 0.320954, Accuracy: 0.992308\n"
     ]
    },
    {
     "name": "stderr",
     "output_type": "stream",
     "text": [
      "Training: Epoch 399/10000: 100%|██████████| 160/160 [00:50<00:00,  3.14it/s]\n"
     ]
    },
    {
     "name": "stdout",
     "output_type": "stream",
     "text": [
      "Epoch 399, Loss: 0.315449, Accuracy: 0.997595, learning rate: 0.0000004775\n"
     ]
    },
    {
     "name": "stderr",
     "output_type": "stream",
     "text": [
      "Validation: Epoch 399/10000: 100%|██████████| 520/520 [00:05<00:00, 89.50it/s]\n"
     ]
    },
    {
     "name": "stdout",
     "output_type": "stream",
     "text": [
      "Validation 399, Loss: 0.319032, Accuracy: 0.994231\n"
     ]
    },
    {
     "name": "stderr",
     "output_type": "stream",
     "text": [
      "Training: Epoch 400/10000: 100%|██████████| 160/160 [00:50<00:00,  3.15it/s]\n"
     ]
    },
    {
     "name": "stdout",
     "output_type": "stream",
     "text": [
      "Epoch 400, Loss: 0.315191, Accuracy: 0.998076, learning rate: 0.0000050000\n"
     ]
    },
    {
     "name": "stderr",
     "output_type": "stream",
     "text": [
      "Validation: Epoch 400/10000: 100%|██████████| 520/520 [00:05<00:00, 90.70it/s]\n"
     ]
    },
    {
     "name": "stdout",
     "output_type": "stream",
     "text": [
      "Validation 400, Loss: 0.319032, Accuracy: 0.994231\n"
     ]
    },
    {
     "name": "stderr",
     "output_type": "stream",
     "text": [
      "Training: Epoch 401/10000: 100%|██████████| 160/160 [00:50<00:00,  3.16it/s]\n"
     ]
    },
    {
     "name": "stdout",
     "output_type": "stream",
     "text": [
      "Epoch 401, Loss: 0.315185, Accuracy: 0.998076, learning rate: 0.0000045225\n"
     ]
    },
    {
     "name": "stderr",
     "output_type": "stream",
     "text": [
      "Validation: Epoch 401/10000: 100%|██████████| 520/520 [00:06<00:00, 85.96it/s]\n"
     ]
    },
    {
     "name": "stdout",
     "output_type": "stream",
     "text": [
      "Validation 401, Loss: 0.319032, Accuracy: 0.994231\n"
     ]
    },
    {
     "name": "stderr",
     "output_type": "stream",
     "text": [
      "Training: Epoch 402/10000: 100%|██████████| 160/160 [00:50<00:00,  3.16it/s]\n"
     ]
    },
    {
     "name": "stdout",
     "output_type": "stream",
     "text": [
      "Epoch 402, Loss: 0.315206, Accuracy: 0.998076, learning rate: 0.0000032725\n"
     ]
    },
    {
     "name": "stderr",
     "output_type": "stream",
     "text": [
      "Validation: Epoch 402/10000: 100%|██████████| 520/520 [00:05<00:00, 89.93it/s]\n"
     ]
    },
    {
     "name": "stdout",
     "output_type": "stream",
     "text": [
      "Validation 402, Loss: 0.319031, Accuracy: 0.994231\n"
     ]
    },
    {
     "name": "stderr",
     "output_type": "stream",
     "text": [
      "Training: Epoch 403/10000: 100%|██████████| 160/160 [00:50<00:00,  3.14it/s]\n"
     ]
    },
    {
     "name": "stdout",
     "output_type": "stream",
     "text": [
      "Epoch 403, Loss: 0.315185, Accuracy: 0.998076, learning rate: 0.0000017275\n"
     ]
    },
    {
     "name": "stderr",
     "output_type": "stream",
     "text": [
      "Validation: Epoch 403/10000: 100%|██████████| 520/520 [00:06<00:00, 86.31it/s]\n"
     ]
    },
    {
     "name": "stdout",
     "output_type": "stream",
     "text": [
      "Validation 403, Loss: 0.319031, Accuracy: 0.994231\n"
     ]
    },
    {
     "name": "stderr",
     "output_type": "stream",
     "text": [
      "Training: Epoch 404/10000: 100%|██████████| 160/160 [00:50<00:00,  3.15it/s]\n"
     ]
    },
    {
     "name": "stdout",
     "output_type": "stream",
     "text": [
      "Epoch 404, Loss: 0.315191, Accuracy: 0.998076, learning rate: 0.0000004775\n"
     ]
    },
    {
     "name": "stderr",
     "output_type": "stream",
     "text": [
      "Validation: Epoch 404/10000: 100%|██████████| 520/520 [00:05<00:00, 90.70it/s]\n"
     ]
    },
    {
     "name": "stdout",
     "output_type": "stream",
     "text": [
      "Validation 404, Loss: 0.319031, Accuracy: 0.994231\n"
     ]
    },
    {
     "name": "stderr",
     "output_type": "stream",
     "text": [
      "Training: Epoch 405/10000: 100%|██████████| 160/160 [00:50<00:00,  3.15it/s]\n"
     ]
    },
    {
     "name": "stdout",
     "output_type": "stream",
     "text": [
      "Epoch 405, Loss: 0.315185, Accuracy: 0.998076, learning rate: 0.0000050000\n"
     ]
    },
    {
     "name": "stderr",
     "output_type": "stream",
     "text": [
      "Validation: Epoch 405/10000: 100%|██████████| 520/520 [00:05<00:00, 91.38it/s]\n"
     ]
    },
    {
     "name": "stdout",
     "output_type": "stream",
     "text": [
      "Validation 405, Loss: 0.319031, Accuracy: 0.994231\n"
     ]
    },
    {
     "name": "stderr",
     "output_type": "stream",
     "text": [
      "Training: Epoch 406/10000: 100%|██████████| 160/160 [00:50<00:00,  3.15it/s]\n"
     ]
    },
    {
     "name": "stdout",
     "output_type": "stream",
     "text": [
      "Epoch 406, Loss: 0.315185, Accuracy: 0.998076, learning rate: 0.0000045225\n"
     ]
    },
    {
     "name": "stderr",
     "output_type": "stream",
     "text": [
      "Validation: Epoch 406/10000: 100%|██████████| 520/520 [00:05<00:00, 89.36it/s]\n"
     ]
    },
    {
     "name": "stdout",
     "output_type": "stream",
     "text": [
      "Validation 406, Loss: 0.319031, Accuracy: 0.994231\n"
     ]
    },
    {
     "name": "stderr",
     "output_type": "stream",
     "text": [
      "Training: Epoch 407/10000: 100%|██████████| 160/160 [00:50<00:00,  3.16it/s]\n"
     ]
    },
    {
     "name": "stdout",
     "output_type": "stream",
     "text": [
      "Epoch 407, Loss: 0.315185, Accuracy: 0.998076, learning rate: 0.0000032725\n"
     ]
    },
    {
     "name": "stderr",
     "output_type": "stream",
     "text": [
      "Validation: Epoch 407/10000: 100%|██████████| 520/520 [00:06<00:00, 85.50it/s]\n"
     ]
    },
    {
     "name": "stdout",
     "output_type": "stream",
     "text": [
      "Validation 407, Loss: 0.319031, Accuracy: 0.994231\n"
     ]
    },
    {
     "name": "stderr",
     "output_type": "stream",
     "text": [
      "Training: Epoch 408/10000: 100%|██████████| 160/160 [00:51<00:00,  3.14it/s]\n"
     ]
    },
    {
     "name": "stdout",
     "output_type": "stream",
     "text": [
      "Epoch 408, Loss: 0.315185, Accuracy: 0.998076, learning rate: 0.0000017275\n"
     ]
    },
    {
     "name": "stderr",
     "output_type": "stream",
     "text": [
      "Validation: Epoch 408/10000: 100%|██████████| 520/520 [00:05<00:00, 91.07it/s]\n"
     ]
    },
    {
     "name": "stdout",
     "output_type": "stream",
     "text": [
      "Validation 408, Loss: 0.319031, Accuracy: 0.994231\n"
     ]
    },
    {
     "name": "stderr",
     "output_type": "stream",
     "text": [
      "Training: Epoch 409/10000: 100%|██████████| 160/160 [00:50<00:00,  3.14it/s]\n"
     ]
    },
    {
     "name": "stdout",
     "output_type": "stream",
     "text": [
      "Epoch 409, Loss: 0.315185, Accuracy: 0.998076, learning rate: 0.0000004775\n"
     ]
    },
    {
     "name": "stderr",
     "output_type": "stream",
     "text": [
      "Validation: Epoch 409/10000: 100%|██████████| 520/520 [00:06<00:00, 85.70it/s]\n"
     ]
    },
    {
     "name": "stdout",
     "output_type": "stream",
     "text": [
      "Validation 409, Loss: 0.319031, Accuracy: 0.994231\n"
     ]
    },
    {
     "name": "stderr",
     "output_type": "stream",
     "text": [
      "Training: Epoch 410/10000: 100%|██████████| 160/160 [00:50<00:00,  3.15it/s]\n"
     ]
    },
    {
     "name": "stdout",
     "output_type": "stream",
     "text": [
      "Epoch 410, Loss: 0.315662, Accuracy: 0.997595, learning rate: 0.0000050000\n"
     ]
    },
    {
     "name": "stderr",
     "output_type": "stream",
     "text": [
      "Validation: Epoch 410/10000: 100%|██████████| 520/520 [00:05<00:00, 88.81it/s]\n"
     ]
    },
    {
     "name": "stdout",
     "output_type": "stream",
     "text": [
      "Validation 410, Loss: 0.319031, Accuracy: 0.994231\n"
     ]
    },
    {
     "name": "stderr",
     "output_type": "stream",
     "text": [
      "Training: Epoch 411/10000: 100%|██████████| 160/160 [00:50<00:00,  3.16it/s]\n"
     ]
    },
    {
     "name": "stdout",
     "output_type": "stream",
     "text": [
      "Epoch 411, Loss: 0.315185, Accuracy: 0.998076, learning rate: 0.0000045225\n"
     ]
    },
    {
     "name": "stderr",
     "output_type": "stream",
     "text": [
      "Validation: Epoch 411/10000: 100%|██████████| 520/520 [00:05<00:00, 90.64it/s]\n"
     ]
    },
    {
     "name": "stdout",
     "output_type": "stream",
     "text": [
      "Validation 411, Loss: 0.319031, Accuracy: 0.994231\n"
     ]
    },
    {
     "name": "stderr",
     "output_type": "stream",
     "text": [
      "Training: Epoch 412/10000: 100%|██████████| 160/160 [00:50<00:00,  3.14it/s]\n"
     ]
    },
    {
     "name": "stdout",
     "output_type": "stream",
     "text": [
      "Epoch 412, Loss: 0.315185, Accuracy: 0.998076, learning rate: 0.0000032725\n"
     ]
    },
    {
     "name": "stderr",
     "output_type": "stream",
     "text": [
      "Validation: Epoch 412/10000: 100%|██████████| 520/520 [00:05<00:00, 88.01it/s]\n"
     ]
    },
    {
     "name": "stdout",
     "output_type": "stream",
     "text": [
      "Validation 412, Loss: 0.319031, Accuracy: 0.994231\n"
     ]
    },
    {
     "name": "stderr",
     "output_type": "stream",
     "text": [
      "Training: Epoch 413/10000: 100%|██████████| 160/160 [00:51<00:00,  3.14it/s]\n"
     ]
    },
    {
     "name": "stdout",
     "output_type": "stream",
     "text": [
      "Epoch 413, Loss: 0.315185, Accuracy: 0.998076, learning rate: 0.0000017275\n"
     ]
    },
    {
     "name": "stderr",
     "output_type": "stream",
     "text": [
      "Validation: Epoch 413/10000: 100%|██████████| 520/520 [00:05<00:00, 91.58it/s]\n"
     ]
    },
    {
     "name": "stdout",
     "output_type": "stream",
     "text": [
      "Validation 413, Loss: 0.319031, Accuracy: 0.994231\n"
     ]
    },
    {
     "name": "stderr",
     "output_type": "stream",
     "text": [
      "Training: Epoch 414/10000: 100%|██████████| 160/160 [00:50<00:00,  3.15it/s]\n"
     ]
    },
    {
     "name": "stdout",
     "output_type": "stream",
     "text": [
      "Epoch 414, Loss: 0.315185, Accuracy: 0.998076, learning rate: 0.0000004775\n"
     ]
    },
    {
     "name": "stderr",
     "output_type": "stream",
     "text": [
      "Validation: Epoch 414/10000: 100%|██████████| 520/520 [00:06<00:00, 85.19it/s]\n"
     ]
    },
    {
     "name": "stdout",
     "output_type": "stream",
     "text": [
      "Validation 414, Loss: 0.319031, Accuracy: 0.994231\n"
     ]
    },
    {
     "name": "stderr",
     "output_type": "stream",
     "text": [
      "Training: Epoch 415/10000: 100%|██████████| 160/160 [00:50<00:00,  3.15it/s]\n"
     ]
    },
    {
     "name": "stdout",
     "output_type": "stream",
     "text": [
      "Epoch 415, Loss: 0.315185, Accuracy: 0.998076, learning rate: 0.0000050000\n"
     ]
    },
    {
     "name": "stderr",
     "output_type": "stream",
     "text": [
      "Validation: Epoch 415/10000: 100%|██████████| 520/520 [00:05<00:00, 90.81it/s]\n"
     ]
    },
    {
     "name": "stdout",
     "output_type": "stream",
     "text": [
      "Validation 415, Loss: 0.319031, Accuracy: 0.994231\n"
     ]
    },
    {
     "name": "stderr",
     "output_type": "stream",
     "text": [
      "Training: Epoch 416/10000: 100%|██████████| 160/160 [00:50<00:00,  3.15it/s]\n"
     ]
    },
    {
     "name": "stdout",
     "output_type": "stream",
     "text": [
      "Epoch 416, Loss: 0.315185, Accuracy: 0.998076, learning rate: 0.0000045225\n"
     ]
    },
    {
     "name": "stderr",
     "output_type": "stream",
     "text": [
      "Validation: Epoch 416/10000: 100%|██████████| 520/520 [00:06<00:00, 86.16it/s]\n"
     ]
    },
    {
     "name": "stdout",
     "output_type": "stream",
     "text": [
      "Validation 416, Loss: 0.319031, Accuracy: 0.994231\n"
     ]
    },
    {
     "name": "stderr",
     "output_type": "stream",
     "text": [
      "Training: Epoch 417/10000: 100%|██████████| 160/160 [00:50<00:00,  3.16it/s]\n"
     ]
    },
    {
     "name": "stdout",
     "output_type": "stream",
     "text": [
      "Epoch 417, Loss: 0.315231, Accuracy: 0.998076, learning rate: 0.0000032725\n"
     ]
    },
    {
     "name": "stderr",
     "output_type": "stream",
     "text": [
      "Validation: Epoch 417/10000: 100%|██████████| 520/520 [00:05<00:00, 90.20it/s]\n"
     ]
    },
    {
     "name": "stdout",
     "output_type": "stream",
     "text": [
      "Validation 417, Loss: 0.319039, Accuracy: 0.994231\n"
     ]
    },
    {
     "name": "stderr",
     "output_type": "stream",
     "text": [
      "Training: Epoch 418/10000: 100%|██████████| 160/160 [00:51<00:00,  3.14it/s]\n"
     ]
    },
    {
     "name": "stdout",
     "output_type": "stream",
     "text": [
      "Epoch 418, Loss: 0.329071, Accuracy: 0.984127, learning rate: 0.0000017275\n"
     ]
    },
    {
     "name": "stderr",
     "output_type": "stream",
     "text": [
      "Validation: Epoch 418/10000: 100%|██████████| 520/520 [00:05<00:00, 89.85it/s]\n"
     ]
    },
    {
     "name": "stdout",
     "output_type": "stream",
     "text": [
      "Validation 418, Loss: 0.322877, Accuracy: 0.990385\n"
     ]
    },
    {
     "name": "stderr",
     "output_type": "stream",
     "text": [
      "Training: Epoch 419/10000: 100%|██████████| 160/160 [00:50<00:00,  3.15it/s]\n"
     ]
    },
    {
     "name": "stdout",
     "output_type": "stream",
     "text": [
      "Epoch 419, Loss: 0.315672, Accuracy: 0.997595, learning rate: 0.0000004775\n"
     ]
    },
    {
     "name": "stderr",
     "output_type": "stream",
     "text": [
      "Validation: Epoch 419/10000: 100%|██████████| 520/520 [00:05<00:00, 89.37it/s]\n"
     ]
    },
    {
     "name": "stdout",
     "output_type": "stream",
     "text": [
      "Validation 419, Loss: 0.322877, Accuracy: 0.990385\n"
     ]
    },
    {
     "name": "stderr",
     "output_type": "stream",
     "text": [
      "Training: Epoch 420/10000: 100%|██████████| 160/160 [00:50<00:00,  3.15it/s]\n"
     ]
    },
    {
     "name": "stdout",
     "output_type": "stream",
     "text": [
      "Epoch 420, Loss: 0.315185, Accuracy: 0.998076, learning rate: 0.0000050000\n"
     ]
    },
    {
     "name": "stderr",
     "output_type": "stream",
     "text": [
      "Validation: Epoch 420/10000: 100%|██████████| 520/520 [00:06<00:00, 85.08it/s]\n"
     ]
    },
    {
     "name": "stdout",
     "output_type": "stream",
     "text": [
      "Validation 420, Loss: 0.322877, Accuracy: 0.990385\n"
     ]
    },
    {
     "name": "stderr",
     "output_type": "stream",
     "text": [
      "Training: Epoch 421/10000: 100%|██████████| 160/160 [00:50<00:00,  3.15it/s]\n"
     ]
    },
    {
     "name": "stdout",
     "output_type": "stream",
     "text": [
      "Epoch 421, Loss: 0.316975, Accuracy: 0.996152, learning rate: 0.0000045225\n"
     ]
    },
    {
     "name": "stderr",
     "output_type": "stream",
     "text": [
      "Validation: Epoch 421/10000: 100%|██████████| 520/520 [00:05<00:00, 91.47it/s]\n"
     ]
    },
    {
     "name": "stdout",
     "output_type": "stream",
     "text": [
      "Validation 421, Loss: 0.319032, Accuracy: 0.994231\n"
     ]
    },
    {
     "name": "stderr",
     "output_type": "stream",
     "text": [
      "Training: Epoch 422/10000: 100%|██████████| 160/160 [00:50<00:00,  3.14it/s]\n"
     ]
    },
    {
     "name": "stdout",
     "output_type": "stream",
     "text": [
      "Epoch 422, Loss: 0.315195, Accuracy: 0.998076, learning rate: 0.0000032725\n"
     ]
    },
    {
     "name": "stderr",
     "output_type": "stream",
     "text": [
      "Validation: Epoch 422/10000: 100%|██████████| 520/520 [00:06<00:00, 84.21it/s]\n"
     ]
    },
    {
     "name": "stdout",
     "output_type": "stream",
     "text": [
      "Validation 422, Loss: 0.319031, Accuracy: 0.994231\n"
     ]
    },
    {
     "name": "stderr",
     "output_type": "stream",
     "text": [
      "Training: Epoch 423/10000: 100%|██████████| 160/160 [00:50<00:00,  3.15it/s]\n"
     ]
    },
    {
     "name": "stdout",
     "output_type": "stream",
     "text": [
      "Epoch 423, Loss: 0.315185, Accuracy: 0.998076, learning rate: 0.0000017275\n"
     ]
    },
    {
     "name": "stderr",
     "output_type": "stream",
     "text": [
      "Validation: Epoch 423/10000: 100%|██████████| 520/520 [00:05<00:00, 91.29it/s]\n"
     ]
    },
    {
     "name": "stdout",
     "output_type": "stream",
     "text": [
      "Validation 423, Loss: 0.319031, Accuracy: 0.994231\n"
     ]
    },
    {
     "name": "stderr",
     "output_type": "stream",
     "text": [
      "Training: Epoch 424/10000: 100%|██████████| 160/160 [00:50<00:00,  3.15it/s]\n"
     ]
    },
    {
     "name": "stdout",
     "output_type": "stream",
     "text": [
      "Epoch 424, Loss: 0.315185, Accuracy: 0.998076, learning rate: 0.0000004775\n"
     ]
    },
    {
     "name": "stderr",
     "output_type": "stream",
     "text": [
      "Validation: Epoch 424/10000: 100%|██████████| 520/520 [00:05<00:00, 89.70it/s]\n"
     ]
    },
    {
     "name": "stdout",
     "output_type": "stream",
     "text": [
      "Validation 424, Loss: 0.319031, Accuracy: 0.994231\n"
     ]
    },
    {
     "name": "stderr",
     "output_type": "stream",
     "text": [
      "Training: Epoch 425/10000: 100%|██████████| 160/160 [00:50<00:00,  3.15it/s]\n"
     ]
    },
    {
     "name": "stdout",
     "output_type": "stream",
     "text": [
      "Epoch 425, Loss: 0.315186, Accuracy: 0.998076, learning rate: 0.0000050000\n"
     ]
    },
    {
     "name": "stderr",
     "output_type": "stream",
     "text": [
      "Validation: Epoch 425/10000: 100%|██████████| 520/520 [00:05<00:00, 88.36it/s]\n"
     ]
    },
    {
     "name": "stdout",
     "output_type": "stream",
     "text": [
      "Validation 425, Loss: 0.319031, Accuracy: 0.994231\n"
     ]
    },
    {
     "name": "stderr",
     "output_type": "stream",
     "text": [
      "Training: Epoch 426/10000: 100%|██████████| 160/160 [00:50<00:00,  3.15it/s]\n"
     ]
    },
    {
     "name": "stdout",
     "output_type": "stream",
     "text": [
      "Epoch 426, Loss: 0.315185, Accuracy: 0.998076, learning rate: 0.0000045225\n"
     ]
    },
    {
     "name": "stderr",
     "output_type": "stream",
     "text": [
      "Validation: Epoch 426/10000: 100%|██████████| 520/520 [00:06<00:00, 84.98it/s]\n"
     ]
    },
    {
     "name": "stdout",
     "output_type": "stream",
     "text": [
      "Validation 426, Loss: 0.319031, Accuracy: 0.994231\n"
     ]
    },
    {
     "name": "stderr",
     "output_type": "stream",
     "text": [
      "Training: Epoch 427/10000: 100%|██████████| 160/160 [00:51<00:00,  3.14it/s]\n"
     ]
    },
    {
     "name": "stdout",
     "output_type": "stream",
     "text": [
      "Epoch 427, Loss: 0.315666, Accuracy: 0.997595, learning rate: 0.0000032725\n"
     ]
    },
    {
     "name": "stderr",
     "output_type": "stream",
     "text": [
      "Validation: Epoch 427/10000: 100%|██████████| 520/520 [00:05<00:00, 91.96it/s]\n"
     ]
    },
    {
     "name": "stdout",
     "output_type": "stream",
     "text": [
      "Validation 427, Loss: 0.319031, Accuracy: 0.994231\n"
     ]
    },
    {
     "name": "stderr",
     "output_type": "stream",
     "text": [
      "Training: Epoch 428/10000: 100%|██████████| 160/160 [00:50<00:00,  3.15it/s]\n"
     ]
    },
    {
     "name": "stdout",
     "output_type": "stream",
     "text": [
      "Epoch 428, Loss: 0.315638, Accuracy: 0.997595, learning rate: 0.0000017275\n"
     ]
    },
    {
     "name": "stderr",
     "output_type": "stream",
     "text": [
      "Validation: Epoch 428/10000: 100%|██████████| 520/520 [00:05<00:00, 88.51it/s]\n"
     ]
    },
    {
     "name": "stdout",
     "output_type": "stream",
     "text": [
      "Validation 428, Loss: 0.319031, Accuracy: 0.994231\n"
     ]
    },
    {
     "name": "stderr",
     "output_type": "stream",
     "text": [
      "Training: Epoch 429/10000: 100%|██████████| 160/160 [00:50<00:00,  3.14it/s]\n"
     ]
    },
    {
     "name": "stdout",
     "output_type": "stream",
     "text": [
      "Epoch 429, Loss: 0.315665, Accuracy: 0.997595, learning rate: 0.0000004775\n"
     ]
    },
    {
     "name": "stderr",
     "output_type": "stream",
     "text": [
      "Validation: Epoch 429/10000: 100%|██████████| 520/520 [00:05<00:00, 87.56it/s]\n"
     ]
    },
    {
     "name": "stdout",
     "output_type": "stream",
     "text": [
      "Validation 429, Loss: 0.319031, Accuracy: 0.994231\n"
     ]
    },
    {
     "name": "stderr",
     "output_type": "stream",
     "text": [
      "Training: Epoch 430/10000: 100%|██████████| 160/160 [00:50<00:00,  3.15it/s]\n"
     ]
    },
    {
     "name": "stdout",
     "output_type": "stream",
     "text": [
      "Epoch 430, Loss: 0.315226, Accuracy: 0.998076, learning rate: 0.0000050000\n"
     ]
    },
    {
     "name": "stderr",
     "output_type": "stream",
     "text": [
      "Validation: Epoch 430/10000: 100%|██████████| 520/520 [00:05<00:00, 89.87it/s]\n"
     ]
    },
    {
     "name": "stdout",
     "output_type": "stream",
     "text": [
      "Validation 430, Loss: 0.319031, Accuracy: 0.994231\n"
     ]
    },
    {
     "name": "stderr",
     "output_type": "stream",
     "text": [
      "Training: Epoch 431/10000: 100%|██████████| 160/160 [00:50<00:00,  3.14it/s]\n"
     ]
    },
    {
     "name": "stdout",
     "output_type": "stream",
     "text": [
      "Epoch 431, Loss: 0.315185, Accuracy: 0.998076, learning rate: 0.0000045225\n"
     ]
    },
    {
     "name": "stderr",
     "output_type": "stream",
     "text": [
      "Validation: Epoch 431/10000: 100%|██████████| 520/520 [00:05<00:00, 90.10it/s]\n"
     ]
    },
    {
     "name": "stdout",
     "output_type": "stream",
     "text": [
      "Validation 431, Loss: 0.319031, Accuracy: 0.994231\n"
     ]
    },
    {
     "name": "stderr",
     "output_type": "stream",
     "text": [
      "Training: Epoch 432/10000: 100%|██████████| 160/160 [00:50<00:00,  3.14it/s]\n"
     ]
    },
    {
     "name": "stdout",
     "output_type": "stream",
     "text": [
      "Epoch 432, Loss: 0.320660, Accuracy: 0.992785, learning rate: 0.0000032725\n"
     ]
    },
    {
     "name": "stderr",
     "output_type": "stream",
     "text": [
      "Validation: Epoch 432/10000: 100%|██████████| 520/520 [00:05<00:00, 91.53it/s]\n"
     ]
    },
    {
     "name": "stdout",
     "output_type": "stream",
     "text": [
      "Validation 432, Loss: 0.322877, Accuracy: 0.990385\n"
     ]
    },
    {
     "name": "stderr",
     "output_type": "stream",
     "text": [
      "Training: Epoch 433/10000: 100%|██████████| 160/160 [00:50<00:00,  3.15it/s]\n"
     ]
    },
    {
     "name": "stdout",
     "output_type": "stream",
     "text": [
      "Epoch 433, Loss: 0.316463, Accuracy: 0.996633, learning rate: 0.0000017275\n"
     ]
    },
    {
     "name": "stderr",
     "output_type": "stream",
     "text": [
      "Validation: Epoch 433/10000: 100%|██████████| 520/520 [00:06<00:00, 86.35it/s]\n"
     ]
    },
    {
     "name": "stdout",
     "output_type": "stream",
     "text": [
      "Validation 433, Loss: 0.319830, Accuracy: 0.992308\n"
     ]
    },
    {
     "name": "stderr",
     "output_type": "stream",
     "text": [
      "Training: Epoch 434/10000: 100%|██████████| 160/160 [00:50<00:00,  3.15it/s]\n"
     ]
    },
    {
     "name": "stdout",
     "output_type": "stream",
     "text": [
      "Epoch 434, Loss: 0.316140, Accuracy: 0.997114, learning rate: 0.0000004775\n"
     ]
    },
    {
     "name": "stderr",
     "output_type": "stream",
     "text": [
      "Validation: Epoch 434/10000: 100%|██████████| 520/520 [00:05<00:00, 92.34it/s]\n"
     ]
    },
    {
     "name": "stdout",
     "output_type": "stream",
     "text": [
      "Validation 434, Loss: 0.319031, Accuracy: 0.994231\n"
     ]
    },
    {
     "name": "stderr",
     "output_type": "stream",
     "text": [
      "Training: Epoch 435/10000: 100%|██████████| 160/160 [00:50<00:00,  3.15it/s]\n"
     ]
    },
    {
     "name": "stdout",
     "output_type": "stream",
     "text": [
      "Epoch 435, Loss: 0.315225, Accuracy: 0.998076, learning rate: 0.0000050000\n"
     ]
    },
    {
     "name": "stderr",
     "output_type": "stream",
     "text": [
      "Validation: Epoch 435/10000: 100%|██████████| 520/520 [00:06<00:00, 85.85it/s]\n"
     ]
    },
    {
     "name": "stdout",
     "output_type": "stream",
     "text": [
      "Validation 435, Loss: 0.319031, Accuracy: 0.994231\n"
     ]
    },
    {
     "name": "stderr",
     "output_type": "stream",
     "text": [
      "Training: Epoch 436/10000: 100%|██████████| 160/160 [00:50<00:00,  3.14it/s]\n"
     ]
    },
    {
     "name": "stdout",
     "output_type": "stream",
     "text": [
      "Epoch 436, Loss: 0.315666, Accuracy: 0.997595, learning rate: 0.0000045225\n"
     ]
    },
    {
     "name": "stderr",
     "output_type": "stream",
     "text": [
      "Validation: Epoch 436/10000: 100%|██████████| 520/520 [00:05<00:00, 88.81it/s]\n"
     ]
    },
    {
     "name": "stdout",
     "output_type": "stream",
     "text": [
      "Validation 436, Loss: 0.319031, Accuracy: 0.994231\n"
     ]
    },
    {
     "name": "stderr",
     "output_type": "stream",
     "text": [
      "Training: Epoch 437/10000: 100%|██████████| 160/160 [00:50<00:00,  3.14it/s]\n"
     ]
    },
    {
     "name": "stdout",
     "output_type": "stream",
     "text": [
      "Epoch 437, Loss: 0.315666, Accuracy: 0.997595, learning rate: 0.0000032725\n"
     ]
    },
    {
     "name": "stderr",
     "output_type": "stream",
     "text": [
      "Validation: Epoch 437/10000: 100%|██████████| 520/520 [00:05<00:00, 89.66it/s]\n"
     ]
    },
    {
     "name": "stdout",
     "output_type": "stream",
     "text": [
      "Validation 437, Loss: 0.319031, Accuracy: 0.994231\n"
     ]
    },
    {
     "name": "stderr",
     "output_type": "stream",
     "text": [
      "Training: Epoch 438/10000: 100%|██████████| 160/160 [00:50<00:00,  3.15it/s]\n"
     ]
    },
    {
     "name": "stdout",
     "output_type": "stream",
     "text": [
      "Epoch 438, Loss: 0.315185, Accuracy: 0.998076, learning rate: 0.0000017275\n"
     ]
    },
    {
     "name": "stderr",
     "output_type": "stream",
     "text": [
      "Validation: Epoch 438/10000: 100%|██████████| 520/520 [00:05<00:00, 88.71it/s]\n"
     ]
    },
    {
     "name": "stdout",
     "output_type": "stream",
     "text": [
      "Validation 438, Loss: 0.319031, Accuracy: 0.994231\n"
     ]
    },
    {
     "name": "stderr",
     "output_type": "stream",
     "text": [
      "Training: Epoch 439/10000: 100%|██████████| 160/160 [00:50<00:00,  3.17it/s]\n"
     ]
    },
    {
     "name": "stdout",
     "output_type": "stream",
     "text": [
      "Epoch 439, Loss: 0.315185, Accuracy: 0.998076, learning rate: 0.0000004775\n"
     ]
    },
    {
     "name": "stderr",
     "output_type": "stream",
     "text": [
      "Validation: Epoch 439/10000: 100%|██████████| 520/520 [00:06<00:00, 84.79it/s]\n"
     ]
    },
    {
     "name": "stdout",
     "output_type": "stream",
     "text": [
      "Validation 439, Loss: 0.319031, Accuracy: 0.994231\n"
     ]
    },
    {
     "name": "stderr",
     "output_type": "stream",
     "text": [
      "Training: Epoch 440/10000: 100%|██████████| 160/160 [00:50<00:00,  3.15it/s]\n"
     ]
    },
    {
     "name": "stdout",
     "output_type": "stream",
     "text": [
      "Epoch 440, Loss: 0.315185, Accuracy: 0.998076, learning rate: 0.0000050000\n"
     ]
    },
    {
     "name": "stderr",
     "output_type": "stream",
     "text": [
      "Validation: Epoch 440/10000: 100%|██████████| 520/520 [00:05<00:00, 90.49it/s]\n"
     ]
    },
    {
     "name": "stdout",
     "output_type": "stream",
     "text": [
      "Validation 440, Loss: 0.319031, Accuracy: 0.994231\n"
     ]
    },
    {
     "name": "stderr",
     "output_type": "stream",
     "text": [
      "Training: Epoch 441/10000: 100%|██████████| 160/160 [00:50<00:00,  3.16it/s]\n"
     ]
    },
    {
     "name": "stdout",
     "output_type": "stream",
     "text": [
      "Epoch 441, Loss: 0.315666, Accuracy: 0.997595, learning rate: 0.0000045225\n"
     ]
    },
    {
     "name": "stderr",
     "output_type": "stream",
     "text": [
      "Validation: Epoch 441/10000: 100%|██████████| 520/520 [00:06<00:00, 84.39it/s]\n"
     ]
    },
    {
     "name": "stdout",
     "output_type": "stream",
     "text": [
      "Validation 441, Loss: 0.319031, Accuracy: 0.994231\n"
     ]
    },
    {
     "name": "stderr",
     "output_type": "stream",
     "text": [
      "Training: Epoch 442/10000: 100%|██████████| 160/160 [00:50<00:00,  3.15it/s]\n"
     ]
    },
    {
     "name": "stdout",
     "output_type": "stream",
     "text": [
      "Epoch 442, Loss: 0.315185, Accuracy: 0.998076, learning rate: 0.0000032725\n"
     ]
    },
    {
     "name": "stderr",
     "output_type": "stream",
     "text": [
      "Validation: Epoch 442/10000: 100%|██████████| 520/520 [00:05<00:00, 91.95it/s]\n"
     ]
    },
    {
     "name": "stdout",
     "output_type": "stream",
     "text": [
      "Validation 442, Loss: 0.319031, Accuracy: 0.994231\n"
     ]
    },
    {
     "name": "stderr",
     "output_type": "stream",
     "text": [
      "Training: Epoch 443/10000: 100%|██████████| 160/160 [00:50<00:00,  3.15it/s]\n"
     ]
    },
    {
     "name": "stdout",
     "output_type": "stream",
     "text": [
      "Epoch 443, Loss: 0.315185, Accuracy: 0.998076, learning rate: 0.0000017275\n"
     ]
    },
    {
     "name": "stderr",
     "output_type": "stream",
     "text": [
      "Validation: Epoch 443/10000: 100%|██████████| 520/520 [00:05<00:00, 89.92it/s]\n"
     ]
    },
    {
     "name": "stdout",
     "output_type": "stream",
     "text": [
      "Validation 443, Loss: 0.319031, Accuracy: 0.994231\n"
     ]
    },
    {
     "name": "stderr",
     "output_type": "stream",
     "text": [
      "Training: Epoch 444/10000: 100%|██████████| 160/160 [00:50<00:00,  3.15it/s]\n"
     ]
    },
    {
     "name": "stdout",
     "output_type": "stream",
     "text": [
      "Epoch 444, Loss: 0.315185, Accuracy: 0.998076, learning rate: 0.0000004775\n"
     ]
    },
    {
     "name": "stderr",
     "output_type": "stream",
     "text": [
      "Validation: Epoch 444/10000: 100%|██████████| 520/520 [00:05<00:00, 89.87it/s]\n"
     ]
    },
    {
     "name": "stdout",
     "output_type": "stream",
     "text": [
      "Validation 444, Loss: 0.319031, Accuracy: 0.994231\n"
     ]
    },
    {
     "name": "stderr",
     "output_type": "stream",
     "text": [
      "Training: Epoch 445/10000: 100%|██████████| 160/160 [00:51<00:00,  3.14it/s]\n"
     ]
    },
    {
     "name": "stdout",
     "output_type": "stream",
     "text": [
      "Epoch 445, Loss: 0.315186, Accuracy: 0.998076, learning rate: 0.0000050000\n"
     ]
    },
    {
     "name": "stderr",
     "output_type": "stream",
     "text": [
      "Validation: Epoch 445/10000: 100%|██████████| 520/520 [00:06<00:00, 85.59it/s]\n"
     ]
    },
    {
     "name": "stdout",
     "output_type": "stream",
     "text": [
      "Validation 445, Loss: 0.319031, Accuracy: 0.994231\n"
     ]
    },
    {
     "name": "stderr",
     "output_type": "stream",
     "text": [
      "Training: Epoch 446/10000: 100%|██████████| 160/160 [00:50<00:00,  3.16it/s]\n"
     ]
    },
    {
     "name": "stdout",
     "output_type": "stream",
     "text": [
      "Epoch 446, Loss: 0.317071, Accuracy: 0.996152, learning rate: 0.0000045225\n"
     ]
    },
    {
     "name": "stderr",
     "output_type": "stream",
     "text": [
      "Validation: Epoch 446/10000: 100%|██████████| 520/520 [00:05<00:00, 88.61it/s]\n"
     ]
    },
    {
     "name": "stdout",
     "output_type": "stream",
     "text": [
      "Validation 446, Loss: 0.320970, Accuracy: 0.992308\n"
     ]
    },
    {
     "name": "stderr",
     "output_type": "stream",
     "text": [
      "Training: Epoch 447/10000: 100%|██████████| 160/160 [00:50<00:00,  3.15it/s]\n"
     ]
    },
    {
     "name": "stdout",
     "output_type": "stream",
     "text": [
      "Epoch 447, Loss: 0.319313, Accuracy: 0.993747, learning rate: 0.0000032725\n"
     ]
    },
    {
     "name": "stderr",
     "output_type": "stream",
     "text": [
      "Validation: Epoch 447/10000: 100%|██████████| 520/520 [00:05<00:00, 88.90it/s]\n"
     ]
    },
    {
     "name": "stdout",
     "output_type": "stream",
     "text": [
      "Validation 447, Loss: 0.322877, Accuracy: 0.990385\n"
     ]
    },
    {
     "name": "stderr",
     "output_type": "stream",
     "text": [
      "Training: Epoch 448/10000: 100%|██████████| 160/160 [00:51<00:00,  3.13it/s]\n"
     ]
    },
    {
     "name": "stdout",
     "output_type": "stream",
     "text": [
      "Epoch 448, Loss: 0.317665, Accuracy: 0.995671, learning rate: 0.0000017275\n"
     ]
    },
    {
     "name": "stderr",
     "output_type": "stream",
     "text": [
      "Validation: Epoch 448/10000: 100%|██████████| 520/520 [00:06<00:00, 86.47it/s]\n"
     ]
    },
    {
     "name": "stdout",
     "output_type": "stream",
     "text": [
      "Validation 448, Loss: 0.322877, Accuracy: 0.990385\n"
     ]
    },
    {
     "name": "stderr",
     "output_type": "stream",
     "text": [
      "Training: Epoch 449/10000: 100%|██████████| 160/160 [00:50<00:00,  3.15it/s]\n"
     ]
    },
    {
     "name": "stdout",
     "output_type": "stream",
     "text": [
      "Epoch 449, Loss: 0.315185, Accuracy: 0.998076, learning rate: 0.0000004775\n"
     ]
    },
    {
     "name": "stderr",
     "output_type": "stream",
     "text": [
      "Validation: Epoch 449/10000: 100%|██████████| 520/520 [00:05<00:00, 89.76it/s]\n"
     ]
    },
    {
     "name": "stdout",
     "output_type": "stream",
     "text": [
      "Validation 449, Loss: 0.322877, Accuracy: 0.990385\n"
     ]
    },
    {
     "name": "stderr",
     "output_type": "stream",
     "text": [
      "Training: Epoch 450/10000: 100%|██████████| 160/160 [00:50<00:00,  3.15it/s]\n"
     ]
    },
    {
     "name": "stdout",
     "output_type": "stream",
     "text": [
      "Epoch 450, Loss: 0.315185, Accuracy: 0.998076, learning rate: 0.0000050000\n"
     ]
    },
    {
     "name": "stderr",
     "output_type": "stream",
     "text": [
      "Validation: Epoch 450/10000: 100%|██████████| 520/520 [00:05<00:00, 89.79it/s]\n"
     ]
    },
    {
     "name": "stdout",
     "output_type": "stream",
     "text": [
      "Validation 450, Loss: 0.322877, Accuracy: 0.990385\n"
     ]
    },
    {
     "name": "stderr",
     "output_type": "stream",
     "text": [
      "Training: Epoch 451/10000: 100%|██████████| 160/160 [00:50<00:00,  3.16it/s]\n"
     ]
    },
    {
     "name": "stdout",
     "output_type": "stream",
     "text": [
      "Epoch 451, Loss: 0.315185, Accuracy: 0.998076, learning rate: 0.0000045225\n"
     ]
    },
    {
     "name": "stderr",
     "output_type": "stream",
     "text": [
      "Validation: Epoch 451/10000: 100%|██████████| 520/520 [00:05<00:00, 89.80it/s]\n"
     ]
    },
    {
     "name": "stdout",
     "output_type": "stream",
     "text": [
      "Validation 451, Loss: 0.322877, Accuracy: 0.990385\n"
     ]
    },
    {
     "name": "stderr",
     "output_type": "stream",
     "text": [
      "Training: Epoch 452/10000: 100%|██████████| 160/160 [00:50<00:00,  3.14it/s]\n"
     ]
    },
    {
     "name": "stdout",
     "output_type": "stream",
     "text": [
      "Epoch 452, Loss: 0.315185, Accuracy: 0.998076, learning rate: 0.0000032725\n"
     ]
    },
    {
     "name": "stderr",
     "output_type": "stream",
     "text": [
      "Validation: Epoch 452/10000: 100%|██████████| 520/520 [00:05<00:00, 86.78it/s]\n"
     ]
    },
    {
     "name": "stdout",
     "output_type": "stream",
     "text": [
      "Validation 452, Loss: 0.322877, Accuracy: 0.990385\n"
     ]
    },
    {
     "name": "stderr",
     "output_type": "stream",
     "text": [
      "Training: Epoch 453/10000: 100%|██████████| 160/160 [00:50<00:00,  3.16it/s]\n"
     ]
    },
    {
     "name": "stdout",
     "output_type": "stream",
     "text": [
      "Epoch 453, Loss: 0.316182, Accuracy: 0.997595, learning rate: 0.0000017275\n"
     ]
    },
    {
     "name": "stderr",
     "output_type": "stream",
     "text": [
      "Validation: Epoch 453/10000: 100%|██████████| 520/520 [00:05<00:00, 93.48it/s]\n"
     ]
    },
    {
     "name": "stdout",
     "output_type": "stream",
     "text": [
      "Validation 453, Loss: 0.322884, Accuracy: 0.990385\n"
     ]
    },
    {
     "name": "stderr",
     "output_type": "stream",
     "text": [
      "Training: Epoch 454/10000: 100%|██████████| 160/160 [00:51<00:00,  3.13it/s]\n"
     ]
    },
    {
     "name": "stdout",
     "output_type": "stream",
     "text": [
      "Epoch 454, Loss: 0.315665, Accuracy: 0.997595, learning rate: 0.0000004775\n"
     ]
    },
    {
     "name": "stderr",
     "output_type": "stream",
     "text": [
      "Validation: Epoch 454/10000: 100%|██████████| 520/520 [00:05<00:00, 87.50it/s]\n"
     ]
    },
    {
     "name": "stdout",
     "output_type": "stream",
     "text": [
      "Validation 454, Loss: 0.322884, Accuracy: 0.990385\n"
     ]
    },
    {
     "name": "stderr",
     "output_type": "stream",
     "text": [
      "Training: Epoch 455/10000: 100%|██████████| 160/160 [00:50<00:00,  3.14it/s]\n"
     ]
    },
    {
     "name": "stdout",
     "output_type": "stream",
     "text": [
      "Epoch 455, Loss: 0.315199, Accuracy: 0.998076, learning rate: 0.0000050000\n"
     ]
    },
    {
     "name": "stderr",
     "output_type": "stream",
     "text": [
      "Validation: Epoch 455/10000: 100%|██████████| 520/520 [00:05<00:00, 90.64it/s]\n"
     ]
    },
    {
     "name": "stdout",
     "output_type": "stream",
     "text": [
      "Validation 455, Loss: 0.322879, Accuracy: 0.990385\n"
     ]
    },
    {
     "name": "stderr",
     "output_type": "stream",
     "text": [
      "Training: Epoch 456/10000: 100%|██████████| 160/160 [00:50<00:00,  3.14it/s]\n"
     ]
    },
    {
     "name": "stdout",
     "output_type": "stream",
     "text": [
      "Epoch 456, Loss: 0.317315, Accuracy: 0.995671, learning rate: 0.0000045225\n"
     ]
    },
    {
     "name": "stderr",
     "output_type": "stream",
     "text": [
      "Validation: Epoch 456/10000: 100%|██████████| 520/520 [00:05<00:00, 87.13it/s]\n"
     ]
    },
    {
     "name": "stdout",
     "output_type": "stream",
     "text": [
      "Validation 456, Loss: 0.331692, Accuracy: 0.980769\n"
     ]
    },
    {
     "name": "stderr",
     "output_type": "stream",
     "text": [
      "Training: Epoch 457/10000:  36%|███▋      | 58/160 [00:19<00:33,  3.04it/s]\n"
     ]
    },
    {
     "ename": "KeyboardInterrupt",
     "evalue": "",
     "output_type": "error",
     "traceback": [
      "\u001b[0;31m---------------------------------------------------------------------------\u001b[0m",
      "\u001b[0;31mKeyboardInterrupt\u001b[0m                         Traceback (most recent call last)",
      "Cell \u001b[0;32mIn[11], line 24\u001b[0m\n\u001b[1;32m     21\u001b[0m loss\u001b[38;5;241m.\u001b[39mbackward()\n\u001b[1;32m     22\u001b[0m optimizer\u001b[38;5;241m.\u001b[39mstep()\n\u001b[0;32m---> 24\u001b[0m total_loss \u001b[38;5;241m+\u001b[39m\u001b[38;5;241m=\u001b[39m \u001b[43mloss\u001b[49m\u001b[38;5;241;43m.\u001b[39;49m\u001b[43mitem\u001b[49m\u001b[43m(\u001b[49m\u001b[43m)\u001b[49m\n\u001b[1;32m     25\u001b[0m correct_predictions \u001b[38;5;241m+\u001b[39m\u001b[38;5;241m=\u001b[39m (prediction \u001b[38;5;241m==\u001b[39m targets)\u001b[38;5;241m.\u001b[39msum()\u001b[38;5;241m.\u001b[39mitem()\n\u001b[1;32m     26\u001b[0m scheduler\u001b[38;5;241m.\u001b[39mstep()\n",
      "\u001b[0;31mKeyboardInterrupt\u001b[0m: "
     ]
    }
   ],
   "source": [
    "# Training loop\n",
    "\n",
    "for epoch in range(epochs):\n",
    "    model.train()\n",
    "    total_loss = 0\n",
    "    correct_predictions = 0\n",
    "    total_val_loss = 0\n",
    "    correct_val_predictions = 0\n",
    "\n",
    "    for batch in tqdm(train_loader, desc=f\"Training: Epoch {epoch + 1}/{epochs}\"):\n",
    "        input_ids = batch['input_ids'].to(device)\n",
    "        attention_mask = batch['attention_mask'].to(device)\n",
    "        token_type_ids = batch['token_type_ids'].to(device)\n",
    "        targets = batch['targets'].to(device)\n",
    "\n",
    "        optimizer.zero_grad()\n",
    "        outputs = model(input_ids, attention_mask, token_type_ids)\n",
    "        loss = criterion(outputs, targets)\n",
    "        prediction = torch.argmax(outputs, dim=1)\n",
    "        \n",
    "        loss.backward()\n",
    "        optimizer.step()\n",
    "\n",
    "        total_loss += loss.item()\n",
    "        correct_predictions += (prediction == targets).sum().item()\n",
    "        scheduler.step()\n",
    "\n",
    "    avg_loss = total_loss / len(train_loader)\n",
    "    accuracy = correct_predictions / len(train_loader.dataset)\n",
    "    lr = scheduler.get_last_lr()[0]\n",
    "    print(f\"Epoch {epoch + 1}, Loss: {avg_loss:.6f}, Accuracy: {accuracy:.6f}, learning rate: {lr:.10f}\")\n",
    "    \n",
    "    model.eval()\n",
    "    for batch in tqdm(test_loader, desc=f\"Validation: Epoch {epoch + 1}/{epochs}\"):\n",
    "        input_ids = batch['input_ids'].to(device)\n",
    "        attention_mask = batch['attention_mask'].to(device)\n",
    "        token_type_ids = batch['token_type_ids'].to(device)\n",
    "        targets = batch['targets'].to(device)\n",
    "\n",
    "        outputs = model(input_ids, attention_mask, token_type_ids)\n",
    "        loss = criterion(outputs, targets)\n",
    "        prediction = torch.argmax(outputs, dim=1)\n",
    "        total_val_loss += loss.item()\n",
    "        correct_val_predictions += (prediction == targets).sum().item()     \n",
    "    avg_loss = total_val_loss / len(test_loader)\n",
    "    accuracy = correct_val_predictions / len(test_loader.dataset)\n",
    "    print(f\"Validation {epoch + 1}, Loss: {avg_loss:.6f}, Accuracy: {accuracy:.6f}\")\n",
    "    if lowest_loss > avg_loss:\n",
    "        model_weights_path = f\"./models/roberta_loss_{avg_loss:.6f}.pth\"\n",
    "        tokenizer_path = \"./robertatokenizer/\"\n",
    "        torch.save(model, model_weights_path)\n",
    "        tokenizer.save_pretrained(tokenizer_path)\n",
    "        lowest_loss = avg_loss\n",
    "    \n",
    "\n"
   ]
  },
  {
   "cell_type": "code",
   "execution_count": null,
   "metadata": {},
   "outputs": [],
   "source": [
    "# model_weights_path = \"./models/albert.pth\"\n",
    "# tokenizer_path = \"./alberttokenizer/\"\n",
    "# torch.save(model, model_weights_path)\n",
    "# tokenizer.save_pretrained(tokenizer_path)\n",
    "# model_weights_path = \"./models/roberta.pth\"\n",
    "# tokenizer_path = \"./robertatokenizer/\"\n",
    "# torch.save(model, model_weights_path)\n",
    "# tokenizer.save_pretrained(tokenizer_path)"
   ]
  },
  {
   "cell_type": "code",
   "execution_count": null,
   "metadata": {},
   "outputs": [],
   "source": []
  },
  {
   "cell_type": "code",
   "execution_count": null,
   "metadata": {},
   "outputs": [],
   "source": []
  }
 ],
 "metadata": {
  "kernelspec": {
   "display_name": "discord",
   "language": "python",
   "name": "python3"
  },
  "language_info": {
   "codemirror_mode": {
    "name": "ipython",
    "version": 3
   },
   "file_extension": ".py",
   "mimetype": "text/x-python",
   "name": "python",
   "nbconvert_exporter": "python",
   "pygments_lexer": "ipython3",
   "version": "3.12.3"
  }
 },
 "nbformat": 4,
 "nbformat_minor": 2
}
